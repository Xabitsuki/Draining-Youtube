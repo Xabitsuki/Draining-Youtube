{
 "cells": [
  {
   "cell_type": "markdown",
   "metadata": {},
   "source": [
    "### Download playlist "
   ]
  },
  {
   "cell_type": "code",
   "execution_count": 1,
   "metadata": {},
   "outputs": [],
   "source": [
    "from functions import yt_dl "
   ]
  },
  {
   "cell_type": "code",
   "execution_count": 7,
   "metadata": {
    "scrolled": true
   },
   "outputs": [
    {
     "name": "stdout",
     "output_type": "stream",
     "text": [
      "[youtube:playlist] Downloading playlist PLFLpWaJ49GqMnrE0zDVcdC6heAJYi9CXy - add --no-playlist to just download video ZUYILRgZAYU\n",
      "[youtube:playlist] PLFLpWaJ49GqMnrE0zDVcdC6heAJYi9CXy: Downloading webpage\n",
      "[download] Downloading playlist: Drone Music Videos Playlist\n",
      "[youtube:playlist] playlist Drone Music Videos Playlist: Downloading 4 videos\n",
      "[download] Downloading video 1 of 4\n",
      "[youtube] FZOgy5V9imI: Downloading webpage\n",
      "[youtube] FZOgy5V9imI: Downloading video info webpage\n",
      "[info] Writing video description metadata as JSON to: videos/test_sequential/FZOgy5V9imI/data/FZOgy5V9imI_1920x1080.info.json\n",
      "[download] Destination: videos/test_sequential/FZOgy5V9imI/data/FZOgy5V9imI_1920x1080.f137.mp4\n",
      "[download] 100% of 55.90MiB in 00:0757MiB/s ETA 00:007\n",
      "[download] Destination: videos/test_sequential/FZOgy5V9imI/data/FZOgy5V9imI_1920x1080.f140.m4a\n",
      "[download] 100% of 2.38MiB in 00:0098MiB/s ETA 00:002\n",
      "[ffmpeg] Merging formats into \"videos/test_sequential/FZOgy5V9imI/data/FZOgy5V9imI_1920x1080.mp4\"\n",
      "Deleting original file videos/test_sequential/FZOgy5V9imI/data/FZOgy5V9imI_1920x1080.f137.mp4 (pass -k to keep)\n",
      "Deleting original file videos/test_sequential/FZOgy5V9imI/data/FZOgy5V9imI_1920x1080.f140.m4a (pass -k to keep)\n",
      "[download] Downloading video 2 of 4\n",
      "[youtube] FNPn4aHNKTs: Downloading webpage\n",
      "[youtube] FNPn4aHNKTs: Downloading video info webpage\n",
      "[info] Writing video description metadata as JSON to: videos/test_sequential/FNPn4aHNKTs/data/FNPn4aHNKTs_3840x2160.info.json\n",
      "[download] Destination: videos/test_sequential/FNPn4aHNKTs/data/FNPn4aHNKTs_3840x2160.f313.webm\n",
      "[download] 100% of 424.54MiB in 00:5409MiB/s ETA 00:003408\n",
      "[download] Destination: videos/test_sequential/FNPn4aHNKTs/data/FNPn4aHNKTs_3840x2160.f251.webm\n",
      "[download] 100% of 3.25MiB in 00:0065MiB/s ETA 00:004\n",
      "[ffmpeg] Merging formats into \"videos/test_sequential/FNPn4aHNKTs/data/FNPn4aHNKTs_3840x2160.webm\"\n",
      "Deleting original file videos/test_sequential/FNPn4aHNKTs/data/FNPn4aHNKTs_3840x2160.f313.webm (pass -k to keep)\n",
      "Deleting original file videos/test_sequential/FNPn4aHNKTs/data/FNPn4aHNKTs_3840x2160.f251.webm (pass -k to keep)\n",
      "[download] Downloading video 3 of 4\n",
      "[youtube] ZUYILRgZAYU: Downloading webpage\n",
      "[youtube] ZUYILRgZAYU: Downloading video info webpage\n",
      "[youtube] ZUYILRgZAYU: Downloading js player vflusCuE1\n",
      "[youtube] ZUYILRgZAYU: Downloading MPD manifest\n",
      "[info] Writing video description metadata as JSON to: videos/test_sequential/ZUYILRgZAYU/data/ZUYILRgZAYU_1920x1080.info.json\n",
      "[dashsegments] Total fragments: 66\n",
      "[download] Destination: videos/test_sequential/ZUYILRgZAYU/data/ZUYILRgZAYU_1920x1080.f137.mp4\n",
      "[download] 100% of 173.79MiB in 00:27.78MiB/s ETA 00:00079\n",
      "[dashsegments] Total fragments: 70\n",
      "[download] Destination: videos/test_sequential/ZUYILRgZAYU/data/ZUYILRgZAYU_NA.f140.m4a\n",
      "[download] 100% of 5.22MiB in 00:08.21MiB/s ETA 00:000014\n",
      "[ffmpeg] Merging formats into \"videos/test_sequential/ZUYILRgZAYU/data/ZUYILRgZAYU_1920x1080.mp4\"\n",
      "Deleting original file videos/test_sequential/ZUYILRgZAYU/data/ZUYILRgZAYU_1920x1080.f137.mp4 (pass -k to keep)\n",
      "Deleting original file videos/test_sequential/ZUYILRgZAYU/data/ZUYILRgZAYU_NA.f140.m4a (pass -k to keep)\n",
      "[download] Downloading video 4 of 4\n",
      "[youtube] hRKZO9tnrDE: Downloading webpage\n",
      "[youtube] hRKZO9tnrDE: Downloading video info webpage\n",
      "[info] Writing video description metadata as JSON to: videos/test_sequential/hRKZO9tnrDE/data/hRKZO9tnrDE_3840x2024.info.json\n",
      "[download] Destination: videos/test_sequential/hRKZO9tnrDE/data/hRKZO9tnrDE_3840x2024.f313.webm\n",
      "[download] 100% of 236.65MiB in 00:3949MiB/s ETA 00:003nown ETA\n",
      "[download] Destination: videos/test_sequential/hRKZO9tnrDE/data/hRKZO9tnrDE_3840x2024.f251.webm\n",
      "[download] 100% of 1.90MiB in 00:0086MiB/s ETA 00:001\n",
      "[ffmpeg] Merging formats into \"videos/test_sequential/hRKZO9tnrDE/data/hRKZO9tnrDE_3840x2024.webm\"\n",
      "Deleting original file videos/test_sequential/hRKZO9tnrDE/data/hRKZO9tnrDE_3840x2024.f313.webm (pass -k to keep)\n",
      "Deleting original file videos/test_sequential/hRKZO9tnrDE/data/hRKZO9tnrDE_3840x2024.f251.webm (pass -k to keep)\n",
      "[download] Finished downloading playlist: Drone Music Videos Playlist\n"
     ]
    },
    {
     "data": {
      "text/plain": [
       "'/Users/xrubiato/DHLab/Draining-Youtube/videos/test_sequential/ZUYILRgZAYU&list'"
      ]
     },
     "execution_count": 7,
     "metadata": {},
     "output_type": "execute_result"
    }
   ],
   "source": [
    "url = 'https://www.youtube.com/watch?v=ZUYILRgZAYU&list=PLFLpWaJ49GqMnrE0zDVcdC6heAJYi9CXy'\n",
    "yt_dl(url=url, playlist='test_sequential',format=248, n_items=4)"
   ]
  },
  {
   "cell_type": "markdown",
   "metadata": {},
   "source": [
    "### Test sequential launching "
   ]
  },
  {
   "cell_type": "code",
   "execution_count": 1,
   "metadata": {},
   "outputs": [],
   "source": [
    "%load_ext autoreload\n",
    "%autoreload 2\n",
    "\n",
    "import os\n",
    "\n",
    "from multiprocessing import Manager, Process \n",
    "\n",
    "from master_functions import launching_seq\n",
    " "
   ]
  },
  {
   "cell_type": "code",
   "execution_count": 2,
   "metadata": {},
   "outputs": [
    {
     "data": {
      "text/plain": [
       "['PqyPW-Bdd4E',\n",
       " '.DS_Store',\n",
       " \"World's Best Ever Dronies (Drone Selfies)-FZOgy5V9imI.webm\",\n",
       " 'test_sequential',\n",
       " 'FZOgy5V9imI',\n",
       " 'ftlvreFtA2A0',\n",
       " '9Ax-JrJ06fU']"
      ]
     },
     "execution_count": 2,
     "metadata": {},
     "output_type": "execute_result"
    }
   ],
   "source": [
    "os.listdir('videos')"
   ]
  },
  {
   "cell_type": "code",
   "execution_count": null,
   "metadata": {
    "scrolled": false
   },
   "outputs": [],
   "source": [
    "PLYLST = 'test_sequential'\n",
    "VIDS = ['FZOgy5V9imI']\n",
    "vids_list=[]\n",
    "plylst =''\n",
    "rate=1 \n",
    "cpu_nbr=8 \n",
    "\n",
    "f_frms=False\n",
    "f_ftrs=False\n",
    "f_mtchs=False\n",
    "f_sample=False\n",
    "\n",
    "launching_seq(vids_list=VIDS, f_frms=f_frms, f_ftrs=f_ftrs, f_mtchs=f_mtchs, sample=f_sample)"
   ]
  }
 ],
 "metadata": {
  "kernelspec": {
   "display_name": "Python 3",
   "language": "python",
   "name": "python3"
  },
  "language_info": {
   "codemirror_mode": {
    "name": "ipython",
    "version": 3
   },
   "file_extension": ".py",
   "mimetype": "text/x-python",
   "name": "python",
   "nbconvert_exporter": "python",
   "pygments_lexer": "ipython3",
   "version": "3.6.8"
  },
  "toc": {
   "base_numbering": 1,
   "nav_menu": {},
   "number_sections": true,
   "sideBar": true,
   "skip_h1_title": false,
   "title_cell": "Table of Contents",
   "title_sidebar": "Contents",
   "toc_cell": false,
   "toc_position": {},
   "toc_section_display": true,
   "toc_window_display": false
  },
  "varInspector": {
   "cols": {
    "lenName": 16,
    "lenType": 16,
    "lenVar": 40
   },
   "kernels_config": {
    "python": {
     "delete_cmd_postfix": "",
     "delete_cmd_prefix": "del ",
     "library": "var_list.py",
     "varRefreshCmd": "print(var_dic_list())"
    },
    "r": {
     "delete_cmd_postfix": ") ",
     "delete_cmd_prefix": "rm(",
     "library": "var_list.r",
     "varRefreshCmd": "cat(var_dic_list()) "
    }
   },
   "types_to_exclude": [
    "module",
    "function",
    "builtin_function_or_method",
    "instance",
    "_Feature"
   ],
   "window_display": false
  }
 },
 "nbformat": 4,
 "nbformat_minor": 2
}
