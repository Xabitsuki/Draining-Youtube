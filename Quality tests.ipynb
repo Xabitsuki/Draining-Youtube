{
 "cells": [
  {
   "cell_type": "markdown",
   "metadata": {},
   "source": [
    "## Quality Criteria "
   ]
  },
  {
   "cell_type": "code",
   "execution_count": 1,
   "metadata": {},
   "outputs": [],
   "source": [
    "%load_ext autoreload\n",
    "%autoreload 2"
   ]
  },
  {
   "cell_type": "code",
   "execution_count": 2,
   "metadata": {},
   "outputs": [],
   "source": [
    "import os \n",
    "import json\n",
    "import numpy as np\n",
    "from functions import pth_sfm,openmvg_bin_to_json"
   ]
  },
  {
   "cell_type": "code",
   "execution_count": 3,
   "metadata": {},
   "outputs": [],
   "source": [
    "from master_functions import sfm_pipe"
   ]
  },
  {
   "cell_type": "code",
   "execution_count": 4,
   "metadata": {},
   "outputs": [],
   "source": [
    "#sfm_pipe('/home/dhacker/Draining-Youtube/videos/OKjR_A_u6Ww/sets/set_10', width=3840)"
   ]
  },
  {
   "cell_type": "code",
   "execution_count": 5,
   "metadata": {},
   "outputs": [],
   "source": [
    "path_incr = '/home/dhacker/Draining-Youtube/videos/OKjR_A_u6Ww/sets/set_10/incremental'\n",
    "path_bin = pth_sfm(path_incr)"
   ]
  },
  {
   "cell_type": "code",
   "execution_count": 6,
   "metadata": {},
   "outputs": [
    {
     "data": {
      "text/plain": [
       "'/home/dhacker/Draining-Youtube/videos/OKjR_A_u6Ww/sets/set_10/incremental/sfm_data.bin'"
      ]
     },
     "execution_count": 6,
     "metadata": {},
     "output_type": "execute_result"
    }
   ],
   "source": [
    "path_bin"
   ]
  },
  {
   "cell_type": "code",
   "execution_count": 7,
   "metadata": {},
   "outputs": [],
   "source": [
    "path_json = openmvg_bin_to_json(path_bin)"
   ]
  },
  {
   "cell_type": "code",
   "execution_count": 8,
   "metadata": {},
   "outputs": [],
   "source": [
    "with open(path_json) as json_data:\n",
    "    dic = json.load(json_data)"
   ]
  },
  {
   "cell_type": "code",
   "execution_count": 11,
   "metadata": {
    "scrolled": false
   },
   "outputs": [],
   "source": [
    "vec_list = []\n",
    "n_frms = len(dic['extrinsics'])\n",
    "for frm in dic['extrinsics']: \n",
    "    vec_list.append(frm['value']['center'])\n",
    "vec_mat = np.asarray(vec_list)"
   ]
  },
  {
   "cell_type": "code",
   "execution_count": 12,
   "metadata": {
    "scrolled": false
   },
   "outputs": [
    {
     "data": {
      "text/plain": [
       "array([[-2.25095255e-02,  5.38292275e-02,  5.81505161e-01],\n",
       "       [-2.41436413e-02,  3.44083358e-02,  6.27797358e-01],\n",
       "       [-2.45860558e-02,  1.65526326e-02,  6.70848480e-01],\n",
       "       [-2.47903419e-02, -2.76072177e-03,  7.17082917e-01],\n",
       "       [-2.45499146e-02, -2.17656472e-02,  7.62949545e-01],\n",
       "       [-2.35961732e-02, -4.00245362e-02,  8.06396445e-01],\n",
       "       [-2.25503167e-02, -5.83347190e-02,  8.52209241e-01],\n",
       "       [-2.08986353e-02, -7.62166484e-02,  8.95202408e-01],\n",
       "       [-1.91169762e-02, -9.47497228e-02,  9.40574920e-01],\n",
       "       [-1.73601192e-02, -1.13652973e-01,  9.86254871e-01],\n",
       "       [-1.55719743e-02, -1.31642171e-01,  1.02911644e+00],\n",
       "       [-1.35952753e-02, -1.50493908e-01,  1.07434898e+00],\n",
       "       [-1.18739510e-02, -1.69554771e-01,  1.12000768e+00],\n",
       "       [-1.03306859e-02, -1.87626684e-01,  1.16297518e+00],\n",
       "       [-9.46782240e-03, -2.05952405e-01,  1.20645839e+00],\n",
       "       [-9.03532933e-03, -2.25022310e-01,  1.25235138e+00],\n",
       "       [-8.50857595e-03, -2.43363344e-01,  1.29648589e+00],\n",
       "       [-8.34401021e-03, -2.62411267e-01,  1.34270184e+00],\n",
       "       [-7.84595376e-03, -2.81848798e-01,  1.38944364e+00],\n",
       "       [-6.66138811e-03, -3.00190667e-01,  1.43327239e+00],\n",
       "       [-5.23734497e-03, -3.19883195e-01,  1.48013369e+00],\n",
       "       [-3.80940195e-03, -3.38299343e-01,  1.52421529e+00],\n",
       "       [-2.34436790e-03, -3.57942841e-01,  1.57126466e+00],\n",
       "       [-6.46916858e-04, -3.77621817e-01,  1.61810040e+00],\n",
       "       [ 8.08856709e-04, -3.96231068e-01,  1.66250757e+00],\n",
       "       [ 2.36992088e-03, -4.15872044e-01,  1.70935694e+00],\n",
       "       [ 3.70432679e-03, -4.35622500e-01,  1.75599839e+00]])"
      ]
     },
     "execution_count": 12,
     "metadata": {},
     "output_type": "execute_result"
    }
   ],
   "source": [
    "vec_mat"
   ]
  },
  {
   "cell_type": "code",
   "execution_count": 26,
   "metadata": {},
   "outputs": [],
   "source": [
    "norms = np.asarray([np.linalg.norm(vec) for vec in vec_mat])"
   ]
  },
  {
   "cell_type": "code",
   "execution_count": 31,
   "metadata": {},
   "outputs": [],
   "source": [
    "idx = np.arange(0,len(norms))"
   ]
  },
  {
   "cell_type": "code",
   "execution_count": 30,
   "metadata": {},
   "outputs": [
    {
     "data": {
      "text/plain": [
       "array([0.58442495, 0.62920297, 0.6715029 , 0.71751661, 0.76365467,\n",
       "       0.80773385, 0.85450105, 0.89868408, 0.9455285 , 0.99293355,\n",
       "       1.03761881, 1.08492349, 1.13283142, 1.17805848, 1.22394766,\n",
       "       1.27243886, 1.31915646, 1.36812921, 1.41776371, 1.46438675,\n",
       "       1.51431451, 1.56131137, 1.6115214 , 1.66157984, 1.70907318,\n",
       "       1.75922038, 1.8092294 ])"
      ]
     },
     "execution_count": 30,
     "metadata": {},
     "output_type": "execute_result"
    }
   ],
   "source": [
    "norms "
   ]
  },
  {
   "cell_type": "code",
   "execution_count": 27,
   "metadata": {},
   "outputs": [],
   "source": [
    "from matplotlib import pyplot as plt "
   ]
  },
  {
   "cell_type": "code",
   "execution_count": 32,
   "metadata": {},
   "outputs": [
    {
     "data": {
      "text/plain": [
       "<matplotlib.collections.PathCollection at 0x7fde3a7fb630>"
      ]
     },
     "execution_count": 32,
     "metadata": {},
     "output_type": "execute_result"
    },
    {
     "data": {
      "image/png": "[encoded data removed]",
      "text/plain": [
       "<Figure size 432x288 with 1 Axes>"
      ]
     },
     "metadata": {
      "needs_background": "light"
     },
     "output_type": "display_data"
    }
   ],
   "source": [
    "plt.scatter(x=idx, y=norms)"
   ]
  },
  {
   "cell_type": "code",
   "execution_count": null,
   "metadata": {},
   "outputs": [],
   "source": []
  },
  {
   "cell_type": "markdown",
   "metadata": {},
   "source": [
    "### Failed case "
   ]
  },
  {
   "cell_type": "code",
   "execution_count": 42,
   "metadata": {},
   "outputs": [],
   "source": [
    "path_json = '/home/dhacker/Draining-Youtube/videos/OKjR_A_u6Ww/sets/set_5/sfm_data.json'\n",
    "with open(path_json) as json_data:\n",
    "    dic = json.load(json_data)"
   ]
  },
  {
   "cell_type": "code",
   "execution_count": 48,
   "metadata": {},
   "outputs": [
    {
     "data": {
      "text/plain": [
       "{'key': 0,\n",
       " 'value': {'polymorphic_id': 1073741824,\n",
       "  'ptr_wrapper': {'id': 2147483649,\n",
       "   'data': {'local_path': '',\n",
       "    'filename': 'frame0188.png',\n",
       "    'width': 3840,\n",
       "    'height': 2160,\n",
       "    'id_view': 0,\n",
       "    'id_intrinsic': 0,\n",
       "    'id_pose': 0}}}}"
      ]
     },
     "execution_count": 48,
     "metadata": {},
     "output_type": "execute_result"
    }
   ],
   "source": [
    "dic['views'][0"
   ]
  },
  {
   "cell_type": "markdown",
   "metadata": {},
   "source": [
    "## Find Fails "
   ]
  },
  {
   "cell_type": "code",
   "execution_count": null,
   "metadata": {},
   "outputs": [],
   "source": []
  },
  {
   "cell_type": "code",
   "execution_count": null,
   "metadata": {},
   "outputs": [],
   "source": [
    "%load_ext autoreload\n",
    "%autoreload 2"
   ]
  },
  {
   "cell_type": "code",
   "execution_count": 5,
   "metadata": {},
   "outputs": [],
   "source": [
    "import os \n",
    "from os.path import isfile, join \n",
    "\n",
    "from functions import pth_vids"
   ]
  },
  {
   "cell_type": "code",
   "execution_count": 6,
   "metadata": {},
   "outputs": [],
   "source": [
    "def find_fail_sets(pth_sets_dir): \n",
    "    \n",
    "    aux_pth = 'incremental/sfm_data_color.ply'\n",
    "    \n",
    "    pths_sets = [join(pth_sets_dir, set_) for set_ in os.listdir(pth_sets_dir)]\n",
    "\n",
    "    success_sets = []\n",
    "    fail_sets = []\n",
    "    \n",
    "    for pth in pths_sets:\n",
    "        if isfile(join(pth, aux_pth)): success_sets.append(pth)\n",
    "        else: fail_sets.append(pth)\n",
    "        \n",
    "    return success_sets, fail_sets"
   ]
  },
  {
   "cell_type": "code",
   "execution_count": 7,
   "metadata": {},
   "outputs": [],
   "source": [
    "VID = ['OKjR_A_u6Ww']\n",
    "\n",
    "for v in VID: \n",
    "    pth_sets = join(pth_vids(),v, 'sets')\n",
    "    s_sets, f_sets = find_fail_sets(pth_sets)"
   ]
  },
  {
   "cell_type": "code",
   "execution_count": 8,
   "metadata": {},
   "outputs": [
    {
     "data": {
      "text/plain": [
       "['/home/dhacker/Draining-Youtube/videos/OKjR_A_u6Ww/sets/set_12',\n",
       " '/home/dhacker/Draining-Youtube/videos/OKjR_A_u6Ww/sets/set_5',\n",
       " '/home/dhacker/Draining-Youtube/videos/OKjR_A_u6Ww/sets/set_6',\n",
       " '/home/dhacker/Draining-Youtube/videos/OKjR_A_u6Ww/sets/set_7']"
      ]
     },
     "execution_count": 8,
     "metadata": {},
     "output_type": "execute_result"
    }
   ],
   "source": [
    "f_sets"
   ]
  }
 ],
 "metadata": {
  "kernelspec": {
   "display_name": "Python 3",
   "language": "python",
   "name": "python3"
  },
  "language_info": {
   "codemirror_mode": {
    "name": "ipython",
    "version": 3
   },
   "file_extension": ".py",
   "mimetype": "text/x-python",
   "name": "python",
   "nbconvert_exporter": "python",
   "pygments_lexer": "ipython3",
   "version": "3.7.3"
  },
  "toc": {
   "base_numbering": 1,
   "nav_menu": {},
   "number_sections": true,
   "sideBar": true,
   "skip_h1_title": false,
   "title_cell": "Table of Contents",
   "title_sidebar": "Contents",
   "toc_cell": false,
   "toc_position": {},
   "toc_section_display": true,
   "toc_window_display": false
  },
  "varInspector": {
   "cols": {
    "lenName": 16,
    "lenType": 16,
    "lenVar": 40
   },
   "kernels_config": {
    "python": {
     "delete_cmd_postfix": "",
     "delete_cmd_prefix": "del ",
     "library": "var_list.py",
     "varRefreshCmd": "print(var_dic_list())"
    },
    "r": {
     "delete_cmd_postfix": ") ",
     "delete_cmd_prefix": "rm(",
     "library": "var_list.r",
     "varRefreshCmd": "cat(var_dic_list()) "
    }
   },
   "types_to_exclude": [
    "module",
    "function",
    "builtin_function_or_method",
    "instance",
    "_Feature"
   ],
   "window_display": false
  }
 },
 "nbformat": 4,
 "nbformat_minor": 2
}
