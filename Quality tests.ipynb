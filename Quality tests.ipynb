{
 "cells": [
  {
   "cell_type": "markdown",
   "metadata": {},
   "source": [
    "## Quality Criteria "
   ]
  },
  {
   "cell_type": "code",
   "execution_count": 4,
   "metadata": {},
   "outputs": [
    {
     "name": "stdout",
     "output_type": "stream",
     "text": [
      "The autoreload extension is already loaded. To reload it, use:\n",
      "  %reload_ext autoreload\n"
     ]
    }
   ],
   "source": [
    "%load_ext autoreload\n",
    "%autoreload 2"
   ]
  },
  {
   "cell_type": "code",
   "execution_count": 10,
   "metadata": {},
   "outputs": [],
   "source": [
    "import os \n",
    "import json\n",
    "\n",
    "from functions import openmvg_bin_to_json"
   ]
  },
  {
   "cell_type": "code",
   "execution_count": 8,
   "metadata": {},
   "outputs": [
    {
     "data": {
      "text/plain": [
       "'/Users/xrubiato/DHLab/Draining-Youtube/videos/PqyPW-Bdd4E/sets/set_4/incremental/sfm_data.json'"
      ]
     },
     "execution_count": 8,
     "metadata": {},
     "output_type": "execute_result"
    }
   ],
   "source": [
    "path_bin = '/Users/xrubiato/DHLab/Draining-Youtube/videos/PqyPW-Bdd4E/sets/set_4/incremental/sfm_data.bin'\n",
    "path_json = openmvg_bin_to_json(pth_bin=path_bin)\n",
    "print(path_json)"
   ]
  },
  {
   "cell_type": "code",
   "execution_count": 10,
   "metadata": {},
   "outputs": [],
   "source": [
    "with open(path_json) as json_data:\n",
    "    dic = json.load(json_data)"
   ]
  },
  {
   "cell_type": "markdown",
   "metadata": {},
   "source": [
    "## Find Fails "
   ]
  },
  {
   "cell_type": "code",
   "execution_count": null,
   "metadata": {},
   "outputs": [],
   "source": [
    "%load_ext autoreload\n",
    "%autoreload 2"
   ]
  },
  {
   "cell_type": "code",
   "execution_count": 5,
   "metadata": {},
   "outputs": [],
   "source": [
    "import os \n",
    "from os.path import isfile, join \n",
    "\n",
    "from functions import pth_vids"
   ]
  },
  {
   "cell_type": "code",
   "execution_count": 6,
   "metadata": {},
   "outputs": [],
   "source": [
    "def find_fail_sets(pth_sets_dir): \n",
    "    \n",
    "    aux_pth = 'incremental/sfm_data_color.ply'\n",
    "    \n",
    "    pths_sets = [join(pth_sets_dir, set_) for set_ in os.listdir(pth_sets_dir)]\n",
    "\n",
    "    success_sets = []\n",
    "    fail_sets = []\n",
    "    \n",
    "    for pth in pths_sets:\n",
    "        if isfile(join(pth, aux_pth)): success_sets.append(pth)\n",
    "        else: fail_sets.append(pth)\n",
    "        \n",
    "    return success_sets, fail_sets"
   ]
  },
  {
   "cell_type": "code",
   "execution_count": 7,
   "metadata": {},
   "outputs": [],
   "source": [
    "VID = ['OKjR_A_u6Ww']\n",
    "\n",
    "for v in VID: \n",
    "    pth_sets = join(pth_vids(),v, 'sets')\n",
    "    s_sets, f_sets = find_fail_sets(pth_sets)"
   ]
  },
  {
   "cell_type": "code",
   "execution_count": 8,
   "metadata": {},
   "outputs": [
    {
     "data": {
      "text/plain": [
       "['/home/dhacker/Draining-Youtube/videos/OKjR_A_u6Ww/sets/set_12',\n",
       " '/home/dhacker/Draining-Youtube/videos/OKjR_A_u6Ww/sets/set_5',\n",
       " '/home/dhacker/Draining-Youtube/videos/OKjR_A_u6Ww/sets/set_6',\n",
       " '/home/dhacker/Draining-Youtube/videos/OKjR_A_u6Ww/sets/set_7']"
      ]
     },
     "execution_count": 8,
     "metadata": {},
     "output_type": "execute_result"
    }
   ],
   "source": [
    "f_sets"
   ]
  }
 ],
 "metadata": {
  "kernelspec": {
   "display_name": "Python 3",
   "language": "python",
   "name": "python3"
  },
  "language_info": {
   "codemirror_mode": {
    "name": "ipython",
    "version": 3
   },
   "file_extension": ".py",
   "mimetype": "text/x-python",
   "name": "python",
   "nbconvert_exporter": "python",
   "pygments_lexer": "ipython3",
   "version": "3.7.3"
  },
  "toc": {
   "base_numbering": 1,
   "nav_menu": {},
   "number_sections": true,
   "sideBar": true,
   "skip_h1_title": false,
   "title_cell": "Table of Contents",
   "title_sidebar": "Contents",
   "toc_cell": false,
   "toc_position": {},
   "toc_section_display": true,
   "toc_window_display": false
  },
  "varInspector": {
   "cols": {
    "lenName": 16,
    "lenType": 16,
    "lenVar": 40
   },
   "kernels_config": {
    "python": {
     "delete_cmd_postfix": "",
     "delete_cmd_prefix": "del ",
     "library": "var_list.py",
     "varRefreshCmd": "print(var_dic_list())"
    },
    "r": {
     "delete_cmd_postfix": ") ",
     "delete_cmd_prefix": "rm(",
     "library": "var_list.r",
     "varRefreshCmd": "cat(var_dic_list()) "
    }
   },
   "types_to_exclude": [
    "module",
    "function",
    "builtin_function_or_method",
    "instance",
    "_Feature"
   ],
   "window_display": false
  }
 },
 "nbformat": 4,
 "nbformat_minor": 2
}
