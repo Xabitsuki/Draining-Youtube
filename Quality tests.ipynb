{
 "cells": [
  {
   "cell_type": "markdown",
   "metadata": {},
   "source": [
    "## Quality Criteria "
   ]
  },
  {
   "cell_type": "code",
   "execution_count": 1,
   "metadata": {},
   "outputs": [],
   "source": [
    "%load_ext autoreload\n",
    "%autoreload 2"
   ]
  },
  {
   "cell_type": "code",
   "execution_count": 2,
   "metadata": {},
   "outputs": [],
   "source": [
    "import os \n",
    "import json\n",
    "import numpy as np\n",
    "from functions import openmvg_convert_sfm_data_format"
   ]
  },
  {
   "cell_type": "code",
   "execution_count": 3,
   "metadata": {},
   "outputs": [],
   "source": [
    "v_id = 'OKjR_A_u6Ww_v2'"
   ]
  },
  {
   "cell_type": "code",
   "execution_count": 4,
   "metadata": {},
   "outputs": [],
   "source": [
    "path_incr = '/home/dhacker/Draining-Youtube/videos/OKjR_A_u6Ww_v2/sets/set_7/incremental'\n",
    "path_bin = os.path.join(path_incr, 'sfm_data.bin')"
   ]
  },
  {
   "cell_type": "code",
   "execution_count": 7,
   "metadata": {},
   "outputs": [],
   "source": [
    "def get_vectors(path_incr):\n",
    "    \"\"\"Convert sfm_data.bin to sfm_data.json. \n",
    "       Read the json file and return matrix containing \n",
    "       all the vectors of the frames used in the incremantal reconstruction. \n",
    "       Return n by 3 matrix containing vectors.\"\"\"\n",
    "    \n",
    "    sfm_bin = os.path.join(path_incr, 'sfm_data.bin')\n",
    "    sfm_json = openmvg_convert_sfm_data_format(sfm_bin)\n",
    "    # read json generated file \n",
    "    with open(sfm_json) as json_data:\n",
    "        dic = json.load(json_data)\n",
    "    # get vetcors\n",
    "    vec_list = []\n",
    "    n_frms = len(dic['extrinsics'])\n",
    "    for frm in dic['extrinsics']: \n",
    "        vec_list.append(frm['value']['center'])\n",
    "    vec_mat = np.asarray(vec_list)\n",
    "    return vec_mat"
   ]
  },
  {
   "cell_type": "code",
   "execution_count": 9,
   "metadata": {
    "scrolled": true
   },
   "outputs": [],
   "source": [
    "vectors = get_vectors(path_incr)"
   ]
  },
  {
   "cell_type": "code",
   "execution_count": null,
   "metadata": {},
   "outputs": [],
   "source": []
  },
  {
   "cell_type": "code",
   "execution_count": null,
   "metadata": {},
   "outputs": [],
   "source": [
    "norms = np.asarray([np.linalg.norm(vec) for vec in vec_mat])"
   ]
  },
  {
   "cell_type": "code",
   "execution_count": null,
   "metadata": {},
   "outputs": [],
   "source": [
    "idx = np.arange(0,len(norms))"
   ]
  },
  {
   "cell_type": "code",
   "execution_count": null,
   "metadata": {},
   "outputs": [],
   "source": [
    "norms "
   ]
  },
  {
   "cell_type": "code",
   "execution_count": null,
   "metadata": {},
   "outputs": [],
   "source": [
    "from matplotlib import pyplot as plt "
   ]
  },
  {
   "cell_type": "code",
   "execution_count": null,
   "metadata": {},
   "outputs": [],
   "source": [
    "plt.scatter(x=idx, y=norms)"
   ]
  },
  {
   "cell_type": "code",
   "execution_count": null,
   "metadata": {},
   "outputs": [],
   "source": []
  },
  {
   "cell_type": "markdown",
   "metadata": {},
   "source": [
    "### Failed case "
   ]
  },
  {
   "cell_type": "code",
   "execution_count": null,
   "metadata": {},
   "outputs": [],
   "source": [
    "path_json = '/home/dhacker/Draining-Youtube/videos/OKjR_A_u6Ww/sets/set_5/sfm_data.json'\n",
    "with open(path_json) as json_data:\n",
    "    dic = json.load(json_data)"
   ]
  },
  {
   "cell_type": "code",
   "execution_count": null,
   "metadata": {},
   "outputs": [],
   "source": [
    "dic['views'][0"
   ]
  },
  {
   "cell_type": "markdown",
   "metadata": {},
   "source": [
    "## Find Fails "
   ]
  },
  {
   "cell_type": "code",
   "execution_count": null,
   "metadata": {},
   "outputs": [],
   "source": []
  },
  {
   "cell_type": "code",
   "execution_count": null,
   "metadata": {},
   "outputs": [],
   "source": [
    "%load_ext autoreload\n",
    "%autoreload 2"
   ]
  },
  {
   "cell_type": "code",
   "execution_count": null,
   "metadata": {},
   "outputs": [],
   "source": [
    "import os \n",
    "from os.path import isfile, join \n",
    "\n",
    "from functions import pth_vids"
   ]
  },
  {
   "cell_type": "code",
   "execution_count": null,
   "metadata": {},
   "outputs": [],
   "source": [
    "def find_fail_sets(pth_sets_dir): \n",
    "    \n",
    "    aux_pth = 'incremental/sfm_data_color.ply'\n",
    "    \n",
    "    pths_sets = [join(pth_sets_dir, set_) for set_ in os.listdir(pth_sets_dir)]\n",
    "\n",
    "    success_sets = []\n",
    "    fail_sets = []\n",
    "    \n",
    "    for pth in pths_sets:\n",
    "        if isfile(join(pth, aux_pth)): success_sets.append(pth)\n",
    "        else: fail_sets.append(pth)\n",
    "        \n",
    "    return success_sets, fail_sets"
   ]
  },
  {
   "cell_type": "code",
   "execution_count": null,
   "metadata": {},
   "outputs": [],
   "source": [
    "VID = ['OKjR_A_u6Ww']\n",
    "\n",
    "for v in VID: \n",
    "    pth_sets = join(pth_vids(),v, 'sets')\n",
    "    s_sets, f_sets = find_fail_sets(pth_sets)"
   ]
  },
  {
   "cell_type": "code",
   "execution_count": null,
   "metadata": {},
   "outputs": [],
   "source": [
    "f_sets"
   ]
  }
 ],
 "metadata": {
  "kernelspec": {
   "display_name": "Python 3",
   "language": "python",
   "name": "python3"
  },
  "language_info": {
   "codemirror_mode": {
    "name": "ipython",
    "version": 3
   },
   "file_extension": ".py",
   "mimetype": "text/x-python",
   "name": "python",
   "nbconvert_exporter": "python",
   "pygments_lexer": "ipython3",
   "version": "3.7.3"
  },
  "toc": {
   "base_numbering": 1,
   "nav_menu": {},
   "number_sections": true,
   "sideBar": true,
   "skip_h1_title": false,
   "title_cell": "Table of Contents",
   "title_sidebar": "Contents",
   "toc_cell": false,
   "toc_position": {},
   "toc_section_display": true,
   "toc_window_display": false
  },
  "varInspector": {
   "cols": {
    "lenName": 16,
    "lenType": 16,
    "lenVar": 40
   },
   "kernels_config": {
    "python": {
     "delete_cmd_postfix": "",
     "delete_cmd_prefix": "del ",
     "library": "var_list.py",
     "varRefreshCmd": "print(var_dic_list())"
    },
    "r": {
     "delete_cmd_postfix": ") ",
     "delete_cmd_prefix": "rm(",
     "library": "var_list.r",
     "varRefreshCmd": "cat(var_dic_list()) "
    }
   },
   "types_to_exclude": [
    "module",
    "function",
    "builtin_function_or_method",
    "instance",
    "_Feature"
   ],
   "window_display": false
  }
 },
 "nbformat": 4,
 "nbformat_minor": 2
}
