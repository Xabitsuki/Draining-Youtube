{
 "cells": [
  {
   "cell_type": "code",
   "execution_count": null,
   "metadata": {
    "code_folding": []
   },
   "outputs": [],
   "source": [
    "class Worker:\n",
    "\n",
    "    def __init__(self, Q):\n",
    "        self.Q = Q\n",
    "\n",
    "\n",
    "    def Qiter0(self, args):\n",
    "        \"\"\"Performs iter0() and enqueues an sfm_pipe process with the generated sets.\"\"\"\n",
    "        path_set_dir, width = iter0(*args)\n",
    "        pth_sets = [os.path.join(path_set_dir, el) for el in os.listdir(path_set_dir)]\n",
    "        print(width)\n",
    "        # Enqueue next tasks\n",
    "        for pth_set in pth_sets:\n",
    "            args = (pth_set, width)\n",
    "            self.Q.put(('sfm_pipe', args))\n",
    "\n",
    "\n",
    "    def sfm_pipe(self, args):\n",
    "        sfm_pipe(*args)\n",
    "\n",
    "\n",
    "    def work(self, func, args):\n",
    "\n",
    "        if func == 'Qiter0':\n",
    "            self.Qiter0(args)\n",
    "\n",
    "        elif func == 'sfm_pipe':\n",
    "            self.sfm_pipe(args)\n",
    "\n",
    "def worker_exec(Q, wip_l):\n",
    "   \n",
    "    # instanciate worker \n",
    "    worker = Worker(Q)\n",
    "    \n",
    "    # get task and append to wip list \n",
    "    func, args = Q.get()\n",
    "    wip_l.append(func)\n",
    "    worker.work(func, args)\n",
    "    # remove from list after it finishes \n",
    "    wip_l.remove(func)\n",
    "\n",
    "def drain(rate, f_frms, f_ftrs, f_mtchs, sample,\n",
    "           plylsts=[], vids=[]):\n",
    "    # Enqueue Qiter0 tasks:\n",
    "    Q = Queue()\n",
    "    \n",
    "    manager = Manager()\n",
    "    wip_l = manager.list()\n",
    "    \n",
    "    for plylst in plylsts:\n",
    "        for v_id in os.listdir(pth_plylst(plylst)):\n",
    "            args = (pth_vid(v_id, plylst),\n",
    "                    rate, f_frms, f_ftrs, f_mtchs, sample)\n",
    "            Q.put(('Qiter0', args))\n",
    "\n",
    "    for v_id in vids:\n",
    "            print('appending job from vids :{}'.format(v_id))\n",
    "            args = (pth_vid(v_id),\n",
    "                    rate, f_frms, f_ftrs, f_mtchs, sample)\n",
    "            Q.put(('Qiter0', args))\n",
    "                  \n",
    "    while True:  \n",
    "        if not Q.empty():\n",
    "            \n",
    "            p = Process(target=worker_exec, args=(Q, wip_l))\n",
    "            p.start()\n",
    "        \n",
    "        else: \n",
    "            if len(wip_l) == 0:\n",
    "                print('Finish Draining')\n",
    "                break "
   ]
  },
  {
   "cell_type": "code",
   "execution_count": 54,
   "metadata": {
    "code_folding": [],
    "scrolled": true
   },
   "outputs": [],
   "source": [
    "def drain(rate, f_frms, f_ftrs, f_mtchs, sample,\n",
    "           plylsts=[], vids=[]):\n",
    "    # Enqueue Qiter0 tasks:\n",
    "    Q = Queue()\n",
    "    \n",
    "    manager = Manager()\n",
    "    wip_l = manager.list()\n",
    "    \n",
    "    for plylst in plylsts:\n",
    "        for v_id in os.listdir(pth_plylst(plylst)):\n",
    "            args = (pth_vid(v_id, plylst),\n",
    "                    rate, f_frms, f_ftrs, f_mtchs, sample)\n",
    "            Q.put(('Qiter0', args))\n",
    "\n",
    "    for v_id in vids:\n",
    "            \n",
    "            args = (pth_vid(v_id),\n",
    "                    rate, f_frms, f_ftrs, f_mtchs, sample)\n",
    "            print(args)\n",
    "            Q.put(('Qiter0', args))\n",
    "            print(Q.empty())\n",
    "                  \n",
    "    while True:  \n",
    "        if not Q.empty():\n",
    "            p = Process(target=worker_exec, args=(Q, wip_l))\n",
    "            p.start()\n",
    "        \n",
    "        else: \n",
    "            if len(wip_l) == 0:\n",
    "                print('break')\n",
    "                break "
   ]
  },
  {
   "cell_type": "code",
   "execution_count": null,
   "metadata": {},
   "outputs": [
    {
     "name": "stdout",
     "output_type": "stream",
     "text": [
      "('/home/dhacker/Draining-Youtube/videos/OKjR_A_u6Ww', 2, True, True, True, False)\n",
      "True\n",
      "wesh\n",
      "wesh\n"
     ]
    }
   ],
   "source": [
    "rate = 2\n",
    "sample = False\n",
    "f_frms  = f_ftrs = f_mtchs = True\n",
    "PLYLST = []\n",
    "VIDS = ['OKjR_A_u6Ww']\n",
    "\n",
    "drain(rate, f_frms, f_ftrs, f_mtchs, sample,\n",
    "      plylsts=PLYLST, vids=VIDS)"
   ]
  },
  {
   "cell_type": "markdown",
   "metadata": {},
   "source": [
    "## DHLab Execution "
   ]
  },
  {
   "cell_type": "code",
   "execution_count": 36,
   "metadata": {},
   "outputs": [
    {
     "name": "stdout",
     "output_type": "stream",
     "text": [
      "The autoreload extension is already loaded. To reload it, use:\n",
      "  %reload_ext autoreload\n"
     ]
    }
   ],
   "source": [
    "%load_ext autoreload\n",
    "%autoreload 2"
   ]
  },
  {
   "cell_type": "code",
   "execution_count": 37,
   "metadata": {},
   "outputs": [],
   "source": [
    "import os \n",
    "from multiprocessing import Process, Queue, Manager\n",
    "from functions import * \n",
    "from master_functions import iter0, sfm_pipe"
   ]
  },
  {
   "cell_type": "code",
   "execution_count": 40,
   "metadata": {
    "scrolled": true
   },
   "outputs": [
    {
     "name": "stdout",
     "output_type": "stream",
     "text": [
      "[youtube] OKjR_A_u6Ww: Downloading webpage\n",
      "[youtube] OKjR_A_u6Ww: Downloading video info webpage\n",
      "[youtube] Downloading just video OKjR_A_u6Ww because of --no-playlist\n"
     ]
    },
    {
     "name": "stderr",
     "output_type": "stream",
     "text": [
      "WARNING: unable to extract channel id; please report this issue on https://yt-dl.org/bug . Make sure you are using the latest version; see  https://yt-dl.org/update  on how to update. Be sure to call youtube-dl with the --verbose flag and include its complete output.\n"
     ]
    },
    {
     "name": "stdout",
     "output_type": "stream",
     "text": [
      "[info] Writing video description metadata as JSON to: videos/OKjR_A_u6Ww/data/OKjR_A_u6Ww_3840x2160.info.json\n",
      "[download] Destination: videos/OKjR_A_u6Ww/data/OKjR_A_u6Ww_3840x2160.f313.webm\n",
      "[download] 100% of 458.89MiB in 00:1144MiB/s ETA 00:00known ETA\n",
      "[download] Destination: videos/OKjR_A_u6Ww/data/OKjR_A_u6Ww_3840x2160.f251.webm\n",
      "[download] 100% of 3.90MiB in 00:0055MiB/s ETA 00:00known ETA\n",
      "[ffmpeg] Merging formats into \"videos/OKjR_A_u6Ww/data/OKjR_A_u6Ww_3840x2160.webm\"\n",
      "Deleting original file videos/OKjR_A_u6Ww/data/OKjR_A_u6Ww_3840x2160.f313.webm (pass -k to keep)\n",
      "Deleting original file videos/OKjR_A_u6Ww/data/OKjR_A_u6Ww_3840x2160.f251.webm (pass -k to keep)\n"
     ]
    }
   ],
   "source": [
    "# new york drone views\n",
    "\n",
    "url = 'https://www.youtube.com/watch?v=OKjR_A_u6Ww'\n",
    "\n",
    "yt_dl(url)"
   ]
  }
 ],
 "metadata": {
  "kernelspec": {
   "display_name": "Python 3",
   "language": "python",
   "name": "python3"
  },
  "language_info": {
   "codemirror_mode": {
    "name": "ipython",
    "version": 3
   },
   "file_extension": ".py",
   "mimetype": "text/x-python",
   "name": "python",
   "nbconvert_exporter": "python",
   "pygments_lexer": "ipython3",
   "version": "3.7.3"
  },
  "toc": {
   "base_numbering": 1,
   "nav_menu": {},
   "number_sections": true,
   "sideBar": true,
   "skip_h1_title": false,
   "title_cell": "Table of Contents",
   "title_sidebar": "Contents",
   "toc_cell": false,
   "toc_position": {},
   "toc_section_display": true,
   "toc_window_display": false
  },
  "varInspector": {
   "cols": {
    "lenName": 16,
    "lenType": 16,
    "lenVar": 40
   },
   "kernels_config": {
    "python": {
     "delete_cmd_postfix": "",
     "delete_cmd_prefix": "del ",
     "library": "var_list.py",
     "varRefreshCmd": "print(var_dic_list())"
    },
    "r": {
     "delete_cmd_postfix": ") ",
     "delete_cmd_prefix": "rm(",
     "library": "var_list.r",
     "varRefreshCmd": "cat(var_dic_list()) "
    }
   },
   "types_to_exclude": [
    "module",
    "function",
    "builtin_function_or_method",
    "instance",
    "_Feature"
   ],
   "window_display": false
  }
 },
 "nbformat": 4,
 "nbformat_minor": 2
}
