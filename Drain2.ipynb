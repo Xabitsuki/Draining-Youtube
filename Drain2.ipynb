{
 "cells": [
  {
   "cell_type": "code",
   "execution_count": 1,
   "metadata": {},
   "outputs": [],
   "source": [
    "%load_ext autoreload\n",
    "%autoreload 2"
   ]
  },
  {
   "cell_type": "code",
   "execution_count": 21,
   "metadata": {},
   "outputs": [],
   "source": [
    "import os \n",
    "from time import sleep\n",
    "from multiprocessing import Queue, Manager, Process\n",
    "\n",
    "from functions import yt_dl, pth_vids, pth_vid\n",
    "from master_functions import iter0, sfm_pipe "
   ]
  },
  {
   "cell_type": "code",
   "execution_count": 19,
   "metadata": {
    "code_folding": []
   },
   "outputs": [],
   "source": [
    "def master_iter0(args):\n",
    "\n",
    "    \"\"\"Performs iter0() and launch sfm_pipe processes with \n",
    "    the generated sets.\"\"\"\n",
    "    \n",
    "    path_set_dir, width = iter0(*args)\n",
    "    pth_sets = [os.path.join(path_set_dir, el) for el in os.listdir(path_set_dir)]\n",
    "    # start new process\n",
    "    for pth_set in pth_sets:\n",
    "        args = (pth_set, width)\n",
    "        Process(target=sfm_pipe, args=args).start()\n",
    "\n",
    "def launching(rate, f_frms, f_ftrs, f_mtchs, sample, plylsts=[], vids=[]):\n",
    "    \n",
    "    for plylst in plylsts:\n",
    "        for v_id in os.listdir(pth_plylst(plylst)):\n",
    "            args = (pth_vid(v_id, plylst), rate,f_frms, f_ftrs, f_mtchs, sample)\n",
    "            Process(target=master_iter0, args=args).start()\n",
    "\n",
    "    for v_id in vids:\n",
    "        args = (pth_vid(v_id), rate, f_frms, f_ftrs, f_mtchs, sample)\n",
    "        Process(target=master_iter0, args=(args,)).start()\n",
    "                  \n",
    "def drain(rate, f_frms, f_ftrs, f_mtchs, sample, plylsts=[], vids=[]):\n",
    "    \n",
    "    print('Start Draining')\n",
    "    execution = Process(target=launching, args=(rate, f_frms, f_ftrs, f_mtchs, sample, plylsts, vids))\n",
    "    execution.start()\n",
    "    execution.join()\n",
    "    print('Finish Draining')"
   ]
  },
  {
   "cell_type": "code",
   "execution_count": 20,
   "metadata": {
    "scrolled": true
   },
   "outputs": [
    {
     "name": "stdout",
     "output_type": "stream",
     "text": [
      "Start Draining\n"
     ]
    },
    {
     "name": "stderr",
     "output_type": "stream",
     "text": [
      "Process Process-6:2:\n",
      "Traceback (most recent call last):\n",
      "  File \"/Users/xrubiato/anaconda3/lib/python3.6/multiprocessing/process.py\", line 258, in _bootstrap\n",
      "    self.run()\n",
      "  File \"/Users/xrubiato/anaconda3/lib/python3.6/multiprocessing/process.py\", line 93, in run\n",
      "    self._target(*self._args, **self._kwargs)\n",
      "  File \"<ipython-input-19-b49d0d5958e8>\", line 6, in master_iter0\n",
      "    path_set_dir, width = iter0(*args)\n",
      "  File \"/Users/xrubiato/DHLab/Draining-Youtube/master_functions.py\", line 42, in iter0\n",
      "    xtrct_frame(v_id, plylst, sample, rate)\n",
      "  File \"/Users/xrubiato/DHLab/Draining-Youtube/functions.py\", line 189, in xtrct_frame\n",
      "    make_dir(path_frames)\n",
      "  File \"/Users/xrubiato/DHLab/Draining-Youtube/functions.py\", line 42, in make_dir\n",
      "    os.mkdir(pth_dir)\n",
      "FileNotFoundError: [Errno 2] No such file or directory: '/Users/xrubiato/DHLab/Draining-Youtube/videos/.DS_Store/frames'\n",
      "Process Process-6:1:1:\n",
      "Traceback (most recent call last):\n",
      "  File \"/Users/xrubiato/anaconda3/lib/python3.6/multiprocessing/process.py\", line 258, in _bootstrap\n",
      "    self.run()\n",
      "  File \"/Users/xrubiato/anaconda3/lib/python3.6/multiprocessing/process.py\", line 93, in run\n",
      "    self._target(*self._args, **self._kwargs)\n",
      "  File \"/Users/xrubiato/DHLab/Draining-Youtube/master_functions.py\", line 97, in sfm_pipe\n",
      "    openmvg_colors(pth_incr=path_incr)\n",
      "  File \"/Users/xrubiato/DHLab/Draining-Youtube/functions.py\", line 255, in openmvg_colors\n",
      "    path_sfm = pth_sfm(pth=pth_incr)\n",
      "  File \"/Users/xrubiato/DHLab/Draining-Youtube/functions.py\", line 115, in pth_sfm\n",
      "    sfm = [el for el in os.listdir(pth) if el.startswith('sfm_')][0]  # Todo exceptions needed\n",
      "IndexError: list index out of range\n",
      "Process Process-6:4:2:\n",
      "Traceback (most recent call last):\n",
      "  File \"/Users/xrubiato/anaconda3/lib/python3.6/multiprocessing/process.py\", line 258, in _bootstrap\n",
      "    self.run()\n",
      "  File \"/Users/xrubiato/anaconda3/lib/python3.6/multiprocessing/process.py\", line 93, in run\n",
      "    self._target(*self._args, **self._kwargs)\n",
      "  File \"/Users/xrubiato/DHLab/Draining-Youtube/master_functions.py\", line 97, in sfm_pipe\n",
      "    openmvg_colors(pth_incr=path_incr)\n",
      "  File \"/Users/xrubiato/DHLab/Draining-Youtube/functions.py\", line 255, in openmvg_colors\n",
      "    path_sfm = pth_sfm(pth=pth_incr)\n",
      "  File \"/Users/xrubiato/DHLab/Draining-Youtube/functions.py\", line 115, in pth_sfm\n",
      "    sfm = [el for el in os.listdir(pth) if el.startswith('sfm_')][0]  # Todo exceptions needed\n",
      "IndexError: list index out of range\n",
      "Process Process-6:4:6:\n",
      "Traceback (most recent call last):\n",
      "  File \"/Users/xrubiato/anaconda3/lib/python3.6/multiprocessing/process.py\", line 258, in _bootstrap\n",
      "    self.run()\n",
      "  File \"/Users/xrubiato/anaconda3/lib/python3.6/multiprocessing/process.py\", line 93, in run\n",
      "    self._target(*self._args, **self._kwargs)\n",
      "  File \"/Users/xrubiato/DHLab/Draining-Youtube/master_functions.py\", line 97, in sfm_pipe\n",
      "    openmvg_colors(pth_incr=path_incr)\n",
      "  File \"/Users/xrubiato/DHLab/Draining-Youtube/functions.py\", line 255, in openmvg_colors\n",
      "    path_sfm = pth_sfm(pth=pth_incr)\n",
      "  File \"/Users/xrubiato/DHLab/Draining-Youtube/functions.py\", line 115, in pth_sfm\n",
      "    sfm = [el for el in os.listdir(pth) if el.startswith('sfm_')][0]  # Todo exceptions needed\n",
      "IndexError: list index out of range\n"
     ]
    },
    {
     "name": "stdout",
     "output_type": "stream",
     "text": [
      "Finish Draining\n"
     ]
    }
   ],
   "source": [
    "rate = 2\n",
    "sample = True \n",
    "f_frms  = f_ftrs = f_mtchs = True\n",
    "PLYLST = []\n",
    "\n",
    "VIDS = os.listdir(pth_vids())\n",
    "\n",
    "drain(rate, f_frms, f_ftrs, f_mtchs, sample,\n",
    "      plylsts=PLYLST, vids=VIDS)"
   ]
  },
  {
   "cell_type": "code",
   "execution_count": null,
   "metadata": {
    "scrolled": false
   },
   "outputs": [],
   "source": [
    "yt_dl('https://www.youtube.com/watch?v=b3dMHvxGIKY')"
   ]
  },
  {
   "cell_type": "markdown",
   "metadata": {},
   "source": [
    "### Test "
   ]
  },
  {
   "cell_type": "code",
   "execution_count": 9,
   "metadata": {},
   "outputs": [],
   "source": [
    "def f2(): \n",
    "    sleep(3)\n",
    "    print('f2')\n",
    "def f1(): \n",
    "    print('start f1')\n",
    "    Process(target=f2, args=()).start()\n",
    "    print('finish f1')"
   ]
  },
  {
   "cell_type": "code",
   "execution_count": 12,
   "metadata": {},
   "outputs": [
    {
     "name": "stdout",
     "output_type": "stream",
     "text": [
      "start f1\n",
      "finish f1\n",
      "f2\n"
     ]
    }
   ],
   "source": [
    "p = Process(target=f1, args=())\n",
    "p.start()\n",
    "p.join()"
   ]
  },
  {
   "cell_type": "markdown",
   "metadata": {
    "heading_collapsed": true
   },
   "source": [
    "## Archive "
   ]
  },
  {
   "cell_type": "code",
   "execution_count": null,
   "metadata": {
    "hidden": true
   },
   "outputs": [],
   "source": [
    "class Worker:\n",
    "\n",
    "    def __init__(self, Q):\n",
    "        self.Q = Q\n",
    "\n",
    "\n",
    "    def Qiter0(self, args):\n",
    "        \"\"\"Performs iter0() and enqueues an sfm_pipe process with the generated sets.\"\"\"\n",
    "        path_set_dir, width = iter0(*args)\n",
    "        pth_sets = [os.path.join(path_set_dir, el) for el in os.listdir(path_set_dir)]\n",
    "        print(width)\n",
    "        # Enqueue next tasks\n",
    "        for pth_set in pth_sets:\n",
    "            args = (pth_set, width)\n",
    "            self.Q.put(('sfm_pipe', args))\n",
    "\n",
    "\n",
    "    def sfm_pipe(self, args):\n",
    "        sfm_pipe(*args)\n",
    "\n",
    "\n",
    "    def work(self, func, args):\n",
    "\n",
    "        if func == 'Qiter0':\n",
    "            self.Qiter0(args)\n",
    "\n",
    "        elif func == 'sfm_pipe':\n",
    "            self.sfm_pipe(args)\n",
    "\n",
    "            \n",
    "def worker_exec(Q, wip_l):\n",
    "    \n",
    "    func, args = Q.get()\n",
    "    # append to wip list \n",
    "    wip_l.append(func)\n",
    "    \n",
    "    # instanciate worker \n",
    "    worker = Worker(Q)\n",
    "    worker.work(func, args)\n",
    "    # remove from list after it finishes \n",
    "    wip_l.remove(func)\n",
    "\n",
    "    \n",
    "def drain(rate, f_frms, f_ftrs, f_mtchs, sample,\n",
    "           plylsts=[], vids=[]):\n",
    "    \n",
    "    Q = Queue()\n",
    "    manager = Manager()\n",
    "    wip_l = manager.list()\n",
    "    \n",
    "    for plylst in plylsts:\n",
    "        for v_id in os.listdir(pth_plylst(plylst)):\n",
    "            \n",
    "            args = (pth_vid(v_id, plylst), rate, f_frms, f_ftrs, f_mtchs, sample)\n",
    "            Q.put(('Qiter0', args))\n",
    "\n",
    "    for v_id in vids:\n",
    "            \n",
    "            args = (pth_vid(v_id), rate, f_frms, f_ftrs, f_mtchs, sample)\n",
    "            Q.put(('Qiter0', args))\n",
    "                  \n",
    "    while True:\n",
    "        \n",
    "        if not Q.empty():\n",
    "            Process(target=worker_exec, args=(Q, wip_l)).start()\n",
    "            sleep(0.5)\n",
    "        \n",
    "        else: \n",
    "            if len(wip_l) == 0:\n",
    "                print('Finish Draining')\n",
    "                break "
   ]
  }
 ],
 "metadata": {
  "kernelspec": {
   "display_name": "Python 3",
   "language": "python",
   "name": "python3"
  },
  "language_info": {
   "codemirror_mode": {
    "name": "ipython",
    "version": 3
   },
   "file_extension": ".py",
   "mimetype": "text/x-python",
   "name": "python",
   "nbconvert_exporter": "python",
   "pygments_lexer": "ipython3",
   "version": "3.6.8"
  },
  "toc": {
   "base_numbering": 1,
   "nav_menu": {},
   "number_sections": true,
   "sideBar": true,
   "skip_h1_title": false,
   "title_cell": "Table of Contents",
   "title_sidebar": "Contents",
   "toc_cell": false,
   "toc_position": {},
   "toc_section_display": true,
   "toc_window_display": false
  },
  "varInspector": {
   "cols": {
    "lenName": 16,
    "lenType": 16,
    "lenVar": 40
   },
   "kernels_config": {
    "python": {
     "delete_cmd_postfix": "",
     "delete_cmd_prefix": "del ",
     "library": "var_list.py",
     "varRefreshCmd": "print(var_dic_list())"
    },
    "r": {
     "delete_cmd_postfix": ") ",
     "delete_cmd_prefix": "rm(",
     "library": "var_list.r",
     "varRefreshCmd": "cat(var_dic_list()) "
    }
   },
   "types_to_exclude": [
    "module",
    "function",
    "builtin_function_or_method",
    "instance",
    "_Feature"
   ],
   "window_display": false
  }
 },
 "nbformat": 4,
 "nbformat_minor": 2
}
