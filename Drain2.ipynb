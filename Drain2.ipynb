{
 "cells": [
  {
   "cell_type": "code",
   "execution_count": 1,
   "metadata": {},
   "outputs": [],
   "source": [
    "%load_ext autoreload\n",
    "%autoreload 2"
   ]
  },
  {
   "cell_type": "code",
   "execution_count": 72,
   "metadata": {},
   "outputs": [],
   "source": [
    "import os \n",
    "from time import sleep\n",
    "from multiprocessing import Queue, Manager, Process\n",
    "\n",
    "from functions import yt_dl, pth_vids, pth_vid\n",
    "from master_functions import iter0, sfm_pipe "
   ]
  },
  {
   "cell_type": "code",
   "execution_count": 19,
   "metadata": {
    "code_folding": []
   },
   "outputs": [],
   "source": [
    "def master_iter0(args):\n",
    "\n",
    "    \"\"\"Performs iter0() and launch sfm_pipe processes with \n",
    "    the generated sets.\"\"\"\n",
    "    \n",
    "    path_set_dir, width = iter0(*args)\n",
    "    pth_sets = [os.path.join(path_set_dir, el) for el in os.listdir(path_set_dir)]\n",
    "    # start new process\n",
    "    for pth_set in pth_sets:\n",
    "        args = (pth_set, width)\n",
    "        Process(target=sfm_pipe, args=args).start()\n",
    "\n",
    "def launching(rate, f_frms, f_ftrs, f_mtchs, sample, plylsts=[], vids=[]):\n",
    "    \n",
    "    for plylst in plylsts:\n",
    "        for v_id in os.listdir(pth_plylst(plylst)):\n",
    "            args = (pth_vid(v_id, plylst), rate,f_frms, f_ftrs, f_mtchs, sample)\n",
    "            Process(target=master_iter0, args=args).start()\n",
    "\n",
    "    for v_id in vids:\n",
    "        args = (pth_vid(v_id), rate, f_frms, f_ftrs, f_mtchs, sample)\n",
    "        Process(target=master_iter0, args=(args,)).start()\n",
    "                  \n",
    "def drain(rate, f_frms, f_ftrs, f_mtchs, sample, plylsts=[], vids=[]):\n",
    "    \n",
    "    print('Start Draining')\n",
    "    execution = Process(target=launching, args=(rate, f_frms, f_ftrs, f_mtchs, sample, plylsts, vids))\n",
    "    execution.start()\n",
    "    execution.join()\n",
    "    print('Finish Draining')"
   ]
  },
  {
   "cell_type": "code",
   "execution_count": 20,
   "metadata": {
    "scrolled": true
   },
   "outputs": [
    {
     "name": "stdout",
     "output_type": "stream",
     "text": [
      "Start Draining\n"
     ]
    },
    {
     "name": "stderr",
     "output_type": "stream",
     "text": [
      "Process Process-6:2:\n",
      "Traceback (most recent call last):\n",
      "  File \"/Users/xrubiato/anaconda3/lib/python3.6/multiprocessing/process.py\", line 258, in _bootstrap\n",
      "    self.run()\n",
      "  File \"/Users/xrubiato/anaconda3/lib/python3.6/multiprocessing/process.py\", line 93, in run\n",
      "    self._target(*self._args, **self._kwargs)\n",
      "  File \"<ipython-input-19-b49d0d5958e8>\", line 6, in master_iter0\n",
      "    path_set_dir, width = iter0(*args)\n",
      "  File \"/Users/xrubiato/DHLab/Draining-Youtube/master_functions.py\", line 42, in iter0\n",
      "    xtrct_frame(v_id, plylst, sample, rate)\n",
      "  File \"/Users/xrubiato/DHLab/Draining-Youtube/functions.py\", line 189, in xtrct_frame\n",
      "    make_dir(path_frames)\n",
      "  File \"/Users/xrubiato/DHLab/Draining-Youtube/functions.py\", line 42, in make_dir\n",
      "    os.mkdir(pth_dir)\n",
      "FileNotFoundError: [Errno 2] No such file or directory: '/Users/xrubiato/DHLab/Draining-Youtube/videos/.DS_Store/frames'\n",
      "Process Process-6:1:1:\n",
      "Traceback (most recent call last):\n",
      "  File \"/Users/xrubiato/anaconda3/lib/python3.6/multiprocessing/process.py\", line 258, in _bootstrap\n",
      "    self.run()\n",
      "  File \"/Users/xrubiato/anaconda3/lib/python3.6/multiprocessing/process.py\", line 93, in run\n",
      "    self._target(*self._args, **self._kwargs)\n",
      "  File \"/Users/xrubiato/DHLab/Draining-Youtube/master_functions.py\", line 97, in sfm_pipe\n",
      "    openmvg_colors(pth_incr=path_incr)\n",
      "  File \"/Users/xrubiato/DHLab/Draining-Youtube/functions.py\", line 255, in openmvg_colors\n",
      "    path_sfm = pth_sfm(pth=pth_incr)\n",
      "  File \"/Users/xrubiato/DHLab/Draining-Youtube/functions.py\", line 115, in pth_sfm\n",
      "    sfm = [el for el in os.listdir(pth) if el.startswith('sfm_')][0]  # Todo exceptions needed\n",
      "IndexError: list index out of range\n",
      "Process Process-6:4:2:\n",
      "Traceback (most recent call last):\n",
      "  File \"/Users/xrubiato/anaconda3/lib/python3.6/multiprocessing/process.py\", line 258, in _bootstrap\n",
      "    self.run()\n",
      "  File \"/Users/xrubiato/anaconda3/lib/python3.6/multiprocessing/process.py\", line 93, in run\n",
      "    self._target(*self._args, **self._kwargs)\n",
      "  File \"/Users/xrubiato/DHLab/Draining-Youtube/master_functions.py\", line 97, in sfm_pipe\n",
      "    openmvg_colors(pth_incr=path_incr)\n",
      "  File \"/Users/xrubiato/DHLab/Draining-Youtube/functions.py\", line 255, in openmvg_colors\n",
      "    path_sfm = pth_sfm(pth=pth_incr)\n",
      "  File \"/Users/xrubiato/DHLab/Draining-Youtube/functions.py\", line 115, in pth_sfm\n",
      "    sfm = [el for el in os.listdir(pth) if el.startswith('sfm_')][0]  # Todo exceptions needed\n",
      "IndexError: list index out of range\n",
      "Process Process-6:4:6:\n",
      "Traceback (most recent call last):\n",
      "  File \"/Users/xrubiato/anaconda3/lib/python3.6/multiprocessing/process.py\", line 258, in _bootstrap\n",
      "    self.run()\n",
      "  File \"/Users/xrubiato/anaconda3/lib/python3.6/multiprocessing/process.py\", line 93, in run\n",
      "    self._target(*self._args, **self._kwargs)\n",
      "  File \"/Users/xrubiato/DHLab/Draining-Youtube/master_functions.py\", line 97, in sfm_pipe\n",
      "    openmvg_colors(pth_incr=path_incr)\n",
      "  File \"/Users/xrubiato/DHLab/Draining-Youtube/functions.py\", line 255, in openmvg_colors\n",
      "    path_sfm = pth_sfm(pth=pth_incr)\n",
      "  File \"/Users/xrubiato/DHLab/Draining-Youtube/functions.py\", line 115, in pth_sfm\n",
      "    sfm = [el for el in os.listdir(pth) if el.startswith('sfm_')][0]  # Todo exceptions needed\n",
      "IndexError: list index out of range\n"
     ]
    },
    {
     "name": "stdout",
     "output_type": "stream",
     "text": [
      "Finish Draining\n"
     ]
    }
   ],
   "source": [
    "rate = 2\n",
    "sample = True \n",
    "f_frms  = f_ftrs = f_mtchs = True\n",
    "PLYLST = []\n",
    "\n",
    "VIDS = os.listdir(pth_vids())\n",
    "\n",
    "drain(rate, f_frms, f_ftrs, f_mtchs, sample,\n",
    "      plylsts=PLYLST, vids=VIDS)"
   ]
  },
  {
   "cell_type": "code",
   "execution_count": null,
   "metadata": {
    "scrolled": false
   },
   "outputs": [],
   "source": [
    "yt_dl('https://www.youtube.com/watch?v=b3dMHvxGIKY')"
   ]
  },
  {
   "cell_type": "markdown",
   "metadata": {},
   "source": [
    "### Sequential "
   ]
  },
  {
   "cell_type": "code",
   "execution_count": 75,
   "metadata": {},
   "outputs": [],
   "source": [
    "import youtube_dl as youtube"
   ]
  },
  {
   "cell_type": "code",
   "execution_count": 77,
   "metadata": {},
   "outputs": [
    {
     "data": {
      "text/plain": [
       "<module 'youtube_dl' from '/home/dhacker/anaconda3/lib/python3.7/site-packages/youtube_dl/__init__.py'>"
      ]
     },
     "execution_count": 77,
     "metadata": {},
     "output_type": "execute_result"
    }
   ],
   "source": [
    "youtube"
   ]
  },
  {
   "cell_type": "code",
   "execution_count": 85,
   "metadata": {},
   "outputs": [
    {
     "name": "stdout",
     "output_type": "stream",
     "text": [
      "[youtube] v3dclL2grbs: Downloading webpage\n",
      "[youtube] v3dclL2grbs: Downloading video info webpage\n"
     ]
    },
    {
     "name": "stderr",
     "output_type": "stream",
     "text": [
      "WARNING: Requested formats are incompatible for merge and will be merged into mkv.\n"
     ]
    },
    {
     "name": "stdout",
     "output_type": "stream",
     "text": [
      "[download] Destination: Samsung Demo Video  (Display Auflösung Test) 720p [HD]-v3dclL2grbs.f136.mp4\n",
      "[download] 100% of 10.13MiB in 00:0002MiB/s ETA 00:00known ETA\n",
      "[download] Destination: Samsung Demo Video  (Display Auflösung Test) 720p [HD]-v3dclL2grbs.f251.webm\n",
      "[download] 100% of 1016.63KiB in 00:0060MiB/s ETA 00:00known ETA\n",
      "[ffmpeg] Merging formats into \"Samsung Demo Video  (Display Auflösung Test) 720p [HD]-v3dclL2grbs.mkv\"\n",
      "Deleting original file Samsung Demo Video  (Display Auflösung Test) 720p [HD]-v3dclL2grbs.f136.mp4 (pass -k to keep)\n",
      "Deleting original file Samsung Demo Video  (Display Auflösung Test) 720p [HD]-v3dclL2grbs.f251.webm (pass -k to keep)\n"
     ]
    }
   ],
   "source": [
    "from __future__ import unicode_literals\n",
    "import youtube_dl\n",
    "\n",
    "ydl_opts = {'preferredqaulity':'248'}\n",
    "with youtube_dl.YoutubeDL(ydl_opts) as ydl:\n",
    "    ydl.download(['https://www.youtube.com/watch?v=v3dclL2grbs'])"
   ]
  },
  {
   "cell_type": "code",
   "execution_count": 74,
   "metadata": {},
   "outputs": [],
   "source": [
    "from multiprocessing import Manager, Process\n",
    "\n",
    "from functions import pth_vid, yt_dl\n",
    "from master_functions import iter0, sfm_pipe\n"
   ]
  },
  {
   "cell_type": "code",
   "execution_count": 73,
   "metadata": {},
   "outputs": [],
   "source": [
    "def iter0_seq(args_iter0, shared_list):\n",
    "    \"\"\"Calls iter= and append the return to the shared_list\"\"\"\n",
    "    paths_sets, width = iter0(*args_iter0)\n",
    "    for pth in paths_sets:\n",
    "        shared_list.append((pth, width))\n",
    "\n",
    "\n",
    "def launching_seq_aux(target, args_l):\n",
    "    \"\"\" Function used to launch Processes in parallel\"\"\"\n",
    "    for args in args_l:\n",
    "        Process(target=target, args=args).start()\n",
    "\n",
    "\n",
    "def launching_seq(vids_list, rates=1, cpu_nbr=8, f_frms=True, f_ftrs=True, f_mtchs=True, sample=False):\n",
    "    \"\"\"Function that spawns at maximum a number of processes equal to the parameter cpu_nbr.\"\"\"\n",
    "    manager = Manager()\n",
    "    shared_list = manager.list()\n",
    "\n",
    "    # Repeat until all vids have been processed\n",
    "\n",
    "    target = iter0_seq\n",
    "    while not vids_list.empty():\n",
    "\n",
    "        args_l=[]\n",
    "        if len(vids_list) >= cpu_nbr:\n",
    "            for i in range(cpu_nbr):\n",
    "                args_iter0 = (pth_vid(v_id=vids_list.pop), rates[-i-1], f_frms, f_ftrs, f_mtchs, sample)\n",
    "                args_l.append((args_iter0, shared_list))\n",
    "\n",
    "        else: # less videos than cpu_numbers\n",
    "            for i in range(len(vids_list)):\n",
    "                args_l.append((pth_vid(v_id=vids_list.pop), rates[-i - 1], f_frms, f_ftrs, f_mtchs, sample))\n",
    "\n",
    "        control_launch = Process(target=launching_seq_aux, args=(target, args_l))\n",
    "        control_launch.start()\n",
    "        control_launch.join()\n",
    "\n",
    "    # Finish iter0 part\n",
    "    target = sfm_pipe\n",
    "    while not sfm_pipe_list.empty():\n",
    "\n",
    "        args_l = []\n",
    "        if len(shared_list) >= cpu_nbr:\n",
    "            for i in range(cpu_nbr):\n",
    "                args_l.append(shared_list.pop())\n",
    "\n",
    "        else: # less sfm_pipe remaining than cpu_number\n",
    "\n",
    "            for i in range(len(shared_list)):\n",
    "                args_l.append(shared_list.pop())\n",
    "\n",
    "        control_launch = Process(target=launching_seq_aux, args=(target, args_l))\n",
    "        control_launch.start()\n",
    "        control_launch.join()"
   ]
  },
  {
   "cell_type": "code",
   "execution_count": null,
   "metadata": {},
   "outputs": [],
   "source": [
    "\n",
    "VIDS = [u]"
   ]
  },
  {
   "cell_type": "markdown",
   "metadata": {},
   "source": [
    "### Test "
   ]
  },
  {
   "cell_type": "code",
   "execution_count": 70,
   "metadata": {},
   "outputs": [
    {
     "name": "stdout",
     "output_type": "stream",
     "text": [
      "9\n",
      "test9\n",
      "8\n",
      "test8\n",
      "7\n",
      "test7\n",
      "6\n",
      "test6\n",
      "5\n",
      "test5\n",
      "\n",
      "\n",
      "0\n",
      "test0\n",
      "1\n",
      "test1\n",
      "2\n",
      "test2\n",
      "3\n",
      "test3\n",
      "4\n",
      "test4\n"
     ]
    }
   ],
   "source": [
    "l1 = [0,1,2,3,4,5,6,7,8,9]\n",
    "l2 = ['test{}'.format(i) for i in range(len(l1))]\n",
    "\n",
    "for i in range(5):  \n",
    "    print(l1.pop())\n",
    "    print(l2[-(i+1)])\n",
    "print('\\n')\n",
    "    \n",
    "for idx, el in enumerate(l1):\n",
    "    print(el)\n",
    "    print(l2[idx])"
   ]
  },
  {
   "cell_type": "code",
   "execution_count": 65,
   "metadata": {},
   "outputs": [
    {
     "name": "stdout",
     "output_type": "stream",
     "text": [
      "9\n",
      "test9\n",
      "8\n",
      "test8\n",
      "7\n",
      "test7\n",
      "6\n",
      "test6\n",
      "5\n",
      "test5\n"
     ]
    }
   ],
   "source": []
  },
  {
   "cell_type": "code",
   "execution_count": 4,
   "metadata": {},
   "outputs": [
    {
     "ename": "NameError",
     "evalue": "name 'Process' is not defined",
     "output_type": "error",
     "traceback": [
      "\u001b[0;31m---------------------------------------------------------------------------\u001b[0m",
      "\u001b[0;31mNameError\u001b[0m                                 Traceback (most recent call last)",
      "\u001b[0;32m<ipython-input-4-c2642ae92bb8>\u001b[0m in \u001b[0;36m<module>\u001b[0;34m\u001b[0m\n\u001b[0;32m----> 1\u001b[0;31m \u001b[0mp\u001b[0m \u001b[0;34m=\u001b[0m \u001b[0mProcess\u001b[0m\u001b[0;34m(\u001b[0m\u001b[0mtarget\u001b[0m\u001b[0;34m=\u001b[0m\u001b[0mf1\u001b[0m\u001b[0;34m,\u001b[0m \u001b[0margs\u001b[0m\u001b[0;34m=\u001b[0m\u001b[0;34m(\u001b[0m\u001b[0;34m)\u001b[0m\u001b[0;34m)\u001b[0m\u001b[0;34m\u001b[0m\u001b[0;34m\u001b[0m\u001b[0m\n\u001b[0m\u001b[1;32m      2\u001b[0m \u001b[0mp\u001b[0m\u001b[0;34m.\u001b[0m\u001b[0mstart\u001b[0m\u001b[0;34m(\u001b[0m\u001b[0;34m)\u001b[0m\u001b[0;34m\u001b[0m\u001b[0;34m\u001b[0m\u001b[0m\n\u001b[1;32m      3\u001b[0m \u001b[0mp\u001b[0m\u001b[0;34m.\u001b[0m\u001b[0mjoin\u001b[0m\u001b[0;34m(\u001b[0m\u001b[0;34m)\u001b[0m\u001b[0;34m\u001b[0m\u001b[0;34m\u001b[0m\u001b[0m\n",
      "\u001b[0;31mNameError\u001b[0m: name 'Process' is not defined"
     ]
    }
   ],
   "source": [
    "p = Process(target=f1, args=())\n",
    "p.start()\n",
    "p.join()"
   ]
  },
  {
   "cell_type": "markdown",
   "metadata": {
    "heading_collapsed": true
   },
   "source": [
    "## Archive "
   ]
  },
  {
   "cell_type": "code",
   "execution_count": null,
   "metadata": {
    "hidden": true
   },
   "outputs": [],
   "source": [
    "class Worker:\n",
    "\n",
    "    def __init__(self, Q):\n",
    "        self.Q = Q\n",
    "\n",
    "\n",
    "    def Qiter0(self, args):\n",
    "        \"\"\"Performs iter0() and enqueues an sfm_pipe process with the generated sets.\"\"\"\n",
    "        path_set_dir, width = iter0(*args)\n",
    "        pth_sets = [os.path.join(path_set_dir, el) for el in os.listdir(path_set_dir)]\n",
    "        print(width)\n",
    "        # Enqueue next tasks\n",
    "        for pth_set in pth_sets:\n",
    "            args = (pth_set, width)\n",
    "            self.Q.put(('sfm_pipe', args))\n",
    "\n",
    "\n",
    "    def sfm_pipe(self, args):\n",
    "        sfm_pipe(*args)\n",
    "\n",
    "\n",
    "    def work(self, func, args):\n",
    "\n",
    "        if func == 'Qiter0':\n",
    "            self.Qiter0(args)\n",
    "\n",
    "        elif func == 'sfm_pipe':\n",
    "            self.sfm_pipe(args)\n",
    "\n",
    "            \n",
    "def worker_exec(Q, wip_l):\n",
    "    \n",
    "    func, args = Q.get()\n",
    "    # append to wip list \n",
    "    wip_l.append(func)\n",
    "    \n",
    "    # instanciate worker \n",
    "    worker = Worker(Q)\n",
    "    worker.work(func, args)\n",
    "    # remove from list after it finishes \n",
    "    wip_l.remove(func)\n",
    "\n",
    "    \n",
    "def drain(rate, f_frms, f_ftrs, f_mtchs, sample,\n",
    "           plylsts=[], vids=[]):\n",
    "    \n",
    "    Q = Queue()\n",
    "    manager = Manager()\n",
    "    wip_l = manager.list()\n",
    "    \n",
    "    for plylst in plylsts:\n",
    "        for v_id in os.listdir(pth_plylst(plylst)):\n",
    "            \n",
    "            args = (pth_vid(v_id, plylst), rate, f_frms, f_ftrs, f_mtchs, sample)\n",
    "            Q.put(('Qiter0', args))\n",
    "\n",
    "    for v_id in vids:\n",
    "            \n",
    "            args = (pth_vid(v_id), rate, f_frms, f_ftrs, f_mtchs, sample)\n",
    "            Q.put(('Qiter0', args))\n",
    "                  \n",
    "    while True:\n",
    "        \n",
    "        if not Q.empty():\n",
    "            Process(target=worker_exec, args=(Q, wip_l)).start()\n",
    "            sleep(0.5)\n",
    "        \n",
    "        else: \n",
    "            if len(wip_l) == 0:\n",
    "                print('Finish Draining')\n",
    "                break "
   ]
  }
 ],
 "metadata": {
  "kernelspec": {
   "display_name": "Python 3",
   "language": "python",
   "name": "python3"
  },
  "language_info": {
   "codemirror_mode": {
    "name": "ipython",
    "version": 3
   },
   "file_extension": ".py",
   "mimetype": "text/x-python",
   "name": "python",
   "nbconvert_exporter": "python",
   "pygments_lexer": "ipython3",
   "version": "3.7.3"
  },
  "toc": {
   "base_numbering": 1,
   "nav_menu": {},
   "number_sections": true,
   "sideBar": true,
   "skip_h1_title": false,
   "title_cell": "Table of Contents",
   "title_sidebar": "Contents",
   "toc_cell": false,
   "toc_position": {},
   "toc_section_display": true,
   "toc_window_display": false
  },
  "varInspector": {
   "cols": {
    "lenName": 16,
    "lenType": 16,
    "lenVar": 40
   },
   "kernels_config": {
    "python": {
     "delete_cmd_postfix": "",
     "delete_cmd_prefix": "del ",
     "library": "var_list.py",
     "varRefreshCmd": "print(var_dic_list())"
    },
    "r": {
     "delete_cmd_postfix": ") ",
     "delete_cmd_prefix": "rm(",
     "library": "var_list.r",
     "varRefreshCmd": "cat(var_dic_list()) "
    }
   },
   "types_to_exclude": [
    "module",
    "function",
    "builtin_function_or_method",
    "instance",
    "_Feature"
   ],
   "window_display": false
  }
 },
 "nbformat": 4,
 "nbformat_minor": 2
}
