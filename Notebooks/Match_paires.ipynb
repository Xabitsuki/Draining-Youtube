{
 "cells": [
  {
   "cell_type": "code",
   "execution_count": 1,
   "metadata": {},
   "outputs": [],
   "source": [
    "import matplotlib.pyplot as plt\n",
    "import numpy as np "
   ]
  },
  {
   "cell_type": "code",
   "execution_count": null,
   "metadata": {},
   "outputs": [],
   "source": [
    "matches = '/Users/xrubiato/DHLab/Draining-Youtube/videos/9Ax-JrJ06fU/out_openMVG/iter_0/out_features/matches.f.txt'"
   ]
  },
  {
   "cell_type": "code",
   "execution_count": 25,
   "metadata": {},
   "outputs": [],
   "source": [
    "def line_to_tuple(line):\n",
    "    return (int(line.split(sep=' ', maxsplit=1)[0]),\n",
    "            int(line.split(sep=' ', maxsplit=1)[1]))\n",
    "\n",
    "def extract_matches(path):\n",
    "    \"\"\"function to read the matches.f.txt file to extract the matches\"\"\"\n",
    "\n",
    "    # Open and read matches file\n",
    "    f = open(path,mode='r')\n",
    "    string_file = f.read()\n",
    "    \n",
    "    # Convert to list on lines \n",
    "    lines = string_file.split(sep='\\n')\n",
    "    \n",
    "    nbr_lines = len(lines)\n",
    "    match_list = list() \n",
    "    reach_end = False \n",
    "    i = 0 \n",
    "    \n",
    "    while not reach_end:\n",
    "        match_list.append(line_to_tuple(lines[i]))\n",
    "        i = i + 2 + int(lines[i+1])\n",
    "        if i + 1 == nbr_lines: reach_end = True\n",
    "\n",
    "    return match_list"
   ]
  },
  {
   "cell_type": "markdown",
   "metadata": {},
   "source": [
    "### List of points representation"
   ]
  },
  {
   "cell_type": "code",
   "execution_count": 82,
   "metadata": {},
   "outputs": [],
   "source": [
    "match_list = extract_matches(path=matches)"
   ]
  },
  {
   "cell_type": "code",
   "execution_count": 112,
   "metadata": {
    "scrolled": false
   },
   "outputs": [
    {
     "data": {
      "image/png": "[encoded data removed]",
      "text/plain": [
       "<Figure size 720x720 with 1 Axes>"
      ]
     },
     "metadata": {
      "needs_background": "light"
     },
     "output_type": "display_data"
    }
   ],
   "source": [
    "fig = plt.figure(figsize=(10,10))\n",
    "\n",
    "plt.scatter(match_point[:,1],match_point[:,0],\n",
    "            marker='2',\n",
    "            s=35)\n",
    "\n",
    "plt.xlabel('image j', fontsize=16)\n",
    "plt.ylabel('image i',fontsize=16)\n",
    "plt.grid()\n",
    "\n",
    "ax = plt.gca()\n",
    "ax.invert_yaxis()\n",
    "ax.xaxis.tick_top()\n",
    "ax.xaxis.set_label_position('top')"
   ]
  },
  {
   "cell_type": "markdown",
   "metadata": {},
   "source": [
    "### Matrix representation"
   ]
  },
  {
   "cell_type": "code",
   "execution_count": 113,
   "metadata": {},
   "outputs": [],
   "source": [
    "n = 339\n",
    "\n",
    "# initialize matrix \n",
    "adj_mat = np.zeros((n,n))\n",
    "\n",
    "idx = np.asarray(match_list)\n",
    "\n",
    "# slice the matrix with correct idxs\n",
    "adj_mat[idx[:,0],idx[:,1]] = 1"
   ]
  },
  {
   "cell_type": "code",
   "execution_count": 115,
   "metadata": {},
   "outputs": [],
   "source": [
    "adj_mat[13,208] = 0 "
   ]
  },
  {
   "cell_type": "code",
   "execution_count": 136,
   "metadata": {},
   "outputs": [],
   "source": [
    "def split_triangles(adj_mat, n): \n",
    "    \"\"\"Provides the provides a list containing tuples that decribe \n",
    "    traingles of images that match : the triangle are composed of the points \n",
    "    (i_min, i_min+1), (i_min, i_max), (i_max-1, i_max) in the adjency matrix \"\"\"\n",
    "    \n",
    "    triangles = list()\n",
    "    i_min = 0 \n",
    "    i_max = 0 \n",
    "\n",
    "    for i in range(0,n): \n",
    "         \n",
    "        # Retrieve i_max for current considered line \n",
    "        non_zer = np.nonzero(adj_mat[i])[0]\n",
    "\n",
    "        if non_zer.size > 0:\n",
    "            if i_max < np.max(non_zer):\n",
    "                i_max = np.max(non_zer)\n",
    "        else: \n",
    "            if i == i_max: \n",
    "                # Close triangle  \n",
    "                if i_min < i_max:\n",
    "                    triangles.append((i_min,i_max))\n",
    "                i_min = i_max + 1\n",
    "                i_max = i_min \n",
    "        #print('i = {}\\ni_min = {}\\ni_max = {}\\n'.format(i,i_min,i_max))\n",
    "\n",
    "    return triangles"
   ]
  },
  {
   "cell_type": "code",
   "execution_count": 140,
   "metadata": {
    "scrolled": true
   },
   "outputs": [
    {
     "data": {
      "text/plain": [
       "[(0, 17),\n",
       " (18, 24),\n",
       " (25, 33),\n",
       " (34, 38),\n",
       " (39, 48),\n",
       " (49, 56),\n",
       " (59, 67),\n",
       " (68, 79),\n",
       " (80, 84),\n",
       " (85, 96),\n",
       " (97, 103),\n",
       " (107, 110),\n",
       " (111, 119),\n",
       " (120, 125),\n",
       " (126, 132),\n",
       " (133, 139),\n",
       " (140, 150),\n",
       " (151, 158),\n",
       " (159, 166),\n",
       " (167, 180),\n",
       " (181, 187),\n",
       " (188, 202),\n",
       " (203, 209),\n",
       " (210, 218),\n",
       " (219, 240),\n",
       " (241, 247),\n",
       " (248, 254),\n",
       " (255, 266),\n",
       " (267, 272),\n",
       " (273, 278),\n",
       " (279, 290),\n",
       " (294, 300),\n",
       " (301, 314),\n",
       " (316, 338)]"
      ]
     },
     "execution_count": 140,
     "metadata": {},
     "output_type": "execute_result"
    }
   ],
   "source": [
    "tri"
   ]
  },
  {
   "cell_type": "code",
   "execution_count": 141,
   "metadata": {},
   "outputs": [],
   "source": [
    "def make_dir(dir_name):\n",
    "    if not os.path.isdir(dir_name):\n",
    "        os.mkdir(dir_name)"
   ]
  },
  {
   "cell_type": "code",
   "execution_count": 155,
   "metadata": {},
   "outputs": [
    {
     "name": "stdout",
     "output_type": "stream",
     "text": [
      "0009\n"
     ]
    }
   ],
   "source": [
    "print()"
   ]
  },
  {
   "cell_type": "code",
   "execution_count": 160,
   "metadata": {},
   "outputs": [
    {
     "name": "stdout",
     "output_type": "stream",
     "text": [
      "1\n",
      "2\n",
      "3\n",
      "4\n",
      "5\n",
      "6\n",
      "7\n",
      "8\n",
      "9\n",
      "10\n"
     ]
    }
   ],
   "source": [
    "for i in range(1,11):\n",
    "    print(i)"
   ]
  },
  {
   "cell_type": "code",
   "execution_count": 156,
   "metadata": {},
   "outputs": [],
   "source": [
    "import os "
   ]
  },
  {
   "cell_type": "code",
   "execution_count": 201,
   "metadata": {},
   "outputs": [],
   "source": [
    "def move_triangles(triangles, path_frames, path_vid, path_feats):\n",
    "    \"\"\"Functions used to move the frames and their .desc and .feat files\n",
    "    from main folder to sub-fub folders created \"\"\"\n",
    "    s = 0 \n",
    "    for t in triangles:\n",
    "        \n",
    "        path_new_folder = os.path.join(path_vid, 'set_{}'.format(s))\n",
    "        make_dir(path_new_folder)\n",
    "        \n",
    "        \n",
    "        path_frames_n = os.path.join(path_new_folder, 'frames') \n",
    "        make_dir(path_frames_n)\n",
    "        \n",
    "        path_feats_n = os.path.join(path_new_folder, 'out_features')\n",
    "        make_dir(path_feats_n)\n",
    "        \n",
    "        \n",
    "        for i in range(t[0],t[1]+1):\n",
    "            \n",
    "            frame = 'frame{:0>4.0f}'.format(i+1)\n",
    "            frame_png = '{}.png'.format(frame)\n",
    "            frame_desc = '{}.desc'.format(frame)\n",
    "            frame_feat = '{}.feat'.format(frame)\n",
    "            \n",
    "            # move frames\n",
    "            try:\n",
    "                os.rename(os.path.join(path_frames, frame_png),\n",
    "                          os.path.join(path_frames_n, frame_png))\n",
    "            except FileNotFoundError:\n",
    "                pass\n",
    "            # move .desc and .feat \n",
    "            try:\n",
    "                os.rename(os.path.join(path_feats, frame_desc),\n",
    "                          os.path.join(path_feats_n, frame_desc))\n",
    "            except FileNotFoundError:\n",
    "                pass\n",
    "            try:\n",
    "                os.rename(os.path.join(path_feats, frame_feat),\n",
    "                          os.path.join(path_feats_n, frame_feat))\n",
    "            except FileNotFoundError:\n",
    "                pass\n",
    "        s += 1"
   ]
  },
  {
   "cell_type": "code",
   "execution_count": 202,
   "metadata": {},
   "outputs": [],
   "source": [
    "\n",
    "try:\n",
    "    move_triangles(triangles=tri, \n",
    "                   path_frames='/Users/xrubiato/DHLab/Draining-Youtube/videos/9Ax-JrJ06fU/frames',\n",
    "                   path_vid='/Users/xrubiato/DHLab/Draining-Youtube/videos/9Ax-JrJ06fU',\n",
    "                   path_feats='/Users/xrubiato/DHLab/Draining-Youtube/videos/9Ax-JrJ06fU/iter_0/out_features')\n",
    "except FileNotFoundError:\n",
    "    pass\n",
    "    "
   ]
  },
  {
   "cell_type": "code",
   "execution_count": null,
   "metadata": {},
   "outputs": [],
   "source": []
  }
 ],
 "metadata": {
  "kernelspec": {
   "display_name": "Python 3",
   "language": "python",
   "name": "python3"
  },
  "language_info": {
   "codemirror_mode": {
    "name": "ipython",
    "version": 3
   },
   "file_extension": ".py",
   "mimetype": "text/x-python",
   "name": "python",
   "nbconvert_exporter": "python",
   "pygments_lexer": "ipython3",
   "version": "3.6.8"
  },
  "varInspector": {
   "cols": {
    "lenName": 16,
    "lenType": 16,
    "lenVar": 40
   },
   "kernels_config": {
    "python": {
     "delete_cmd_postfix": "",
     "delete_cmd_prefix": "del ",
     "library": "var_list.py",
     "varRefreshCmd": "print(var_dic_list())"
    },
    "r": {
     "delete_cmd_postfix": ") ",
     "delete_cmd_prefix": "rm(",
     "library": "var_list.r",
     "varRefreshCmd": "cat(var_dic_list()) "
    }
   },
   "types_to_exclude": [
    "module",
    "function",
    "builtin_function_or_method",
    "instance",
    "_Feature"
   ],
   "window_display": false
  }
 },
 "nbformat": 4,
 "nbformat_minor": 2
}
