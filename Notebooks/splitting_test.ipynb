{
 "cells": [
  {
   "cell_type": "code",
   "execution_count": 12,
   "metadata": {},
   "outputs": [
    {
     "name": "stdout",
     "output_type": "stream",
     "text": [
      "The autoreload extension is already loaded. To reload it, use:\n",
      "  %reload_ext autoreload\n"
     ]
    }
   ],
   "source": [
    "import sys\n",
    "sys.path.insert(0, '/Users/xrubiato/DHLab/Draining-Youtube')\n",
    "%load_ext autoreload\n",
    "%autoreload 2\n",
    "from functions import *\n",
    "import matplotlib.pyplot as plt "
   ]
  },
  {
   "cell_type": "code",
   "execution_count": 6,
   "metadata": {},
   "outputs": [],
   "source": [
    "from functions import bin_matches_to_adja_mat, split_triangles, move_triangles, pth_vid, pth_frms"
   ]
  },
  {
   "cell_type": "code",
   "execution_count": 14,
   "metadata": {},
   "outputs": [],
   "source": [
    "PLYLST = ''\n",
    "V_ID = 'PqyPW-Bdd4E'\n",
    "\n",
    "pth_v = pth_vid(V_ID, PLYLST)"
   ]
  },
  {
   "cell_type": "markdown",
   "metadata": {},
   "source": [
    "### Perform first steps of iter0"
   ]
  },
  {
   "cell_type": "code",
   "execution_count": 22,
   "metadata": {},
   "outputs": [],
   "source": [
    "width = 1920\n",
    "frames = pth_frms(v_id=V_ID, plylst=PLYLST)\n",
    "iter0 = pth_iter0(v_id=V_ID)\n",
    "feats_iter0 = pth_iter0_feats(v_id=V_ID)"
   ]
  },
  {
   "cell_type": "code",
   "execution_count": 18,
   "metadata": {},
   "outputs": [],
   "source": [
    "openmvg_list(width, frames, iter0)"
   ]
  },
  {
   "cell_type": "code",
   "execution_count": 20,
   "metadata": {},
   "outputs": [],
   "source": [
    "sfm = pth_sfm(iter0)"
   ]
  },
  {
   "cell_type": "code",
   "execution_count": 21,
   "metadata": {
    "scrolled": true
   },
   "outputs": [
    {
     "data": {
      "text/plain": [
       "'/Users/xrubiato/DHLab/Draining-Youtube/videos/PqyPW-Bdd4E/iter0/sfm_data.json'"
      ]
     },
     "execution_count": 21,
     "metadata": {},
     "output_type": "execute_result"
    }
   ],
   "source": [
    "sfm"
   ]
  },
  {
   "cell_type": "code",
   "execution_count": 23,
   "metadata": {},
   "outputs": [],
   "source": [
    "# Comptute features \n",
    "openmvg_features(pth_sfm=sfm, pth_features=feats_iter0, force=True)"
   ]
  },
  {
   "cell_type": "code",
   "execution_count": 24,
   "metadata": {},
   "outputs": [],
   "source": [
    "# Compute Matches \n",
    "openmvg_matches(pth_sfm=sfm, pth_matches=feats_iter0, video_mode=None, force=True)\n",
    "\n",
    "\n"
   ]
  },
  {
   "cell_type": "code",
   "execution_count": 25,
   "metadata": {},
   "outputs": [],
   "source": [
    "# Get match matrix \n",
    "pth_matches = os.path.join(feats_iter0, 'matches.f.txt')\n",
    "match_matrix = bin_matches_to_adja_mat(path_mtchs=pth_matches, path_frames=frames)"
   ]
  },
  {
   "cell_type": "code",
   "execution_count": 66,
   "metadata": {
    "scrolled": false
   },
   "outputs": [
    {
     "data": {
      "text/plain": [
       "<matplotlib.image.AxesImage at 0x1169a3198>"
      ]
     },
     "execution_count": 66,
     "metadata": {},
     "output_type": "execute_result"
    },
    {
     "data": {
      "image/png": "[encoded data removed]",
      "text/plain": [
       "<Figure size 648x648 with 1 Axes>"
      ]
     },
     "metadata": {
      "needs_background": "light"
     },
     "output_type": "display_data"
    }
   ],
   "source": [
    "plt.matshow(match_matrix)"
   ]
  },
  {
   "cell_type": "code",
   "execution_count": null,
   "metadata": {},
   "outputs": [],
   "source": [
    "fig = plt.gcf()"
   ]
  },
  {
   "cell_type": "code",
   "execution_count": 67,
   "metadata": {},
   "outputs": [],
   "source": [
    "fig.figsize=(10,10)"
   ]
  },
  {
   "cell_type": "code",
   "execution_count": 68,
   "metadata": {},
   "outputs": [
    {
     "data": {
      "image/png": "[encoded data removed]",
      "text/plain": [
       "<Figure size 648x648 with 1 Axes>"
      ]
     },
     "execution_count": 68,
     "metadata": {},
     "output_type": "execute_result"
    }
   ],
   "source": [
    "fig"
   ]
  },
  {
   "cell_type": "code",
   "execution_count": 41,
   "metadata": {
    "scrolled": true
   },
   "outputs": [],
   "source": [
    "ax = fig.get_axes()"
   ]
  },
  {
   "cell_type": "code",
   "execution_count": 77,
   "metadata": {},
   "outputs": [],
   "source": [
    "ax[0].set_xlabel('image i', fontsize=30)\n",
    "ax[0].set_ylabel('image j', fontsize=30)\n",
    "#ax[0].set_xticks(fontsize=14)\n",
    "\n",
    "ax[0].tick_params(labelsize=25)\n",
    "ax[0].xaxis.set_label_position('top') "
   ]
  },
  {
   "cell_type": "code",
   "execution_count": 78,
   "metadata": {},
   "outputs": [],
   "source": [
    "fig.savefig(fname='/Users/xrubiato/Desktop/Adjancency_big.eps',format='eps',dpi=200)"
   ]
  },
  {
   "cell_type": "code",
   "execution_count": 79,
   "metadata": {},
   "outputs": [
    {
     "name": "stdout",
     "output_type": "stream",
     "text": [
      "/Users/xrubiato/DHLab/Draining-Youtube/Notebooks\r\n"
     ]
    }
   ],
   "source": [
    "!pwd\n"
   ]
  },
  {
   "cell_type": "code",
   "execution_count": 80,
   "metadata": {},
   "outputs": [
    {
     "ename": "TypeError",
     "evalue": "bin_matches_to_adja_mat() missing 1 required positional argument: 'path_frames'",
     "output_type": "error",
     "traceback": [
      "\u001b[0;31m---------------------------------------------------------------------------\u001b[0m",
      "\u001b[0;31mTypeError\u001b[0m                                 Traceback (most recent call last)",
      "\u001b[0;32m<ipython-input-80-b2474fb633b1>\u001b[0m in \u001b[0;36m<module>\u001b[0;34m\u001b[0m\n\u001b[0;32m----> 1\u001b[0;31m \u001b[0mmat_dash_cam\u001b[0m  \u001b[0;34m=\u001b[0m \u001b[0mbin_matches_to_adja_mat\u001b[0m\u001b[0;34m(\u001b[0m\u001b[0;34m'/Users/xrubiato/Desktop/matches.f.txt'\u001b[0m\u001b[0;34m)\u001b[0m\u001b[0;34m\u001b[0m\u001b[0;34m\u001b[0m\u001b[0m\n\u001b[0m",
      "\u001b[0;31mTypeError\u001b[0m: bin_matches_to_adja_mat() missing 1 required positional argument: 'path_frames'"
     ]
    }
   ],
   "source": [
    "mat_dash_cam  = bin_matches_to_adja_mat('/Users/xrubiato/Desktop/matches.f.txt')"
   ]
  },
  {
   "cell_type": "code",
   "execution_count": 82,
   "metadata": {},
   "outputs": [],
   "source": [
    "n = 720"
   ]
  },
  {
   "cell_type": "code",
   "execution_count": 92,
   "metadata": {},
   "outputs": [],
   "source": [
    "def s_line_to_tuple(line):\n",
    "    \"\"\"Used to read matches.f.txt file in extract_matches\"\"\"\n",
    "\n",
    "    return (int(line.split(sep=' ', maxsplit=1)[0]),\n",
    "            int(line.split(sep=' ', maxsplit=1)[1]))\n",
    "\n",
    "\n",
    "def s_extract_matches(path_mtchs):\n",
    "    \"\"\"function to read the matches.f.txt file to extract the matches.\n",
    "       Return: match_list\"\"\"\n",
    "\n",
    "    # Open and read matches file\n",
    "    f = open(path_mtchs, mode='r')\n",
    "    string_file = f.read()\n",
    "\n",
    "    # Convert to list of lines\n",
    "    lines = string_file.split(sep='\\n')\n",
    "\n",
    "    nbr_lines = len(lines)\n",
    "    match_list = list()\n",
    "    reach_end = False\n",
    "    i = 0\n",
    "\n",
    "    while not reach_end:\n",
    "        match_list.append(line_to_tuple(lines[i]))\n",
    "        i = i + 2 + int(lines[i + 1])\n",
    "        if i + 1 == nbr_lines: reach_end = True\n",
    "\n",
    "    return match_list\n",
    "\n",
    "\n",
    "def s_make_adj_mat(match_list):\n",
    "    \"\"\"Function to recreate an adjacency matrix out of\n",
    "       the match_list passed as argument.\"\"\"\n",
    "\n",
    "    # retrieve size of matrix\n",
    "    global n \n",
    "\n",
    "    # initialize matrix\n",
    "    adj_mat = np.zeros((n, n))\n",
    "\n",
    "    idx = np.asarray(match_list)\n",
    "\n",
    "    # slice the matrix with correct idxs\n",
    "    adj_mat[idx[:, 0], idx[:, 1]] = 1\n",
    "\n",
    "    return adj_mat\n",
    "\n",
    "\n",
    "def s_bin_matches_to_adja_mat(path_mtchs):\n",
    "    \"\"\"Returns adjacency matrix provided the path to the matches\n",
    "       file and the path to the frames folder.\n",
    "       Fucntion used in iter0.\"\"\"\n",
    "\n",
    "    return make_adj_mat(extract_matches(path_mtchs))"
   ]
  },
  {
   "cell_type": "code",
   "execution_count": 93,
   "metadata": {},
   "outputs": [],
   "source": [
    "mat_dash_cam  = s_bin_matches_to_adja_mat('/Users/xrubiato/Desktop/matches.f.txt')"
   ]
  },
  {
   "cell_type": "code",
   "execution_count": 97,
   "metadata": {},
   "outputs": [
    {
     "data": {
      "image/png": "[encoded data removed]",
      "text/plain": [
       "<Figure size 648x648 with 1 Axes>"
      ]
     },
     "metadata": {
      "needs_background": "light"
     },
     "output_type": "display_data"
    }
   ],
   "source": [
    "plt.matshow(mat_dash_cam)\n",
    "fig = plt.gcf()\n",
    "ax = fig.get_axes()\n",
    "ax[0].set_xlabel('image i', fontsize=20)\n",
    "ax[0].set_ylabel('image j', fontsize=20)\n",
    "#ax[0].set_xticks(fontsize=14)\n",
    "\n",
    "ax[0].tick_params(labelsize=20)\n",
    "ax[0].xaxis.set_label_position('top')"
   ]
  },
  {
   "cell_type": "code",
   "execution_count": 99,
   "metadata": {},
   "outputs": [],
   "source": [
    "fig.savefig(fname='/Users/xrubiato/Desktop/dash_Adjancency_big.eps',format='eps',dpi=200)"
   ]
  },
  {
   "cell_type": "code",
   "execution_count": null,
   "metadata": {},
   "outputs": [],
   "source": []
  }
 ],
 "metadata": {
  "kernelspec": {
   "display_name": "Python 3",
   "language": "python",
   "name": "python3"
  },
  "language_info": {
   "codemirror_mode": {
    "name": "ipython",
    "version": 3
   },
   "file_extension": ".py",
   "mimetype": "text/x-python",
   "name": "python",
   "nbconvert_exporter": "python",
   "pygments_lexer": "ipython3",
   "version": "3.6.8"
  },
  "toc": {
   "base_numbering": 1,
   "nav_menu": {},
   "number_sections": true,
   "sideBar": true,
   "skip_h1_title": false,
   "title_cell": "Table of Contents",
   "title_sidebar": "Contents",
   "toc_cell": false,
   "toc_position": {},
   "toc_section_display": true,
   "toc_window_display": false
  },
  "varInspector": {
   "cols": {
    "lenName": 16,
    "lenType": 16,
    "lenVar": 40
   },
   "kernels_config": {
    "python": {
     "delete_cmd_postfix": "",
     "delete_cmd_prefix": "del ",
     "library": "var_list.py",
     "varRefreshCmd": "print(var_dic_list())"
    },
    "r": {
     "delete_cmd_postfix": ") ",
     "delete_cmd_prefix": "rm(",
     "library": "var_list.r",
     "varRefreshCmd": "cat(var_dic_list()) "
    }
   },
   "types_to_exclude": [
    "module",
    "function",
    "builtin_function_or_method",
    "instance",
    "_Feature"
   ],
   "window_display": false
  }
 },
 "nbformat": 4,
 "nbformat_minor": 2
}
