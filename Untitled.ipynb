{
 "cells": [
  {
   "cell_type": "code",
   "execution_count": 58,
   "metadata": {},
   "outputs": [],
   "source": [
    "class Worker:\n",
    "\n",
    "    def __init__(self, task_queue):\n",
    "        self.Q = task_queue\n",
    "\n",
    "\n",
    "    def Qiter0(self, args):\n",
    "        \"\"\"Performs iter0() and enqueues an sfm_pipe process with the generated sets.\"\"\"\n",
    "        path_set_dir, width = iter0(*args)\n",
    "        pth_sets = [os.path.join(path_set_dir, el) for el in os.listdir(path_set_dir)]\n",
    "\n",
    "        # Enqueue next tasks\n",
    "        for pth_set in pth_sets:\n",
    "            args = (pth_set, width)\n",
    "            self.Q.put(('sfm_pipe', args))\n",
    "\n",
    "\n",
    "    def sfm_pipe(self, pth, width):\n",
    "        sfm_pipe(pth_set=pth, width=width)\n",
    "\n",
    "\n",
    "    def work(self, func, args):\n",
    "\n",
    "        if func == 'Qiter0':\n",
    "            print('Qiter0')\n",
    "            self.Qiter0(args)\n",
    "\n",
    "        elif func == 'sfm_pipe':\n",
    "            print('SFM PIPE')\n",
    "          \n",
    "            self.sfm_pipe(*args)"
   ]
  },
  {
   "cell_type": "code",
   "execution_count": 59,
   "metadata": {},
   "outputs": [],
   "source": [
    "def worker_exec(task_queue, wip_l):\n",
    "   \n",
    "    # instanciate worker \n",
    "    worker = Worker(task_queue)\n",
    "    \n",
    "    func, args = task_queue.get()\n",
    "    # put worker to work and append to wip list \n",
    "    \n",
    "    wip_l.append(func)\n",
    "    print('charbon')\n",
    "    worker.work(func, args)\n",
    "    \n",
    "    # remove from list after it finishes \n",
    "    wip_l.remove(func)"
   ]
  },
  {
   "cell_type": "code",
   "execution_count": 60,
   "metadata": {
    "scrolled": true
   },
   "outputs": [],
   "source": [
    "def drain(rate, f_frms, f_ftrs, f_mtchs, sample,\n",
    "           plylsts=[], vids=[]):\n",
    "    # Enqueue Qiter0 tasks:\n",
    "    Q = Queue()\n",
    "    wip_l = []\n",
    "    \n",
    "    for plylst in plylsts:\n",
    "        for v_id in os.listdir(pth_plylst(plylst)):\n",
    "            args = (pth_vid(v_id, plylst),\n",
    "                    rate, f_frms, f_ftrs, f_mtchs, sample)\n",
    "            Q.put(('Qiter0', args))\n",
    "\n",
    "    for v_id in vids:\n",
    "            print('appending job from vids :{}'.format(v_id))\n",
    "            args = (pth_vid(v_id),\n",
    "                    rate, f_frms, f_ftrs, f_mtchs, sample)\n",
    "            Q.put(('Qiter0', args))\n",
    "\n",
    "    while True:\n",
    "   \n",
    "        if not Q.empty():\n",
    "            #print('charbon')\n",
    "            p = Process(target=worker_exec, args=(Q,wip_l))\n",
    "            p.start()\n",
    "            print(Q.empty())\n",
    "        else: \n",
    "            if len(wip_l) == 0:\n",
    "                #print(wip_l)\n",
    "                print('break')\n",
    "                break "
   ]
  },
  {
   "cell_type": "markdown",
   "metadata": {},
   "source": [
    "## Personnal Execution "
   ]
  },
  {
   "cell_type": "code",
   "execution_count": 61,
   "metadata": {},
   "outputs": [],
   "source": [
    "import os \n",
    "import time \n",
    "\n",
    "from multiprocessing import Process, Queue\n",
    "\n",
    "from functions import pth_vids, pth_plylst, pth_vid\n",
    "from master_functions import iter0, sfm_pipe "
   ]
  },
  {
   "cell_type": "code",
   "execution_count": 62,
   "metadata": {
    "scrolled": true
   },
   "outputs": [
    {
     "data": {
      "text/plain": [
       "['PqyPW-Bdd4E', 'ftlvreFtA2A0', '9Ax-JrJ06fU']"
      ]
     },
     "execution_count": 62,
     "metadata": {},
     "output_type": "execute_result"
    }
   ],
   "source": [
    "os.listdir(pth_vids())"
   ]
  },
  {
   "cell_type": "code",
   "execution_count": 63,
   "metadata": {},
   "outputs": [
    {
     "name": "stdout",
     "output_type": "stream",
     "text": [
      "appending job from vids :PqyPW-Bdd4E\n",
      "appending job from vids :ftlvreFtA2A0\n",
      "appending job from vids :9Ax-JrJ06fU\n",
      "False\n",
      "False\n",
      "charbon\n",
      "Qiter0\n",
      "False\n",
      "charbon\n",
      "Qiter0\n",
      "charbon\n",
      "True\n",
      "break\n",
      "Qiter0\n",
      "charbon\n",
      "SFM PIPE\n"
     ]
    },
    {
     "name": "stderr",
     "output_type": "stream",
     "text": [
      "Process Process-14:\n",
      "Traceback (most recent call last):\n",
      "  File \"/Users/xrubiato/anaconda3/lib/python3.6/multiprocessing/process.py\", line 258, in _bootstrap\n",
      "    self.run()\n",
      "  File \"/Users/xrubiato/anaconda3/lib/python3.6/multiprocessing/process.py\", line 93, in run\n",
      "    self._target(*self._args, **self._kwargs)\n",
      "  File \"<ipython-input-59-64fe39345978>\", line 11, in worker_exec\n",
      "    worker.work(func, args)\n",
      "  File \"<ipython-input-58-ade3f740b8b3>\", line 31, in work\n",
      "    self.sfm_pipe(*args)\n",
      "  File \"<ipython-input-58-ade3f740b8b3>\", line 19, in sfm_pipe\n",
      "    sfm_pipe(pth_set=pth, width=width)\n",
      "  File \"/Users/xrubiato/DHLab/Draining-Youtube/master_functions.py\", line 97, in sfm_pipe\n",
      "    openmvg_colors(pth_incr=path_incr)\n",
      "  File \"/Users/xrubiato/DHLab/Draining-Youtube/functions.py\", line 255, in openmvg_colors\n",
      "    path_sfm = pth_sfm(pth=pth_incr)\n",
      "  File \"/Users/xrubiato/DHLab/Draining-Youtube/functions.py\", line 115, in pth_sfm\n",
      "    sfm = [el for el in os.listdir(pth) if el.startswith('sfm_')][0]  # Todo exceptions needed\n",
      "IndexError: list index out of range\n"
     ]
    }
   ],
   "source": [
    "WIP_L = []\n",
    "Q = Queue()\n",
    "VIDS = os.listdir(pth_vids())\n",
    "RATE = 2\n",
    "\n",
    "F_FRMS = False\n",
    "F_FTRS = False\n",
    "F_MTCHS = False \n",
    "\n",
    "SAMPLE = True\n",
    "\n",
    "drain(RATE, F_FRMS, F_FTRS, F_MTCHS, SAMPLE, vids=VIDS)"
   ]
  },
  {
   "cell_type": "markdown",
   "metadata": {},
   "source": [
    "## DHLab Execution "
   ]
  },
  {
   "cell_type": "code",
   "execution_count": 41,
   "metadata": {},
   "outputs": [],
   "source": [
    "%load_ext autoreload\n",
    "%autoreload 2"
   ]
  },
  {
   "cell_type": "code",
   "execution_count": 38,
   "metadata": {},
   "outputs": [],
   "source": [
    "import os \n",
    "from multiprocessing import Process\n",
    "from functions import * \n",
    "from master_functions import iter0, sfm_pipe"
   ]
  },
  {
   "cell_type": "code",
   "execution_count": null,
   "metadata": {},
   "outputs": [],
   "source": [
    "# def iter0(path_vid, rate, frame_force=False, feature_force=False, match_force=False, sample=False):\n",
    "# def sfm_pipe(pth_set, width):"
   ]
  },
  {
   "cell_type": "code",
   "execution_count": 40,
   "metadata": {},
   "outputs": [],
   "source": [
    "def parent_iter0(args): \n",
    "    # launch iter0() process: \n",
    "    pth_sets, width = iter0(*args)\n",
    "    for set_ in os.listdir(pth_sets): \n",
    "        sfm_pipe()"
   ]
  },
  {
   "cell_type": "code",
   "execution_count": 31,
   "metadata": {},
   "outputs": [],
   "source": [
    "\n",
    "PLYLST = ['SHIBUYA']\n",
    "VIDS = []\n",
    "rate = 1\n",
    "f_frms  = f_ftrs = f_mtchs = True\n",
    "\n",
    "for plylst in PLYLSTs: \n",
    "    for v in os.listdir(plylst): \n",
    "        args = (pth_vid(v, plylst), rate, f_frms, f_ftrs, f_mtchs)\n",
    "        Process(target=parent_iter0, args=args)\n",
    "        "
   ]
  },
  {
   "cell_type": "code",
   "execution_count": 33,
   "metadata": {},
   "outputs": [],
   "source": [
    "l.remove(('2','7'))"
   ]
  }
 ],
 "metadata": {
  "kernelspec": {
   "display_name": "Python 3",
   "language": "python",
   "name": "python3"
  },
  "language_info": {
   "codemirror_mode": {
    "name": "ipython",
    "version": 3
   },
   "file_extension": ".py",
   "mimetype": "text/x-python",
   "name": "python",
   "nbconvert_exporter": "python",
   "pygments_lexer": "ipython3",
   "version": "3.6.8"
  },
  "toc": {
   "base_numbering": 1,
   "nav_menu": {},
   "number_sections": true,
   "sideBar": true,
   "skip_h1_title": false,
   "title_cell": "Table of Contents",
   "title_sidebar": "Contents",
   "toc_cell": false,
   "toc_position": {},
   "toc_section_display": true,
   "toc_window_display": false
  },
  "varInspector": {
   "cols": {
    "lenName": 16,
    "lenType": 16,
    "lenVar": 40
   },
   "kernels_config": {
    "python": {
     "delete_cmd_postfix": "",
     "delete_cmd_prefix": "del ",
     "library": "var_list.py",
     "varRefreshCmd": "print(var_dic_list())"
    },
    "r": {
     "delete_cmd_postfix": ") ",
     "delete_cmd_prefix": "rm(",
     "library": "var_list.r",
     "varRefreshCmd": "cat(var_dic_list()) "
    }
   },
   "types_to_exclude": [
    "module",
    "function",
    "builtin_function_or_method",
    "instance",
    "_Feature"
   ],
   "window_display": false
  }
 },
 "nbformat": 4,
 "nbformat_minor": 2
}
