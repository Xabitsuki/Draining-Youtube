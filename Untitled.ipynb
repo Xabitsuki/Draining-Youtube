{
 "cells": [
  {
   "cell_type": "code",
   "execution_count": 7,
   "metadata": {},
   "outputs": [],
   "source": [
    "from time import sleep \n",
    "from multiprocessing import Process "
   ]
  },
  {
   "cell_type": "code",
   "execution_count": 12,
   "metadata": {},
   "outputs": [],
   "source": [
    "def p1():\n",
    "    print('start p1')\n",
    "    for i in range(5):\n",
    "        Process(target=p2, args=()).start()\n",
    "    print('finish p1')"
   ]
  },
  {
   "cell_type": "code",
   "execution_count": 13,
   "metadata": {},
   "outputs": [],
   "source": [
    "def p2():\n",
    "    print('start p2')\n",
    "    sleep(2)\n",
    "    print('finish p2')"
   ]
  },
  {
   "cell_type": "code",
   "execution_count": null,
   "metadata": {},
   "outputs": [],
   "source": [
    "class Worker2:\n",
    "\n",
    "    def __init__(self, task_queue):\n",
    "        self.q = task_queue\n",
    "\n",
    "\n",
    "    def Qiter0(self, args):\n",
    "        \"\"\"Performs iter0() and enqueues an sfm_pipe process with the generated sets.\"\"\"\n",
    "        path_set_dir, width = iter0(*args)\n",
    "        pth_sets = [os.path.join(path_set_dir, el) for el in os.listdir(path_set_dir)]\n",
    "\n",
    "        # Enqueue next tasks\n",
    "        for pth_set in pth_sets:\n",
    "            args = (pth_set, width)\n",
    "            self.q.put(('sfm_pipe', args))\n",
    "\n",
    "\n",
    "    def sfm_pipe(self, pth, width):\n",
    "        sfm_pipe(pth_set=pth, width=width)\n",
    "\n",
    "\n",
    "    def work(self, func, args):\n",
    "\n",
    "        if func == 'Qiter0':\n",
    "            self.Qiter0(args)\n",
    "\n",
    "        elif func == 'sfm_pipe':\n",
    "            print('SFM PIPE')\n",
    "            print(*args)\n",
    "            self.sfm_pipe(*args)"
   ]
  },
  {
   "cell_type": "code",
   "execution_count": null,
   "metadata": {},
   "outputs": [],
   "source": [
    "def worker_exec2(task_queue, wip_l):\n",
    "    # Work until no tasks are pending\n",
    "    # instanciate worker\n",
    "    worker = Worker2(task_queue)\n",
    "    func, args = task_queue.get()\n",
    "    # put worker to work\n",
    "    wip_l = \n",
    "    worker.work(func, args)\n",
    "    "
   ]
  },
  {
   "cell_type": "code",
   "execution_count": 14,
   "metadata": {
    "scrolled": false
   },
   "outputs": [
    {
     "name": "stdout",
     "output_type": "stream",
     "text": [
      "start p1\n",
      "start p1\n",
      "start p2\n",
      "start p2\n",
      "start p2\n",
      "start p1\n",
      "start p2\n",
      "start p1\n",
      "finish p1\n",
      "start p2\n",
      "start p2\n",
      "start p1\n",
      "start p2\n",
      "start p2\n",
      "start p2\n",
      "finish p1\n",
      "start p2\n",
      "finish p1\n",
      "start p2\n",
      "start p2\n",
      "finish p1\n",
      "start p2\n",
      "start p2\n",
      "start p2\n",
      "finish p1\n",
      "start p2\n",
      "start p2\n",
      "start p2\n",
      "start p2\n",
      "start p2\n",
      "start p2\n",
      "start p2\n",
      "start p2\n",
      "start p2\n",
      "start p2\n",
      "finish p2\n",
      "finish p2\n",
      "finish p2\n",
      "finish p2\n",
      "finish p2\n",
      "finish p2\n",
      "finish p2\n",
      "finish p2\n",
      "finish p2\n",
      "finish p2\n",
      "finish p2\n",
      "finish p2\n",
      "finish p2\n",
      "finish p2\n",
      "finish p2\n",
      "finish p2\n",
      "finish p2\n",
      "finish p2\n",
      "finish p2\n",
      "finish p2\n",
      "finish p2\n",
      "finish p2\n",
      "finish p2\n",
      "finish p2\n",
      "finish p2\n"
     ]
    }
   ],
   "source": [
    "def drain2(rate, f_frms, f_ftrs, f_mtchs, sample,\n",
    "           plylsts=[], vids=[]):\n",
    "    # Enqueue Qiter0 tasks:\n",
    "    Q = Queue()\n",
    "    wip_l = []\n",
    "    \n",
    "    for plylst in plylsts:\n",
    "        for v_id in os.listdir(pth_plylst(plylst)):\n",
    "            args = (pth_vid(v_id, plylst),\n",
    "                    rate, f_frms, f_ftrs, f_mtchs, sample)\n",
    "            Q.put(('Qiter0', args))\n",
    "\n",
    "    for v_id in vids:\n",
    "        args = (pth_vid(v_id),\n",
    "                rate, f_frms, f_ftrs, f_mtchs, sample)\n",
    "        Q.put(('Qiter0', args))\n",
    "\n",
    "    while True: \n",
    "        if not task_queue.empty():\n",
    "            p = Process(target=worker_exec2, args=(Q,wip_l))\n",
    "            p.start()"
   ]
  },
  {
   "cell_type": "markdown",
   "metadata": {},
   "source": [
    "## Simple way "
   ]
  },
  {
   "cell_type": "code",
   "execution_count": 41,
   "metadata": {},
   "outputs": [],
   "source": [
    "%load_ext autoreload\n",
    "%autoreload 2"
   ]
  },
  {
   "cell_type": "code",
   "execution_count": 38,
   "metadata": {},
   "outputs": [],
   "source": [
    "import os \n",
    "from multiprocessing import Process\n",
    "from functions import * \n",
    "from master_functions import iter0, sfm_pipe"
   ]
  },
  {
   "cell_type": "code",
   "execution_count": null,
   "metadata": {},
   "outputs": [],
   "source": [
    "# def iter0(path_vid, rate, frame_force=False, feature_force=False, match_force=False, sample=False):\n",
    "# def sfm_pipe(pth_set, width):"
   ]
  },
  {
   "cell_type": "code",
   "execution_count": 40,
   "metadata": {},
   "outputs": [],
   "source": [
    "def parent_iter0(args): \n",
    "    # launch iter0() process: \n",
    "    pth_sets, width = iter0(*args)\n",
    "    for set_ in os.listdir(pth_sets): \n",
    "        sfm_pipe()"
   ]
  },
  {
   "cell_type": "code",
   "execution_count": 31,
   "metadata": {},
   "outputs": [],
   "source": [
    "\n",
    "PLYLST = ['SHIBUYA']\n",
    "VIDS = []\n",
    "rate = 1\n",
    "f_frms  = f_ftrs = f_mtchs = True\n",
    "\n",
    "for plylst in PLYLSTs: \n",
    "    for v in os.listdir(plylst): \n",
    "        args = (pth_vid(v, plylst), rate, f_frms, f_ftrs, f_mtchs)\n",
    "        Process(target=parent_iter0, args=args)\n",
    "        "
   ]
  },
  {
   "cell_type": "code",
   "execution_count": 33,
   "metadata": {},
   "outputs": [],
   "source": [
    "l.remove(('2','7'))"
   ]
  }
 ],
 "metadata": {
  "kernelspec": {
   "display_name": "Python 3",
   "language": "python",
   "name": "python3"
  },
  "language_info": {
   "codemirror_mode": {
    "name": "ipython",
    "version": 3
   },
   "file_extension": ".py",
   "mimetype": "text/x-python",
   "name": "python",
   "nbconvert_exporter": "python",
   "pygments_lexer": "ipython3",
   "version": "3.7.3"
  },
  "toc": {
   "base_numbering": 1,
   "nav_menu": {},
   "number_sections": true,
   "sideBar": true,
   "skip_h1_title": false,
   "title_cell": "Table of Contents",
   "title_sidebar": "Contents",
   "toc_cell": false,
   "toc_position": {},
   "toc_section_display": true,
   "toc_window_display": false
  },
  "varInspector": {
   "cols": {
    "lenName": 16,
    "lenType": 16,
    "lenVar": 40
   },
   "kernels_config": {
    "python": {
     "delete_cmd_postfix": "",
     "delete_cmd_prefix": "del ",
     "library": "var_list.py",
     "varRefreshCmd": "print(var_dic_list())"
    },
    "r": {
     "delete_cmd_postfix": ") ",
     "delete_cmd_prefix": "rm(",
     "library": "var_list.r",
     "varRefreshCmd": "cat(var_dic_list()) "
    }
   },
   "types_to_exclude": [
    "module",
    "function",
    "builtin_function_or_method",
    "instance",
    "_Feature"
   ],
   "window_display": false
  }
 },
 "nbformat": 4,
 "nbformat_minor": 2
}
