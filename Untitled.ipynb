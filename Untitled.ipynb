{
 "cells": [
  {
   "cell_type": "code",
   "execution_count": 43,
   "metadata": {},
   "outputs": [
    {
     "name": "stdout",
     "output_type": "stream",
     "text": [
      "The autoreload extension is already loaded. To reload it, use:\n",
      "  %reload_ext autoreload\n"
     ]
    }
   ],
   "source": [
    "%load_ext autoreload\n",
    "%autoreload 2\n",
    "from functions import * \n",
    "from master_functions import * "
   ]
  },
  {
   "cell_type": "code",
   "execution_count": 16,
   "metadata": {},
   "outputs": [
    {
     "name": "stdout",
     "output_type": "stream",
     "text": [
      "[youtube] nQDcDZ6rmGE: Downloading webpage\n",
      "[youtube] nQDcDZ6rmGE: Downloading video info webpage\n",
      "[youtube] nQDcDZ6rmGE: Downloading js player vflU6l_su\n",
      "[info] Writing video description metadata as JSON to: videos/nQDcDZ6rmGE/data/nQDcDZ6rmGE_3840x2160.info.json\n",
      "[download] videos/nQDcDZ6rmGE/data/nQDcDZ6rmGE_3840x2160.webm has already been downloaded and merged\n"
     ]
    }
   ],
   "source": [
    "url = 'https://www.youtube.com/watch?v=nQDcDZ6rmGE'\n",
    "\n",
    "a = yt_dl(url)"
   ]
  },
  {
   "cell_type": "code",
   "execution_count": 15,
   "metadata": {},
   "outputs": [
    {
     "name": "stdout",
     "output_type": "stream",
     "text": [
      "ffmpeg -i /Users/xrubiato/DHLab/Draining-Youtube/videos/nQDcDZ6rmGE/data/nQDcDZ6rmGE_3840x2160.info.json -ss 120 -t 240 -r 2 -f image2 /Users/xrubiato/DHLab/Draining-Youtube/videos/nQDcDZ6rmGE/frames/frame%04d.png\n"
     ]
    }
   ],
   "source": [
    "frame_xtrct(v_id=url_to_id(url), sample=True, start=120, stop=240)"
   ]
  },
  {
   "cell_type": "code",
   "execution_count": 32,
   "metadata": {},
   "outputs": [],
   "source": [
    "def yt_dl(url, opts={}):\n",
    "    \"\"\"Call youtube-dl to download a video providing the url\"\"\"\n",
    "\n",
    "    if not opts:\n",
    "        # Provide an output template to store all the videos in a single directory,\n",
    "        # name them by id and extension and write information in json file\n",
    "        opts = {'outtmpl': 'videos/%(id)s/data/%(id)s_%(resolution)s.%(ext)s',\n",
    "                'writeinfojson': 'videos/%(id)s/data/info.json'}\n",
    "\n",
    "    with youtube_dl.YoutubeDL(opts) as ydl:\n",
    "        ydl.download([url])"
   ]
  },
  {
   "cell_type": "code",
   "execution_count": 35,
   "metadata": {},
   "outputs": [
    {
     "name": "stdout",
     "output_type": "stream",
     "text": [
      "[youtube] BaW_jenozKc: Downloading webpage\n",
      "[youtube] BaW_jenozKc: Downloading video info webpage\n",
      "[info] Writing video description metadata as JSON to: videos/BaW_jenozKc/data/BaW_jenozKc_1920x1080.info.json\n",
      "[download] Destination: videos/BaW_jenozKc/data/BaW_jenozKc_1920x1080.f137.mp4\n",
      "[download] 100% of 2.11MiB in 00:0052MiB/s ETA 00:003\n",
      "[download] Destination: videos/BaW_jenozKc/data/BaW_jenozKc_1920x1080.f140.m4a\n",
      "[download] 100% of 154.06KiB in 00:0086MiB/s ETA 00:000\n",
      "[ffmpeg] Merging formats into \"videos/BaW_jenozKc/data/BaW_jenozKc_1920x1080.mp4\"\n",
      "Deleting original file videos/BaW_jenozKc/data/BaW_jenozKc_1920x1080.f137.mp4 (pass -k to keep)\n",
      "Deleting original file videos/BaW_jenozKc/data/BaW_jenozKc_1920x1080.f140.m4a (pass -k to keep)\n"
     ]
    }
   ],
   "source": [
    "url = 'https://www.youtube.com/watch?v=BaW_jenozKc'\n",
    "yt_dl(url)"
   ]
  },
  {
   "cell_type": "code",
   "execution_count": 38,
   "metadata": {},
   "outputs": [],
   "source": [
    "dic = get_dic_info(url_to_id(url))"
   ]
  },
  {
   "cell_type": "code",
   "execution_count": 44,
   "metadata": {},
   "outputs": [],
   "source": [
    "v_id = '9Ax-JrJ06fU'"
   ]
  },
  {
   "cell_type": "code",
   "execution_count": null,
   "metadata": {},
   "outputs": [],
   "source": []
  }
 ],
 "metadata": {
  "kernelspec": {
   "display_name": "Python 3",
   "language": "python",
   "name": "python3"
  },
  "language_info": {
   "codemirror_mode": {
    "name": "ipython",
    "version": 3
   },
   "file_extension": ".py",
   "mimetype": "text/x-python",
   "name": "python",
   "nbconvert_exporter": "python",
   "pygments_lexer": "ipython3",
   "version": "3.6.8"
  },
  "toc": {
   "base_numbering": 1,
   "nav_menu": {},
   "number_sections": true,
   "sideBar": true,
   "skip_h1_title": false,
   "title_cell": "Table of Contents",
   "title_sidebar": "Contents",
   "toc_cell": false,
   "toc_position": {},
   "toc_section_display": true,
   "toc_window_display": false
  },
  "varInspector": {
   "cols": {
    "lenName": 16,
    "lenType": 16,
    "lenVar": 40
   },
   "kernels_config": {
    "python": {
     "delete_cmd_postfix": "",
     "delete_cmd_prefix": "del ",
     "library": "var_list.py",
     "varRefreshCmd": "print(var_dic_list())"
    },
    "r": {
     "delete_cmd_postfix": ") ",
     "delete_cmd_prefix": "rm(",
     "library": "var_list.r",
     "varRefreshCmd": "cat(var_dic_list()) "
    }
   },
   "types_to_exclude": [
    "module",
    "function",
    "builtin_function_or_method",
    "instance",
    "_Feature"
   ],
   "window_display": false
  }
 },
 "nbformat": 4,
 "nbformat_minor": 2
}
