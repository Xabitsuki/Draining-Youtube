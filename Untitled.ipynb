{
 "cells": [
  {
   "cell_type": "code",
   "execution_count": null,
   "metadata": {},
   "outputs": [],
   "source": [
    "%load_ext autoreload\n",
    "%autoreload 2"
   ]
  },
  {
   "cell_type": "code",
   "execution_count": null,
   "metadata": {},
   "outputs": [],
   "source": [
    "import os \n",
    "from time import sleep\n",
    "from multiprocessing import Queue, Manager, Process\n",
    "\n",
    "from functions import yt_dl, pth_vid\n",
    "from master_functions import iter0, sfm_pipe "
   ]
  },
  {
   "cell_type": "code",
   "execution_count": null,
   "metadata": {},
   "outputs": [],
   "source": [
    "def Qiter0(Q, args):\n",
    "    \"\"\"Performs iter0() and enqueues an sfm_pipe process with the generated sets.\"\"\"\n",
    "    path_set_dir, width = iter0(*args)\n",
    "    pth_sets = [os.path.join(path_set_dir, el) for el in os.listdir(path_set_dir)]\n",
    "    print(width)\n",
    "    # Enqueue next tasks\n",
    "    for pth_set in pth_sets:\n",
    "        args = (pth_set, width)\n",
    "        Q.put(('sfm_pipe', args))\n",
    "\n",
    "def work(func, args):\n",
    "\n",
    "    if func == 'Qiter0':\n",
    "        Qiter0(args)\n",
    "\n",
    "    elif func == 'sfm_pipe':\n",
    "        sfm_pipe(*args)\n",
    "\n",
    "            \n",
    "def worker_exec(Q, wip_l):\n",
    "    # append to wip list \n",
    "    func, args = Q.get()\n",
    "    wip_l.append(func)\n",
    "    \n",
    "    # Do task and remove it \n",
    "    work(func, args)\n",
    "    wip_l.remove(func)\n",
    "\n",
    "    \n",
    "def drain(rate, f_frms, f_ftrs, f_mtchs, sample,\n",
    "           plylsts=[], vids=[]):\n",
    "    \n",
    "    Q = Queue()\n",
    "    manager = Manager()\n",
    "    wip_l = manager.list()\n",
    "    \n",
    "    for plylst in plylsts:\n",
    "        for v_id in os.listdir(pth_plylst(plylst)):\n",
    "            \n",
    "            args = (pth_vid(v_id, plylst), rate, f_frms, f_ftrs, f_mtchs, sample)\n",
    "            Q.put(('Qiter0', args))\n",
    "\n",
    "    for v_id in vids:\n",
    "            \n",
    "            args = (pth_vid(v_id), rate, f_frms, f_ftrs, f_mtchs, sample)\n",
    "            Q.put(('Qiter0', args))\n",
    "                  \n",
    "    while True:\n",
    "        \n",
    "        if not Q.empty():\n",
    "            Process(target=worker_exec, args=(Q, wip_l)).start()\n",
    "            sleep(0.5)\n",
    "        \n",
    "        else: \n",
    "            if len(wip_l) == 0:\n",
    "                print('Finish Draining')\n",
    "                break "
   ]
  },
  {
   "cell_type": "code",
   "execution_count": null,
   "metadata": {},
   "outputs": [],
   "source": [
    "rate = 2\n",
    "sample = False\n",
    "f_frms  = f_ftrs = f_mtchs = True\n",
    "PLYLST = []\n",
    "VIDS = ['b3dMHvxGIKY']\n",
    "\n",
    "drain(rate, f_frms, f_ftrs, f_mtchs, sample,\n",
    "      plylsts=PLYLST, vids=VIDS)"
   ]
  },
  {
   "cell_type": "markdown",
   "metadata": {},
   "source": [
    "## Archive "
   ]
  },
  {
   "cell_type": "code",
   "execution_count": null,
   "metadata": {},
   "outputs": [],
   "source": [
    "class Worker:\n",
    "\n",
    "    def __init__(self, Q):\n",
    "        self.Q = Q\n",
    "\n",
    "\n",
    "    def Qiter0(self, args):\n",
    "        \"\"\"Performs iter0() and enqueues an sfm_pipe process with the generated sets.\"\"\"\n",
    "        path_set_dir, width = iter0(*args)\n",
    "        pth_sets = [os.path.join(path_set_dir, el) for el in os.listdir(path_set_dir)]\n",
    "        print(width)\n",
    "        # Enqueue next tasks\n",
    "        for pth_set in pth_sets:\n",
    "            args = (pth_set, width)\n",
    "            self.Q.put(('sfm_pipe', args))\n",
    "\n",
    "\n",
    "    def sfm_pipe(self, args):\n",
    "        sfm_pipe(*args)\n",
    "\n",
    "\n",
    "    def work(self, func, args):\n",
    "\n",
    "        if func == 'Qiter0':\n",
    "            self.Qiter0(args)\n",
    "\n",
    "        elif func == 'sfm_pipe':\n",
    "            self.sfm_pipe(args)\n",
    "\n",
    "            \n",
    "def worker_exec(Q, wip_l):\n",
    "    \n",
    "    func, args = Q.get()\n",
    "    # append to wip list \n",
    "    wip_l.append(func)\n",
    "    \n",
    "    # instanciate worker \n",
    "    worker = Worker(Q)\n",
    "    worker.work(func, args)\n",
    "    # remove from list after it finishes \n",
    "    wip_l.remove(func)\n",
    "\n",
    "    \n",
    "def drain(rate, f_frms, f_ftrs, f_mtchs, sample,\n",
    "           plylsts=[], vids=[]):\n",
    "    \n",
    "    Q = Queue()\n",
    "    manager = Manager()\n",
    "    wip_l = manager.list()\n",
    "    \n",
    "    for plylst in plylsts:\n",
    "        for v_id in os.listdir(pth_plylst(plylst)):\n",
    "            \n",
    "            args = (pth_vid(v_id, plylst), rate, f_frms, f_ftrs, f_mtchs, sample)\n",
    "            Q.put(('Qiter0', args))\n",
    "\n",
    "    for v_id in vids:\n",
    "            \n",
    "            args = (pth_vid(v_id), rate, f_frms, f_ftrs, f_mtchs, sample)\n",
    "            Q.put(('Qiter0', args))\n",
    "                  \n",
    "    while True:\n",
    "        \n",
    "        if not Q.empty():\n",
    "            Process(target=worker_exec, args=(Q, wip_l)).start()\n",
    "            sleep(0.5)\n",
    "        \n",
    "        else: \n",
    "            if len(wip_l) == 0:\n",
    "                print('Finish Draining')\n",
    "                break "
   ]
  }
 ],
 "metadata": {
  "kernelspec": {
   "display_name": "Python 3",
   "language": "python",
   "name": "python3"
  },
  "language_info": {
   "codemirror_mode": {
    "name": "ipython",
    "version": 3
   },
   "file_extension": ".py",
   "mimetype": "text/x-python",
   "name": "python",
   "nbconvert_exporter": "python",
   "pygments_lexer": "ipython3",
   "version": "3.6.8"
  },
  "toc": {
   "base_numbering": 1,
   "nav_menu": {},
   "number_sections": true,
   "sideBar": true,
   "skip_h1_title": false,
   "title_cell": "Table of Contents",
   "title_sidebar": "Contents",
   "toc_cell": false,
   "toc_position": {},
   "toc_section_display": true,
   "toc_window_display": false
  },
  "varInspector": {
   "cols": {
    "lenName": 16,
    "lenType": 16,
    "lenVar": 40
   },
   "kernels_config": {
    "python": {
     "delete_cmd_postfix": "",
     "delete_cmd_prefix": "del ",
     "library": "var_list.py",
     "varRefreshCmd": "print(var_dic_list())"
    },
    "r": {
     "delete_cmd_postfix": ") ",
     "delete_cmd_prefix": "rm(",
     "library": "var_list.r",
     "varRefreshCmd": "cat(var_dic_list()) "
    }
   },
   "types_to_exclude": [
    "module",
    "function",
    "builtin_function_or_method",
    "instance",
    "_Feature"
   ],
   "window_display": false
  }
 },
 "nbformat": 4,
 "nbformat_minor": 2
}
