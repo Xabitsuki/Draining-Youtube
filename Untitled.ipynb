{
 "cells": [
  {
   "cell_type": "code",
   "execution_count": 5,
   "metadata": {},
   "outputs": [
    {
     "name": "stdout",
     "output_type": "stream",
     "text": [
      "The autoreload extension is already loaded. To reload it, use:\n",
      "  %reload_ext autoreload\n"
     ]
    }
   ],
   "source": [
    "%load_ext autoreload\n",
    "%autoreload 2\n",
    "from functions import * \n",
    "from master_functions import * "
   ]
  },
  {
   "cell_type": "code",
   "execution_count": 2,
   "metadata": {},
   "outputs": [],
   "source": [
    "url = 'https://www.youtube.com/watch?v=nQDcDZ6rmGE'"
   ]
  },
  {
   "cell_type": "code",
   "execution_count": 10,
   "metadata": {},
   "outputs": [
    {
     "name": "stdout",
     "output_type": "stream",
     "text": [
      "[youtube] nQDcDZ6rmGE: Downloading webpage\n",
      "[youtube] nQDcDZ6rmGE: Downloading video info webpage\n",
      "[info] Writing video description metadata as JSON to: videos/nQDcDZ6rmGE/data/nQDcDZ6rmGE_3840x2160.info.json\n",
      "[download] Destination: videos/nQDcDZ6rmGE/data/nQDcDZ6rmGE_3840x2160.f313.webm\n",
      "[download] 100% of 538.72MiB in 00:1891MiB/s ETA 00:00known ETA\n",
      "[download] Destination: videos/nQDcDZ6rmGE/data/nQDcDZ6rmGE_3840x2160.f251.webm\n",
      "[download] 100% of 4.83MiB in 00:0055MiB/s ETA 00:005\n",
      "[ffmpeg] Merging formats into \"videos/nQDcDZ6rmGE/data/nQDcDZ6rmGE_3840x2160.webm\"\n",
      "Deleting original file videos/nQDcDZ6rmGE/data/nQDcDZ6rmGE_3840x2160.f313.webm (pass -k to keep)\n",
      "Deleting original file videos/nQDcDZ6rmGE/data/nQDcDZ6rmGE_3840x2160.f251.webm (pass -k to keep)\n"
     ]
    }
   ],
   "source": [
    "yt_dl(url)"
   ]
  }
 ],
 "metadata": {
  "kernelspec": {
   "display_name": "Python 3",
   "language": "python",
   "name": "python3"
  },
  "language_info": {
   "codemirror_mode": {
    "name": "ipython",
    "version": 3
   },
   "file_extension": ".py",
   "mimetype": "text/x-python",
   "name": "python",
   "nbconvert_exporter": "python",
   "pygments_lexer": "ipython3",
   "version": "3.7.3"
  }
 },
 "nbformat": 4,
 "nbformat_minor": 2
}
