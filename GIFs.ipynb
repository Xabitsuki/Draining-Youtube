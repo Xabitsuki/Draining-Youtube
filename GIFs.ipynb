{
 "cells": [
  {
   "cell_type": "code",
   "execution_count": 1,
   "metadata": {},
   "outputs": [],
   "source": [
    "import imageio\n",
    "import os \n",
    "from os.path import join "
   ]
  },
  {
   "cell_type": "code",
   "execution_count": 4,
   "metadata": {},
   "outputs": [],
   "source": [
    "folder = '/home/dhacker/Draining-Youtube/videos/OKjR_A_u6Ww/sets/set_4'\n",
    "gif = '/home/dhacker/Draining-Youtube/videos/OKjR_A_u6Ww/sets/set_4/set.gif'\n",
    "frames_folder = join(folder, 'frames')\n",
    "frames = [join(frames_folder, frm) for frm in sorted(os.listdir(frames_folder))]"
   ]
  },
  {
   "cell_type": "code",
   "execution_count": 5,
   "metadata": {},
   "outputs": [
    {
     "data": {
      "text/plain": [
       "['/home/dhacker/Draining-Youtube/videos/OKjR_A_u6Ww/sets/set_4/frames/frame0152.png',\n",
       " '/home/dhacker/Draining-Youtube/videos/OKjR_A_u6Ww/sets/set_4/frames/frame0153.png',\n",
       " '/home/dhacker/Draining-Youtube/videos/OKjR_A_u6Ww/sets/set_4/frames/frame0154.png',\n",
       " '/home/dhacker/Draining-Youtube/videos/OKjR_A_u6Ww/sets/set_4/frames/frame0155.png',\n",
       " '/home/dhacker/Draining-Youtube/videos/OKjR_A_u6Ww/sets/set_4/frames/frame0156.png',\n",
       " '/home/dhacker/Draining-Youtube/videos/OKjR_A_u6Ww/sets/set_4/frames/frame0157.png',\n",
       " '/home/dhacker/Draining-Youtube/videos/OKjR_A_u6Ww/sets/set_4/frames/frame0158.png',\n",
       " '/home/dhacker/Draining-Youtube/videos/OKjR_A_u6Ww/sets/set_4/frames/frame0159.png',\n",
       " '/home/dhacker/Draining-Youtube/videos/OKjR_A_u6Ww/sets/set_4/frames/frame0160.png',\n",
       " '/home/dhacker/Draining-Youtube/videos/OKjR_A_u6Ww/sets/set_4/frames/frame0161.png',\n",
       " '/home/dhacker/Draining-Youtube/videos/OKjR_A_u6Ww/sets/set_4/frames/frame0162.png',\n",
       " '/home/dhacker/Draining-Youtube/videos/OKjR_A_u6Ww/sets/set_4/frames/frame0163.png',\n",
       " '/home/dhacker/Draining-Youtube/videos/OKjR_A_u6Ww/sets/set_4/frames/frame0164.png',\n",
       " '/home/dhacker/Draining-Youtube/videos/OKjR_A_u6Ww/sets/set_4/frames/frame0165.png',\n",
       " '/home/dhacker/Draining-Youtube/videos/OKjR_A_u6Ww/sets/set_4/frames/frame0166.png',\n",
       " '/home/dhacker/Draining-Youtube/videos/OKjR_A_u6Ww/sets/set_4/frames/frame0167.png',\n",
       " '/home/dhacker/Draining-Youtube/videos/OKjR_A_u6Ww/sets/set_4/frames/frame0168.png',\n",
       " '/home/dhacker/Draining-Youtube/videos/OKjR_A_u6Ww/sets/set_4/frames/frame0169.png',\n",
       " '/home/dhacker/Draining-Youtube/videos/OKjR_A_u6Ww/sets/set_4/frames/frame0170.png',\n",
       " '/home/dhacker/Draining-Youtube/videos/OKjR_A_u6Ww/sets/set_4/frames/frame0171.png',\n",
       " '/home/dhacker/Draining-Youtube/videos/OKjR_A_u6Ww/sets/set_4/frames/frame0172.png',\n",
       " '/home/dhacker/Draining-Youtube/videos/OKjR_A_u6Ww/sets/set_4/frames/frame0173.png',\n",
       " '/home/dhacker/Draining-Youtube/videos/OKjR_A_u6Ww/sets/set_4/frames/frame0174.png',\n",
       " '/home/dhacker/Draining-Youtube/videos/OKjR_A_u6Ww/sets/set_4/frames/frame0175.png',\n",
       " '/home/dhacker/Draining-Youtube/videos/OKjR_A_u6Ww/sets/set_4/frames/frame0176.png',\n",
       " '/home/dhacker/Draining-Youtube/videos/OKjR_A_u6Ww/sets/set_4/frames/frame0177.png',\n",
       " '/home/dhacker/Draining-Youtube/videos/OKjR_A_u6Ww/sets/set_4/frames/frame0178.png',\n",
       " '/home/dhacker/Draining-Youtube/videos/OKjR_A_u6Ww/sets/set_4/frames/frame0179.png',\n",
       " '/home/dhacker/Draining-Youtube/videos/OKjR_A_u6Ww/sets/set_4/frames/frame0180.png',\n",
       " '/home/dhacker/Draining-Youtube/videos/OKjR_A_u6Ww/sets/set_4/frames/frame0181.png',\n",
       " '/home/dhacker/Draining-Youtube/videos/OKjR_A_u6Ww/sets/set_4/frames/frame0182.png',\n",
       " '/home/dhacker/Draining-Youtube/videos/OKjR_A_u6Ww/sets/set_4/frames/frame0183.png',\n",
       " '/home/dhacker/Draining-Youtube/videos/OKjR_A_u6Ww/sets/set_4/frames/frame0184.png',\n",
       " '/home/dhacker/Draining-Youtube/videos/OKjR_A_u6Ww/sets/set_4/frames/frame0185.png',\n",
       " '/home/dhacker/Draining-Youtube/videos/OKjR_A_u6Ww/sets/set_4/frames/frame0186.png',\n",
       " '/home/dhacker/Draining-Youtube/videos/OKjR_A_u6Ww/sets/set_4/frames/frame0187.png']"
      ]
     },
     "execution_count": 5,
     "metadata": {},
     "output_type": "execute_result"
    }
   ],
   "source": [
    "frames"
   ]
  },
  {
   "cell_type": "code",
   "execution_count": 7,
   "metadata": {
    "scrolled": false
   },
   "outputs": [],
   "source": [
    "with imageio.get_writer(gif, mode='I') as writer:\n",
    "    for frm in frames:\n",
    "        image = imageio.imread(frm)\n",
    "        writer.append_data(image)"
   ]
  },
  {
   "cell_type": "code",
   "execution_count": 8,
   "metadata": {},
   "outputs": [
    {
     "data": {
      "text/plain": [
       "'/home/dhacker/Draining-Youtube/videos/OKjR_A_u6Ww/sets/set_4/set.gif'"
      ]
     },
     "execution_count": 8,
     "metadata": {},
     "output_type": "execute_result"
    }
   ],
   "source": [
    "gif"
   ]
  }
 ],
 "metadata": {
  "kernelspec": {
   "display_name": "Python 3",
   "language": "python",
   "name": "python3"
  },
  "language_info": {
   "codemirror_mode": {
    "name": "ipython",
    "version": 3
   },
   "file_extension": ".py",
   "mimetype": "text/x-python",
   "name": "python",
   "nbconvert_exporter": "python",
   "pygments_lexer": "ipython3",
   "version": "3.7.3"
  },
  "toc": {
   "base_numbering": 1,
   "nav_menu": {},
   "number_sections": true,
   "sideBar": true,
   "skip_h1_title": false,
   "title_cell": "Table of Contents",
   "title_sidebar": "Contents",
   "toc_cell": false,
   "toc_position": {},
   "toc_section_display": true,
   "toc_window_display": false
  },
  "varInspector": {
   "cols": {
    "lenName": 16,
    "lenType": 16,
    "lenVar": 40
   },
   "kernels_config": {
    "python": {
     "delete_cmd_postfix": "",
     "delete_cmd_prefix": "del ",
     "library": "var_list.py",
     "varRefreshCmd": "print(var_dic_list())"
    },
    "r": {
     "delete_cmd_postfix": ") ",
     "delete_cmd_prefix": "rm(",
     "library": "var_list.r",
     "varRefreshCmd": "cat(var_dic_list()) "
    }
   },
   "types_to_exclude": [
    "module",
    "function",
    "builtin_function_or_method",
    "instance",
    "_Feature"
   ],
   "window_display": false
  }
 },
 "nbformat": 4,
 "nbformat_minor": 2
}
