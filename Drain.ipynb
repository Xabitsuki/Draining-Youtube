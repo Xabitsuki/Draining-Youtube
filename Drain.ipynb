{
 "cells": [
  {
   "cell_type": "code",
   "execution_count": 5,
   "metadata": {
    "scrolled": true
   },
   "outputs": [
    {
     "name": "stdout",
     "output_type": "stream",
     "text": [
      "The autoreload extension is already loaded. To reload it, use:\n",
      "  %reload_ext autoreload\n"
     ]
    }
   ],
   "source": [
    "%load_ext autoreload\n",
    "%autoreload 2\n",
    "\n",
    "import smtplib as smtp \n",
    "import ssl \n",
    "import os\n",
    "\n",
    "import queue\n",
    "import multiprocessing\n",
    "\n",
    "from functions import *\n",
    "from master_functions import * "
   ]
  },
  {
   "cell_type": "markdown",
   "metadata": {
    "heading_collapsed": true
   },
   "source": [
    "## Mail"
   ]
  },
  {
   "cell_type": "code",
   "execution_count": 2,
   "metadata": {
    "hidden": true
   },
   "outputs": [],
   "source": [
    "mail = 'drainingytb@gmail.com'\n",
    "pswd = 'YoDH@ck3r'"
   ]
  },
  {
   "cell_type": "code",
   "execution_count": 3,
   "metadata": {
    "hidden": true
   },
   "outputs": [],
   "source": [
    "ssl_cntxt = ssl.create_default_context()"
   ]
  },
  {
   "cell_type": "code",
   "execution_count": 14,
   "metadata": {
    "hidden": true
   },
   "outputs": [],
   "source": [
    "smtp.SMTP_SSL()\n",
    "\n",
    "\n",
    "with smtplib.SMTP_SSL(\"smtp.gmail.com\", port=465, context=ssl_cntxt) as server:\n",
    "    server.login(mail, pswd)\n",
    "    server.sendmail(from_addr=mail,\n",
    "                    to_addrs='xabier.rubiato@epfl.ch',\n",
    "                    msg='Finish Process')"
   ]
  },
  {
   "cell_type": "markdown",
   "metadata": {},
   "source": [
    "## Download"
   ]
  },
  {
   "cell_type": "code",
   "execution_count": 3,
   "metadata": {},
   "outputs": [],
   "source": [
    "from functions import yt_dl"
   ]
  },
  {
   "cell_type": "markdown",
   "metadata": {
    "heading_collapsed": true
   },
   "source": [
    "### Vine playlist test "
   ]
  },
  {
   "cell_type": "code",
   "execution_count": 2,
   "metadata": {
    "hidden": true
   },
   "outputs": [],
   "source": [
    "URL = 'https://www.youtube.com/watch?v=2S7Yak00e6E&list=PLeu1bSfyWCDK4KgsF2pJybJkWXKPHgD6b'\n",
    "PLAYLIST = 'test'\n",
    "N_ITEMS = 6 \n",
    "PTH_PLYLST = pth_plylst(name=PLAYLIST)"
   ]
  },
  {
   "cell_type": "code",
   "execution_count": 4,
   "metadata": {
    "hidden": true,
    "scrolled": true
   },
   "outputs": [
    {
     "name": "stdout",
     "output_type": "stream",
     "text": [
      "Start download of playlist : test\n",
      "\n",
      "[youtube:playlist] Downloading playlist PLeu1bSfyWCDK4KgsF2pJybJkWXKPHgD6b - add --no-playlist to just download video 2S7Yak00e6E\n",
      "[youtube:playlist] PLeu1bSfyWCDK4KgsF2pJybJkWXKPHgD6b: Downloading webpage\n",
      "[download] Downloading playlist: Alignments as vines\n",
      "[youtube:playlist] playlist Alignments as vines: Downloading 6 videos\n",
      "[download] Downloading video 1 of 6\n",
      "[youtube] 2S7Yak00e6E: Downloading webpage\n",
      "[youtube] 2S7Yak00e6E: Downloading video info webpage\n",
      "[info] Writing video description metadata as JSON to: videos/test/2S7Yak00e6E/data/2S7Yak00e6E_1920x1080.info.json\n"
     ]
    },
    {
     "name": "stderr",
     "output_type": "stream",
     "text": [
      "WARNING: Requested formats are incompatible for merge and will be merged into mkv.\n"
     ]
    },
    {
     "name": "stdout",
     "output_type": "stream",
     "text": [
      "[download] videos/test/2S7Yak00e6E/data/2S7Yak00e6E_1920x1080.mkv has already been downloaded and merged\n",
      "[download] Downloading video 2 of 6\n",
      "[youtube] qoqZ9T5O29g: Downloading webpage\n",
      "[youtube] qoqZ9T5O29g: Downloading video info webpage\n",
      "[info] Writing video description metadata as JSON to: videos/test/qoqZ9T5O29g/data/qoqZ9T5O29g_1920x1080.info.json\n"
     ]
    },
    {
     "name": "stderr",
     "output_type": "stream",
     "text": [
      "WARNING: Requested formats are incompatible for merge and will be merged into mkv.\n"
     ]
    },
    {
     "name": "stdout",
     "output_type": "stream",
     "text": [
      "[download] videos/test/qoqZ9T5O29g/data/qoqZ9T5O29g_1920x1080.mkv has already been downloaded and merged\n",
      "[download] Downloading video 3 of 6\n",
      "[youtube] IMVmevu6mE4: Downloading webpage\n",
      "[youtube] IMVmevu6mE4: Downloading embed webpage\n",
      "[youtube] IMVmevu6mE4: Refetching age-gated info webpage\n",
      "[info] Writing video description metadata as JSON to: videos/test/IMVmevu6mE4/data/IMVmevu6mE4_1920x1080.info.json\n",
      "[download] videos/test/IMVmevu6mE4/data/IMVmevu6mE4_1920x1080.mp4 has already been downloaded and merged\n",
      "[download] Downloading video 4 of 6\n",
      "[youtube] MNMYYEdJoC0: Downloading webpage\n",
      "[youtube] MNMYYEdJoC0: Downloading video info webpage\n",
      "[info] Writing video description metadata as JSON to: videos/test/MNMYYEdJoC0/data/MNMYYEdJoC0_1920x1080.info.json\n",
      "[download] videos/test/MNMYYEdJoC0/data/MNMYYEdJoC0_1920x1080.mp4 has already been downloaded and merged\n",
      "[download] Downloading video 5 of 6\n",
      "[youtube] -Ia18bqO-9w: Downloading webpage\n",
      "[youtube] -Ia18bqO-9w: Downloading video info webpage\n",
      "[info] Writing video description metadata as JSON to: videos/test/-Ia18bqO-9w/data/-Ia18bqO-9w_1920x1080.info.json\n"
     ]
    },
    {
     "name": "stderr",
     "output_type": "stream",
     "text": [
      "WARNING: Requested formats are incompatible for merge and will be merged into mkv.\n"
     ]
    },
    {
     "name": "stdout",
     "output_type": "stream",
     "text": [
      "[download] videos/test/-Ia18bqO-9w/data/-Ia18bqO-9w_1920x1080.mkv has already been downloaded and merged\n",
      "[download] Downloading video 6 of 6\n",
      "[youtube] yd7d51AgSso: Downloading webpage\n",
      "[youtube] yd7d51AgSso: Downloading video info webpage\n",
      "[info] Writing video description metadata as JSON to: videos/test/yd7d51AgSso/data/yd7d51AgSso_1920x1080.info.json\n",
      "[download] Destination: videos/test/yd7d51AgSso/data/yd7d51AgSso_1920x1080.f248.webm\n",
      "[download] 100% of 43.28MiB in 00:1157MiB/s ETA 00:005\n",
      "[download] Destination: videos/test/yd7d51AgSso/data/yd7d51AgSso_1920x1080.f251.webm\n",
      "[download] 100% of 4.08MiB in 00:0168MiB/s ETA 00:004\n",
      "[ffmpeg] Merging formats into \"videos/test/yd7d51AgSso/data/yd7d51AgSso_1920x1080.webm\"\n",
      "Deleting original file videos/test/yd7d51AgSso/data/yd7d51AgSso_1920x1080.f248.webm (pass -k to keep)\n",
      "Deleting original file videos/test/yd7d51AgSso/data/yd7d51AgSso_1920x1080.f251.webm (pass -k to keep)\n",
      "[download] Finished downloading playlist: Alignments as vines\n",
      "Finish download of playlist : test\n",
      "\n"
     ]
    }
   ],
   "source": [
    "print('Start download of playlist : {}\\n'.format(PLAYLIST))\n",
    "yt_dl(url= URL,\n",
    "      playlist=PLAYLIST,\n",
    "      n_items= N_ITEMS)\n",
    "print('Finish download of playlist : {}\\n'.format(PLAYLIST))"
   ]
  },
  {
   "cell_type": "markdown",
   "metadata": {},
   "source": [
    "### Download one video and put it into playlist "
   ]
  },
  {
   "cell_type": "code",
   "execution_count": 4,
   "metadata": {},
   "outputs": [
    {
     "name": "stdout",
     "output_type": "stream",
     "text": [
      "[youtube] PqyPW-Bdd4E: Downloading webpage\n",
      "[youtube] PqyPW-Bdd4E: Downloading video info webpage\n",
      "[info] Writing video description metadata as JSON to: videos/test2/PqyPW-Bdd4E/data/PqyPW-Bdd4E_1920x1080.info.json\n"
     ]
    },
    {
     "name": "stderr",
     "output_type": "stream",
     "text": [
      "WARNING: Requested formats are incompatible for merge and will be merged into mkv.\n"
     ]
    },
    {
     "name": "stdout",
     "output_type": "stream",
     "text": [
      "[download] Destination: videos/test2/PqyPW-Bdd4E/data/PqyPW-Bdd4E_1920x1080.f299.mp4\n",
      "[download] 100% of 222.50MiB in 00:2081MiB/s ETA 00:001nown ETA\n",
      "[download] Destination: videos/test2/PqyPW-Bdd4E/data/PqyPW-Bdd4E_1920x1080.f251.webm\n",
      "[download] 100% of 6.20MiB in 00:0064MiB/s ETA 00:0006\n",
      "[ffmpeg] Merging formats into \"videos/test2/PqyPW-Bdd4E/data/PqyPW-Bdd4E_1920x1080.mkv\"\n",
      "Deleting original file videos/test2/PqyPW-Bdd4E/data/PqyPW-Bdd4E_1920x1080.f299.mp4 (pass -k to keep)\n",
      "Deleting original file videos/test2/PqyPW-Bdd4E/data/PqyPW-Bdd4E_1920x1080.f251.webm (pass -k to keep)\n"
     ]
    }
   ],
   "source": [
    "URL = 'https://www.youtube.com/watch?v=PqyPW-Bdd4E'\n",
    "PLYLST = 'test2'\n",
    "yt_dl(URL, PLYLST)"
   ]
  },
  {
   "cell_type": "markdown",
   "metadata": {},
   "source": [
    "## Multiprocessing"
   ]
  },
  {
   "cell_type": "markdown",
   "metadata": {},
   "source": [
    "### Worker class and functions"
   ]
  },
  {
   "cell_type": "code",
   "execution_count": 24,
   "metadata": {},
   "outputs": [
    {
     "name": "stdout",
     "output_type": "stream",
     "text": [
      "The autoreload extension is already loaded. To reload it, use:\n",
      "  %reload_ext autoreload\n"
     ]
    }
   ],
   "source": [
    "%load_ext autoreload\n",
    "%autoreload 2\n",
    "\n",
    "import os\n",
    "from functions import *\n",
    "from functions import pth_plylst\n",
    "from master_functions import iter0, sfm_pipe\n",
    "import multiprocessing \n",
    "import queue \n",
    "from multiprocessing import Process, Queue, cpu_count"
   ]
  },
  {
   "cell_type": "code",
   "execution_count": 83,
   "metadata": {},
   "outputs": [],
   "source": [
    "class Worker: \n",
    "    \n",
    "    def __init__(self, task_queue, name):\n",
    "        self.q = task_queue\n",
    "        self.name = name \n",
    "        \n",
    "    def Qiter0(self,pth_vid):\n",
    "        \"\"\"Performs iter0() and enqueues an sfm_pipe process with the generated sets.\"\"\"\n",
    "        pths = iter0(path_vid=pth_vid)\n",
    "        pth_sets = [os.path.join(pth, el) for el in os.listdir(pths)]\n",
    "\n",
    "        # Enqueue next tasks\n",
    "        for pth_set in pth_sets:  \n",
    "            q.put(sfm_pipe, pth_set)\n",
    "    \n",
    "    def sfm_pipe(self, pth):\n",
    "        print('execution of sfm_pipe')\n",
    "        pass"
   ]
  },
  {
   "cell_type": "code",
   "execution_count": 84,
   "metadata": {
    "code_folding": []
   },
   "outputs": [],
   "source": [
    "def worker_exec(task_queue, name):\n",
    "    # Work until no tasks are pending \n",
    "    while not task_queue.empty():\n",
    "        # instanciate worker \n",
    "        worker = Worker(task_queue, name)\n",
    "        task = task_queue.get()\n",
    "        \n",
    "        if task[0] == 'Qiter0':\n",
    "            worker.Qiter0(task[1])\n",
    "            \n",
    "        elif task[0] == 'sfm_pipe':\n",
    "            worker.sfm_pipe(task[1])"
   ]
  },
  {
   "cell_type": "markdown",
   "metadata": {},
   "source": [
    "### Launch processes: "
   ]
  },
  {
   "cell_type": "code",
   "execution_count": 86,
   "metadata": {
    "code_folding": []
   },
   "outputs": [
    {
     "name": "stdout",
     "output_type": "stream",
     "text": [
      "put in queue :/Users/xrubiato/DHLab/Draining-Youtube/videos/test2/PqyPW-Bdd4E\n"
     ]
    },
    {
     "name": "stderr",
     "output_type": "stream",
     "text": [
      "Process Process-85:\n",
      "Traceback (most recent call last):\n",
      "  File \"/Users/xrubiato/anaconda3/lib/python3.6/multiprocessing/process.py\", line 258, in _bootstrap\n",
      "    self.run()\n",
      "  File \"/Users/xrubiato/anaconda3/lib/python3.6/multiprocessing/process.py\", line 93, in run\n",
      "    self._target(*self._args, **self._kwargs)\n",
      "  File \"<ipython-input-84-051e5e5e7a82>\", line 9, in worker_exec\n",
      "    worker.Qiter0(task[1])\n",
      "  File \"<ipython-input-83-59967cb5b953>\", line 9, in Qiter0\n",
      "    pths = iter0(path_vid=pth_vid)\n",
      "  File \"/Users/xrubiato/DHLab/Draining-Youtube/master_functions.py\", line 62, in iter0\n",
      "    pth_sets =  make_sets(v_id, plylst)\n",
      "  File \"/Users/xrubiato/DHLab/Draining-Youtube/master_functions.py\", line 28, in make_sets\n",
      "    path_frames=pth_frms(v_id, plylst)))\n",
      "  File \"/Users/xrubiato/DHLab/Draining-Youtube/functions.py\", line 461, in split_triangles\n",
      "    while j != length and abs(non_zer[j+1] - non_zer[j]) < tol:\n",
      "IndexError: index 23 is out of bounds for axis 0 with size 23\n"
     ]
    }
   ],
   "source": [
    "NUMBER_PROCESSES = 2 #cpu_count()\n",
    "PLYLST = 'test2'\n",
    "path_plylst = pth_plylst(PLYLST)\n",
    "\n",
    "# Create Queue \n",
    "Q = Queue()\n",
    "\n",
    "# Fille queue with the iter0 jobs \n",
    "for v_id in os.listdir(path_plylst): \n",
    "    pth = pth_vid(v_id, PLYLST)\n",
    "    Q.put(('Qiter0', pth))\n",
    "\n",
    "for i in range(NUMBER_PROCESSES):\n",
    "    p = Process( target=worker_exec, args=(Q,'w{}'.format(i)) )\n",
    "    p.start()\n",
    "    p.join()"
   ]
  },
  {
   "cell_type": "markdown",
   "metadata": {},
   "source": [
    "## Tests"
   ]
  },
  {
   "cell_type": "code",
   "execution_count": 87,
   "metadata": {},
   "outputs": [],
   "source": [
    "from master_functions import make_sets"
   ]
  },
  {
   "cell_type": "code",
   "execution_count": 88,
   "metadata": {},
   "outputs": [
    {
     "data": {
      "text/plain": [
       "'/Users/xrubiato/DHLab/Draining-Youtube/videos/test2'"
      ]
     },
     "execution_count": 88,
     "metadata": {},
     "output_type": "execute_result"
    }
   ],
   "source": [
    "path_plylst"
   ]
  },
  {
   "cell_type": "code",
   "execution_count": 90,
   "metadata": {},
   "outputs": [],
   "source": [
    "v_id = os.listdir(path_plylst)[0]"
   ]
  },
  {
   "cell_type": "code",
   "execution_count": 91,
   "metadata": {},
   "outputs": [
    {
     "ename": "IndexError",
     "evalue": "index 23 is out of bounds for axis 0 with size 23",
     "output_type": "error",
     "traceback": [
      "\u001b[0;31m---------------------------------------------------------------------------\u001b[0m",
      "\u001b[0;31mIndexError\u001b[0m                                Traceback (most recent call last)",
      "\u001b[0;32m<ipython-input-91-3ec8eee97a04>\u001b[0m in \u001b[0;36m<module>\u001b[0;34m\u001b[0m\n\u001b[0;32m----> 1\u001b[0;31m \u001b[0mmake_sets\u001b[0m\u001b[0;34m(\u001b[0m\u001b[0mv_id\u001b[0m\u001b[0;34m,\u001b[0m \u001b[0mPLYLST\u001b[0m\u001b[0;34m)\u001b[0m\u001b[0;34m\u001b[0m\u001b[0;34m\u001b[0m\u001b[0m\n\u001b[0m",
      "\u001b[0;32m~/DHLab/Draining-Youtube/master_functions.py\u001b[0m in \u001b[0;36mmake_sets\u001b[0;34m(v_id, plylst)\u001b[0m\n\u001b[1;32m     26\u001b[0m \u001b[0;34m\u001b[0m\u001b[0m\n\u001b[1;32m     27\u001b[0m     triangles = split_triangles(mtchs_bin_to_mat(path_mtchs=pth_iter0_mtchs(v_id, plylst),\n\u001b[0;32m---> 28\u001b[0;31m                                                  path_frames=pth_frms(v_id, plylst)))\n\u001b[0m\u001b[1;32m     29\u001b[0m \u001b[0;34m\u001b[0m\u001b[0m\n\u001b[1;32m     30\u001b[0m     return move_triangles(triangles=triangles,\n",
      "\u001b[0;32m~/DHLab/Draining-Youtube/functions.py\u001b[0m in \u001b[0;36msplit_triangles\u001b[0;34m(adj_mat, tol)\u001b[0m\n\u001b[1;32m    459\u001b[0m                 \u001b[0mj\u001b[0m \u001b[0;34m=\u001b[0m \u001b[0;36m0\u001b[0m\u001b[0;34m\u001b[0m\u001b[0;34m\u001b[0m\u001b[0m\n\u001b[1;32m    460\u001b[0m \u001b[0;34m\u001b[0m\u001b[0m\n\u001b[0;32m--> 461\u001b[0;31m                 \u001b[0;32mwhile\u001b[0m \u001b[0mj\u001b[0m \u001b[0;34m!=\u001b[0m \u001b[0mlength\u001b[0m \u001b[0;32mand\u001b[0m \u001b[0mabs\u001b[0m\u001b[0;34m(\u001b[0m\u001b[0mnon_zer\u001b[0m\u001b[0;34m[\u001b[0m\u001b[0mj\u001b[0m\u001b[0;34m+\u001b[0m\u001b[0;36m1\u001b[0m\u001b[0;34m]\u001b[0m \u001b[0;34m-\u001b[0m \u001b[0mnon_zer\u001b[0m\u001b[0;34m[\u001b[0m\u001b[0mj\u001b[0m\u001b[0;34m]\u001b[0m\u001b[0;34m)\u001b[0m \u001b[0;34m<\u001b[0m \u001b[0mtol\u001b[0m\u001b[0;34m:\u001b[0m\u001b[0;34m\u001b[0m\u001b[0;34m\u001b[0m\u001b[0m\n\u001b[0m\u001b[1;32m    462\u001b[0m                     \u001b[0mj\u001b[0m \u001b[0;34m+=\u001b[0m \u001b[0;36m1\u001b[0m\u001b[0;34m\u001b[0m\u001b[0;34m\u001b[0m\u001b[0m\n\u001b[1;32m    463\u001b[0m \u001b[0;34m\u001b[0m\u001b[0m\n",
      "\u001b[0;31mIndexError\u001b[0m: index 23 is out of bounds for axis 0 with size 23"
     ]
    }
   ],
   "source": [
    "make_sets(v_id, PLYLST)"
   ]
  }
 ],
 "metadata": {
  "kernelspec": {
   "display_name": "Python 3",
   "language": "python",
   "name": "python3"
  },
  "language_info": {
   "codemirror_mode": {
    "name": "ipython",
    "version": 3
   },
   "file_extension": ".py",
   "mimetype": "text/x-python",
   "name": "python",
   "nbconvert_exporter": "python",
   "pygments_lexer": "ipython3",
   "version": "3.6.8"
  },
  "toc": {
   "base_numbering": 1,
   "nav_menu": {},
   "number_sections": true,
   "sideBar": true,
   "skip_h1_title": false,
   "title_cell": "Table of Contents",
   "title_sidebar": "Contents",
   "toc_cell": false,
   "toc_position": {},
   "toc_section_display": true,
   "toc_window_display": false
  },
  "varInspector": {
   "cols": {
    "lenName": 16,
    "lenType": 16,
    "lenVar": 40
   },
   "kernels_config": {
    "python": {
     "delete_cmd_postfix": "",
     "delete_cmd_prefix": "del ",
     "library": "var_list.py",
     "varRefreshCmd": "print(var_dic_list())"
    },
    "r": {
     "delete_cmd_postfix": ") ",
     "delete_cmd_prefix": "rm(",
     "library": "var_list.r",
     "varRefreshCmd": "cat(var_dic_list()) "
    }
   },
   "types_to_exclude": [
    "module",
    "function",
    "builtin_function_or_method",
    "instance",
    "_Feature"
   ],
   "window_display": false
  }
 },
 "nbformat": 4,
 "nbformat_minor": 2
}
