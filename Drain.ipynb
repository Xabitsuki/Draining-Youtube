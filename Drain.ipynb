{
 "cells": [
  {
   "cell_type": "code",
   "execution_count": 5,
   "metadata": {
    "scrolled": true
   },
   "outputs": [
    {
     "name": "stdout",
     "output_type": "stream",
     "text": [
      "The autoreload extension is already loaded. To reload it, use:\n",
      "  %reload_ext autoreload\n"
     ]
    }
   ],
   "source": [
    "%load_ext autoreload\n",
    "%autoreload 2\n",
    "\n",
    "import smtplib as smtp \n",
    "import ssl \n",
    "import os\n",
    "\n",
    "import queue\n",
    "import multiprocessing\n",
    "\n",
    "from functions import *\n",
    "from master_functions import * "
   ]
  },
  {
   "cell_type": "markdown",
   "metadata": {
    "heading_collapsed": true
   },
   "source": [
    "## Mail"
   ]
  },
  {
   "cell_type": "code",
   "execution_count": 78,
   "metadata": {
    "hidden": true
   },
   "outputs": [],
   "source": [
    "mail = 'drainingytb@gmail.com'\n",
    "pswd = 'YoDH@ck3r'"
   ]
  },
  {
   "cell_type": "code",
   "execution_count": 3,
   "metadata": {
    "hidden": true
   },
   "outputs": [],
   "source": [
    "ssl_cntxt = ssl.create_default_context()"
   ]
  },
  {
   "cell_type": "code",
   "execution_count": 14,
   "metadata": {
    "hidden": true
   },
   "outputs": [],
   "source": [
    "smtp.SMTP_SSL()\n",
    "\n",
    "\n",
    "with smtplib.SMTP_SSL(\"smtp.gmail.com\", port=465, context=ssl_cntxt) as server:\n",
    "    server.login(mail, pswd)\n",
    "    server.sendmail(from_addr=mail,\n",
    "                    to_addrs='xabier.rubiato@epfl.ch',\n",
    "                    msg='Finish Process')"
   ]
  },
  {
   "cell_type": "markdown",
   "metadata": {},
   "source": [
    "## Download"
   ]
  },
  {
   "cell_type": "code",
   "execution_count": 3,
   "metadata": {},
   "outputs": [],
   "source": [
    "from functions import yt_dl"
   ]
  },
  {
   "cell_type": "markdown",
   "metadata": {
    "heading_collapsed": true
   },
   "source": [
    "### Vine playlist test "
   ]
  },
  {
   "cell_type": "code",
   "execution_count": 2,
   "metadata": {
    "hidden": true
   },
   "outputs": [],
   "source": [
    "URL = 'https://www.youtube.com/watch?v=2S7Yak00e6E&list=PLeu1bSfyWCDK4KgsF2pJybJkWXKPHgD6b'\n",
    "PLAYLIST = 'test'\n",
    "N_ITEMS = 6 \n",
    "PTH_PLYLST = pth_plylst(name=PLAYLIST)"
   ]
  },
  {
   "cell_type": "code",
   "execution_count": 4,
   "metadata": {
    "hidden": true,
    "scrolled": true
   },
   "outputs": [
    {
     "name": "stdout",
     "output_type": "stream",
     "text": [
      "Start download of playlist : test\n",
      "\n",
      "[youtube:playlist] Downloading playlist PLeu1bSfyWCDK4KgsF2pJybJkWXKPHgD6b - add --no-playlist to just download video 2S7Yak00e6E\n",
      "[youtube:playlist] PLeu1bSfyWCDK4KgsF2pJybJkWXKPHgD6b: Downloading webpage\n",
      "[download] Downloading playlist: Alignments as vines\n",
      "[youtube:playlist] playlist Alignments as vines: Downloading 6 videos\n",
      "[download] Downloading video 1 of 6\n",
      "[youtube] 2S7Yak00e6E: Downloading webpage\n",
      "[youtube] 2S7Yak00e6E: Downloading video info webpage\n",
      "[info] Writing video description metadata as JSON to: videos/test/2S7Yak00e6E/data/2S7Yak00e6E_1920x1080.info.json\n"
     ]
    },
    {
     "name": "stderr",
     "output_type": "stream",
     "text": [
      "WARNING: Requested formats are incompatible for merge and will be merged into mkv.\n"
     ]
    },
    {
     "name": "stdout",
     "output_type": "stream",
     "text": [
      "[download] videos/test/2S7Yak00e6E/data/2S7Yak00e6E_1920x1080.mkv has already been downloaded and merged\n",
      "[download] Downloading video 2 of 6\n",
      "[youtube] qoqZ9T5O29g: Downloading webpage\n",
      "[youtube] qoqZ9T5O29g: Downloading video info webpage\n",
      "[info] Writing video description metadata as JSON to: videos/test/qoqZ9T5O29g/data/qoqZ9T5O29g_1920x1080.info.json\n"
     ]
    },
    {
     "name": "stderr",
     "output_type": "stream",
     "text": [
      "WARNING: Requested formats are incompatible for merge and will be merged into mkv.\n"
     ]
    },
    {
     "name": "stdout",
     "output_type": "stream",
     "text": [
      "[download] videos/test/qoqZ9T5O29g/data/qoqZ9T5O29g_1920x1080.mkv has already been downloaded and merged\n",
      "[download] Downloading video 3 of 6\n",
      "[youtube] IMVmevu6mE4: Downloading webpage\n",
      "[youtube] IMVmevu6mE4: Downloading embed webpage\n",
      "[youtube] IMVmevu6mE4: Refetching age-gated info webpage\n",
      "[info] Writing video description metadata as JSON to: videos/test/IMVmevu6mE4/data/IMVmevu6mE4_1920x1080.info.json\n",
      "[download] videos/test/IMVmevu6mE4/data/IMVmevu6mE4_1920x1080.mp4 has already been downloaded and merged\n",
      "[download] Downloading video 4 of 6\n",
      "[youtube] MNMYYEdJoC0: Downloading webpage\n",
      "[youtube] MNMYYEdJoC0: Downloading video info webpage\n",
      "[info] Writing video description metadata as JSON to: videos/test/MNMYYEdJoC0/data/MNMYYEdJoC0_1920x1080.info.json\n",
      "[download] videos/test/MNMYYEdJoC0/data/MNMYYEdJoC0_1920x1080.mp4 has already been downloaded and merged\n",
      "[download] Downloading video 5 of 6\n",
      "[youtube] -Ia18bqO-9w: Downloading webpage\n",
      "[youtube] -Ia18bqO-9w: Downloading video info webpage\n",
      "[info] Writing video description metadata as JSON to: videos/test/-Ia18bqO-9w/data/-Ia18bqO-9w_1920x1080.info.json\n"
     ]
    },
    {
     "name": "stderr",
     "output_type": "stream",
     "text": [
      "WARNING: Requested formats are incompatible for merge and will be merged into mkv.\n"
     ]
    },
    {
     "name": "stdout",
     "output_type": "stream",
     "text": [
      "[download] videos/test/-Ia18bqO-9w/data/-Ia18bqO-9w_1920x1080.mkv has already been downloaded and merged\n",
      "[download] Downloading video 6 of 6\n",
      "[youtube] yd7d51AgSso: Downloading webpage\n",
      "[youtube] yd7d51AgSso: Downloading video info webpage\n",
      "[info] Writing video description metadata as JSON to: videos/test/yd7d51AgSso/data/yd7d51AgSso_1920x1080.info.json\n",
      "[download] Destination: videos/test/yd7d51AgSso/data/yd7d51AgSso_1920x1080.f248.webm\n",
      "[download] 100% of 43.28MiB in 00:1157MiB/s ETA 00:005\n",
      "[download] Destination: videos/test/yd7d51AgSso/data/yd7d51AgSso_1920x1080.f251.webm\n",
      "[download] 100% of 4.08MiB in 00:0168MiB/s ETA 00:004\n",
      "[ffmpeg] Merging formats into \"videos/test/yd7d51AgSso/data/yd7d51AgSso_1920x1080.webm\"\n",
      "Deleting original file videos/test/yd7d51AgSso/data/yd7d51AgSso_1920x1080.f248.webm (pass -k to keep)\n",
      "Deleting original file videos/test/yd7d51AgSso/data/yd7d51AgSso_1920x1080.f251.webm (pass -k to keep)\n",
      "[download] Finished downloading playlist: Alignments as vines\n",
      "Finish download of playlist : test\n",
      "\n"
     ]
    }
   ],
   "source": [
    "print('Start download of playlist : {}\\n'.format(PLAYLIST))\n",
    "yt_dl(url= URL,\n",
    "      playlist=PLAYLIST,\n",
    "      n_items= N_ITEMS)\n",
    "print('Finish download of playlist : {}\\n'.format(PLAYLIST))"
   ]
  },
  {
   "cell_type": "markdown",
   "metadata": {},
   "source": [
    "### Download one video and put it into playlist "
   ]
  },
  {
   "cell_type": "code",
   "execution_count": 5,
   "metadata": {},
   "outputs": [
    {
     "name": "stdout",
     "output_type": "stream",
     "text": [
      "[youtube] PqyPW-Bdd4E: Downloading webpage\n",
      "[youtube] PqyPW-Bdd4E: Downloading video info webpage\n",
      "[info] Writing video description metadata as JSON to: videos/test2/PqyPW-Bdd4E/data/PqyPW-Bdd4E_1920x1080.info.json\n"
     ]
    },
    {
     "name": "stderr",
     "output_type": "stream",
     "text": [
      "WARNING: Requested formats are incompatible for merge and will be merged into mkv.\n"
     ]
    },
    {
     "name": "stdout",
     "output_type": "stream",
     "text": [
      "[download] videos/test2/PqyPW-Bdd4E/data/PqyPW-Bdd4E_1920x1080.mkv has already been downloaded and merged\n"
     ]
    }
   ],
   "source": [
    "URL = 'https://www.youtube.com/watch?v=PqyPW-Bdd4E'\n",
    "PLYLST = 'test2'\n",
    "yt_dl(URL, PLYLST)"
   ]
  },
  {
   "cell_type": "markdown",
   "metadata": {},
   "source": [
    "## Multiprocessing"
   ]
  },
  {
   "cell_type": "markdown",
   "metadata": {},
   "source": [
    "### Worker class and functions"
   ]
  },
  {
   "cell_type": "code",
   "execution_count": 71,
   "metadata": {},
   "outputs": [
    {
     "name": "stdout",
     "output_type": "stream",
     "text": [
      "The autoreload extension is already loaded. To reload it, use:\n",
      "  %reload_ext autoreload\n"
     ]
    }
   ],
   "source": [
    "%load_ext autoreload\n",
    "%autoreload 2\n",
    "import os\n",
    "import multiprocessing \n",
    "import queue \n",
    "from multiprocessing import Process, Queue, cpu_count\n",
    "\n",
    "from functions import pth_plylst, pth_vid\n",
    "from master_functions import iter0, sfm_pipe"
   ]
  },
  {
   "cell_type": "code",
   "execution_count": 74,
   "metadata": {
    "code_folding": [
     2
    ]
   },
   "outputs": [],
   "source": [
    "class Worker: \n",
    "    \n",
    "    def __init__(self, task_queue):\n",
    "        self.q = task_queue\n",
    "\n",
    "        \n",
    "    def Qiter0(self, pth_vid):\n",
    "        \"\"\"Performs iter0() and enqueues an sfm_pipe process with the generated sets.\"\"\"\n",
    "        path_set_dir, width = iter0(path_vid=pth_vid)\n",
    "        pth_sets = [os.path.join(path_set_dir, el) for el in os.listdir(path_set_dir)]\n",
    "\n",
    "        # Enqueue next tasks\n",
    "        for pth_set in pth_sets:  \n",
    "            args = (pth_set, width)\n",
    "            self.q.put(('sfm_pipe',args))\n",
    "    \n",
    "    \n",
    "    def sfm_pipe(self, pth, width):\n",
    "        sfm_pipe(pth_set=pth, width=width)\n",
    "    \n",
    "    \n",
    "    def work(self, func, args): \n",
    "        \n",
    "        if func == 'Qiter0':     \n",
    "            self.Qiter0(*args)\n",
    "        \n",
    "        elif func == 'sfm_pipe': \n",
    "            print('SFM PIPE')\n",
    "            print(*args)\n",
    "            self.sfm_pipe(*args)\n",
    "            \n",
    "\n",
    "def worker_exec(task_queue):\n",
    "    # Work until no tasks are pending \n",
    "    \n",
    "    worker = Worker(task_queue)\n",
    "    \n",
    "    while not task_queue.empty():\n",
    "        # instanciate worker \n",
    "        func, args = task_queue.get()\n",
    "        \n",
    "        worker.work(func, args)\n",
    "\n",
    "        \n",
    "def drain(number_processes, plylsts=[], vids=[], args0=None):\n",
    "    \n",
    "    # Enqueue Qiter0 tasks: \n",
    "    Q = Queue()\n",
    "    for plylst in plylsts:\n",
    "        for v_id in os.listdir(pth_plylst(plylst)): \n",
    "            args = (pth_vid(v_id, plylst),)\n",
    "            Q.put(('Qiter0', args, args0))\n",
    "    \n",
    "    for v_id in vids:\n",
    "        args = (pth_vid(v_id),)\n",
    "        Q.put(('Qiter0', args, args0))\n",
    "       \n",
    "    for i in range(number_processes): \n",
    "        p = Process(target=worker_exec, args=(Q,))\n",
    "        p.start()"
   ]
  },
  {
   "cell_type": "markdown",
   "metadata": {},
   "source": [
    "### Launch processes: "
   ]
  },
  {
   "cell_type": "code",
   "execution_count": 77,
   "metadata": {
    "scrolled": false
   },
   "outputs": [
    {
     "name": "stdout",
     "output_type": "stream",
     "text": [
      "Process-194\n",
      "Process-195\n",
      "Process-196\n",
      "Process-197\n",
      "Process-198\n",
      "Process-199\n",
      "Process-200\n",
      "Process-201\n"
     ]
    }
   ],
   "source": [
    "NUMBER_PROCESSES = cpu_count() \n",
    "PLYLST = []\n",
    "VIDS = ['PqyPW-Bdd4E']\n",
    "\n",
    "drain(NUMBER_PROCESSES,vids=VIDS, plylsts=PLYLST)"
   ]
  },
  {
   "cell_type": "markdown",
   "metadata": {
    "heading_collapsed": true
   },
   "source": [
    "## Tests"
   ]
  },
  {
   "cell_type": "markdown",
   "metadata": {
    "hidden": true
   },
   "source": [
    "### Test iter 0 "
   ]
  },
  {
   "cell_type": "code",
   "execution_count": 41,
   "metadata": {
    "hidden": true
   },
   "outputs": [],
   "source": [
    "from master_functions import iter0"
   ]
  },
  {
   "cell_type": "code",
   "execution_count": 44,
   "metadata": {
    "hidden": true,
    "scrolled": true
   },
   "outputs": [
    {
     "data": {
      "text/plain": [
       "('/Users/xrubiato/DHLab/Draining-Youtube/videos/PqyPW-Bdd4E/sets', 1920)"
      ]
     },
     "execution_count": 44,
     "metadata": {},
     "output_type": "execute_result"
    }
   ],
   "source": [
    "path_set =  '/Users/xrubiato/DHLab/Draining-Youtube/videos/PqyPW-Bdd4E'\n",
    "iter0(path_vid=path_set)"
   ]
  },
  {
   "cell_type": "markdown",
   "metadata": {
    "hidden": true
   },
   "source": [
    "### Test sfm_pipe"
   ]
  },
  {
   "cell_type": "code",
   "execution_count": 3,
   "metadata": {
    "hidden": true
   },
   "outputs": [],
   "source": [
    "sfm_pipe(width, path_set)"
   ]
  }
 ],
 "metadata": {
  "kernelspec": {
   "display_name": "Python 3",
   "language": "python",
   "name": "python3"
  },
  "language_info": {
   "codemirror_mode": {
    "name": "ipython",
    "version": 3
   },
   "file_extension": ".py",
   "mimetype": "text/x-python",
   "name": "python",
   "nbconvert_exporter": "python",
   "pygments_lexer": "ipython3",
   "version": "3.6.8"
  },
  "toc": {
   "base_numbering": 1,
   "nav_menu": {},
   "number_sections": true,
   "sideBar": true,
   "skip_h1_title": false,
   "title_cell": "Table of Contents",
   "title_sidebar": "Contents",
   "toc_cell": false,
   "toc_position": {},
   "toc_section_display": true,
   "toc_window_display": false
  },
  "varInspector": {
   "cols": {
    "lenName": 16,
    "lenType": 16,
    "lenVar": 40
   },
   "kernels_config": {
    "python": {
     "delete_cmd_postfix": "",
     "delete_cmd_prefix": "del ",
     "library": "var_list.py",
     "varRefreshCmd": "print(var_dic_list())"
    },
    "r": {
     "delete_cmd_postfix": ") ",
     "delete_cmd_prefix": "rm(",
     "library": "var_list.r",
     "varRefreshCmd": "cat(var_dic_list()) "
    }
   },
   "types_to_exclude": [
    "module",
    "function",
    "builtin_function_or_method",
    "instance",
    "_Feature"
   ],
   "window_display": false
  }
 },
 "nbformat": 4,
 "nbformat_minor": 2
}
