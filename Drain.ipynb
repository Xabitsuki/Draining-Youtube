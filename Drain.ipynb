{
 "cells": [
  {
   "cell_type": "code",
   "execution_count": 5,
   "metadata": {
    "scrolled": true
   },
   "outputs": [
    {
     "name": "stdout",
     "output_type": "stream",
     "text": [
      "The autoreload extension is already loaded. To reload it, use:\n",
      "  %reload_ext autoreload\n"
     ]
    }
   ],
   "source": [
    "%load_ext autoreload\n",
    "%autoreload 2\n",
    "\n",
    "import smtplib as smtp \n",
    "import ssl \n",
    "import os\n",
    "\n",
    "import queue\n",
    "import multiprocessing\n",
    "\n",
    "from functions import *\n",
    "from master_functions import * "
   ]
  },
  {
   "cell_type": "markdown",
   "metadata": {
    "heading_collapsed": true
   },
   "source": [
    "## Mail"
   ]
  },
  {
   "cell_type": "code",
   "execution_count": 78,
   "metadata": {
    "hidden": true
   },
   "outputs": [],
   "source": [
    "mail = 'drainingytb@gmail.com'\n",
    "pswd = 'YoDH@ck3r'"
   ]
  },
  {
   "cell_type": "code",
   "execution_count": 3,
   "metadata": {
    "hidden": true
   },
   "outputs": [],
   "source": [
    "ssl_cntxt = ssl.create_default_context()"
   ]
  },
  {
   "cell_type": "code",
   "execution_count": 14,
   "metadata": {
    "hidden": true
   },
   "outputs": [],
   "source": [
    "smtp.SMTP_SSL()\n",
    "\n",
    "\n",
    "with smtplib.SMTP_SSL(\"smtp.gmail.com\", port=465, context=ssl_cntxt) as server:\n",
    "    server.login(mail, pswd)\n",
    "    server.sendmail(from_addr=mail,\n",
    "                    to_addrs='xabier.rubiato@epfl.ch',\n",
    "                    msg='Finish Process')"
   ]
  },
  {
   "cell_type": "markdown",
   "metadata": {},
   "source": [
    "## Download"
   ]
  },
  {
   "cell_type": "code",
   "execution_count": 3,
   "metadata": {},
   "outputs": [],
   "source": [
    "from functions import yt_dl"
   ]
  },
  {
   "cell_type": "markdown",
   "metadata": {
    "heading_collapsed": true
   },
   "source": [
    "### Vine playlist test "
   ]
  },
  {
   "cell_type": "code",
   "execution_count": 2,
   "metadata": {
    "hidden": true
   },
   "outputs": [],
   "source": [
    "URL = 'https://www.youtube.com/watch?v=2S7Yak00e6E&list=PLeu1bSfyWCDK4KgsF2pJybJkWXKPHgD6b'\n",
    "PLAYLIST = 'test'\n",
    "N_ITEMS = 6 \n",
    "PTH_PLYLST = pth_plylst(name=PLAYLIST)"
   ]
  },
  {
   "cell_type": "code",
   "execution_count": 4,
   "metadata": {
    "hidden": true,
    "scrolled": true
   },
   "outputs": [
    {
     "name": "stdout",
     "output_type": "stream",
     "text": [
      "Start download of playlist : test\n",
      "\n",
      "[youtube:playlist] Downloading playlist PLeu1bSfyWCDK4KgsF2pJybJkWXKPHgD6b - add --no-playlist to just download video 2S7Yak00e6E\n",
      "[youtube:playlist] PLeu1bSfyWCDK4KgsF2pJybJkWXKPHgD6b: Downloading webpage\n",
      "[download] Downloading playlist: Alignments as vines\n",
      "[youtube:playlist] playlist Alignments as vines: Downloading 6 videos\n",
      "[download] Downloading video 1 of 6\n",
      "[youtube] 2S7Yak00e6E: Downloading webpage\n",
      "[youtube] 2S7Yak00e6E: Downloading video info webpage\n",
      "[info] Writing video description metadata as JSON to: videos/test/2S7Yak00e6E/data/2S7Yak00e6E_1920x1080.info.json\n"
     ]
    },
    {
     "name": "stderr",
     "output_type": "stream",
     "text": [
      "WARNING: Requested formats are incompatible for merge and will be merged into mkv.\n"
     ]
    },
    {
     "name": "stdout",
     "output_type": "stream",
     "text": [
      "[download] videos/test/2S7Yak00e6E/data/2S7Yak00e6E_1920x1080.mkv has already been downloaded and merged\n",
      "[download] Downloading video 2 of 6\n",
      "[youtube] qoqZ9T5O29g: Downloading webpage\n",
      "[youtube] qoqZ9T5O29g: Downloading video info webpage\n",
      "[info] Writing video description metadata as JSON to: videos/test/qoqZ9T5O29g/data/qoqZ9T5O29g_1920x1080.info.json\n"
     ]
    },
    {
     "name": "stderr",
     "output_type": "stream",
     "text": [
      "WARNING: Requested formats are incompatible for merge and will be merged into mkv.\n"
     ]
    },
    {
     "name": "stdout",
     "output_type": "stream",
     "text": [
      "[download] videos/test/qoqZ9T5O29g/data/qoqZ9T5O29g_1920x1080.mkv has already been downloaded and merged\n",
      "[download] Downloading video 3 of 6\n",
      "[youtube] IMVmevu6mE4: Downloading webpage\n",
      "[youtube] IMVmevu6mE4: Downloading embed webpage\n",
      "[youtube] IMVmevu6mE4: Refetching age-gated info webpage\n",
      "[info] Writing video description metadata as JSON to: videos/test/IMVmevu6mE4/data/IMVmevu6mE4_1920x1080.info.json\n",
      "[download] videos/test/IMVmevu6mE4/data/IMVmevu6mE4_1920x1080.mp4 has already been downloaded and merged\n",
      "[download] Downloading video 4 of 6\n",
      "[youtube] MNMYYEdJoC0: Downloading webpage\n",
      "[youtube] MNMYYEdJoC0: Downloading video info webpage\n",
      "[info] Writing video description metadata as JSON to: videos/test/MNMYYEdJoC0/data/MNMYYEdJoC0_1920x1080.info.json\n",
      "[download] videos/test/MNMYYEdJoC0/data/MNMYYEdJoC0_1920x1080.mp4 has already been downloaded and merged\n",
      "[download] Downloading video 5 of 6\n",
      "[youtube] -Ia18bqO-9w: Downloading webpage\n",
      "[youtube] -Ia18bqO-9w: Downloading video info webpage\n",
      "[info] Writing video description metadata as JSON to: videos/test/-Ia18bqO-9w/data/-Ia18bqO-9w_1920x1080.info.json\n"
     ]
    },
    {
     "name": "stderr",
     "output_type": "stream",
     "text": [
      "WARNING: Requested formats are incompatible for merge and will be merged into mkv.\n"
     ]
    },
    {
     "name": "stdout",
     "output_type": "stream",
     "text": [
      "[download] videos/test/-Ia18bqO-9w/data/-Ia18bqO-9w_1920x1080.mkv has already been downloaded and merged\n",
      "[download] Downloading video 6 of 6\n",
      "[youtube] yd7d51AgSso: Downloading webpage\n",
      "[youtube] yd7d51AgSso: Downloading video info webpage\n",
      "[info] Writing video description metadata as JSON to: videos/test/yd7d51AgSso/data/yd7d51AgSso_1920x1080.info.json\n",
      "[download] Destination: videos/test/yd7d51AgSso/data/yd7d51AgSso_1920x1080.f248.webm\n",
      "[download] 100% of 43.28MiB in 00:1157MiB/s ETA 00:005\n",
      "[download] Destination: videos/test/yd7d51AgSso/data/yd7d51AgSso_1920x1080.f251.webm\n",
      "[download] 100% of 4.08MiB in 00:0168MiB/s ETA 00:004\n",
      "[ffmpeg] Merging formats into \"videos/test/yd7d51AgSso/data/yd7d51AgSso_1920x1080.webm\"\n",
      "Deleting original file videos/test/yd7d51AgSso/data/yd7d51AgSso_1920x1080.f248.webm (pass -k to keep)\n",
      "Deleting original file videos/test/yd7d51AgSso/data/yd7d51AgSso_1920x1080.f251.webm (pass -k to keep)\n",
      "[download] Finished downloading playlist: Alignments as vines\n",
      "Finish download of playlist : test\n",
      "\n"
     ]
    }
   ],
   "source": [
    "print('Start download of playlist : {}\\n'.format(PLAYLIST))\n",
    "yt_dl(url= URL,\n",
    "      playlist=PLAYLIST,\n",
    "      n_items= N_ITEMS)\n",
    "print('Finish download of playlist : {}\\n'.format(PLAYLIST))"
   ]
  },
  {
   "cell_type": "markdown",
   "metadata": {},
   "source": [
    "### Download one video and put it into playlist "
   ]
  },
  {
   "cell_type": "code",
   "execution_count": 5,
   "metadata": {},
   "outputs": [
    {
     "name": "stdout",
     "output_type": "stream",
     "text": [
      "[youtube] PqyPW-Bdd4E: Downloading webpage\n",
      "[youtube] PqyPW-Bdd4E: Downloading video info webpage\n",
      "[info] Writing video description metadata as JSON to: videos/test2/PqyPW-Bdd4E/data/PqyPW-Bdd4E_1920x1080.info.json\n"
     ]
    },
    {
     "name": "stderr",
     "output_type": "stream",
     "text": [
      "WARNING: Requested formats are incompatible for merge and will be merged into mkv.\n"
     ]
    },
    {
     "name": "stdout",
     "output_type": "stream",
     "text": [
      "[download] videos/test2/PqyPW-Bdd4E/data/PqyPW-Bdd4E_1920x1080.mkv has already been downloaded and merged\n"
     ]
    }
   ],
   "source": [
    "URL = 'https://www.youtube.com/watch?v=PqyPW-Bdd4E'\n",
    "PLYLST = 'test2'\n",
    "yt_dl(URL, PLYLST)"
   ]
  },
  {
   "cell_type": "markdown",
   "metadata": {},
   "source": [
    "## Multiprocessing"
   ]
  },
  {
   "cell_type": "markdown",
   "metadata": {},
   "source": [
    "### Worker class and functions"
   ]
  },
  {
   "cell_type": "code",
   "execution_count": 2,
   "metadata": {},
   "outputs": [],
   "source": [
    "%load_ext autoreload\n",
    "%autoreload 2\n",
    "import os\n",
    "from multiprocessing import Process, Queue, cpu_count\n",
    "\n",
    "from functions import pth_plylst, pth_vid\n",
    "from master_functions import iter0, sfm_pipe"
   ]
  },
  {
   "cell_type": "code",
   "execution_count": 17,
   "metadata": {
    "code_folding": [
     2
    ]
   },
   "outputs": [],
   "source": [
    "class Worker:\n",
    "\n",
    "    def __init__(self, task_queue):\n",
    "        self.q = task_queue\n",
    "\n",
    "\n",
    "    def Qiter0(self, args):\n",
    "        \"\"\"Performs iter0() and enqueues an sfm_pipe process with the generated sets.\"\"\"\n",
    "        path_set_dir, width = iter0(*args)\n",
    "        pth_sets = [os.path.join(path_set_dir, el) for el in os.listdir(path_set_dir)]\n",
    "\n",
    "        # Enqueue next tasks\n",
    "        for pth_set in pth_sets:\n",
    "            args = (pth_set, width)\n",
    "            self.q.put(('sfm_pipe', args))\n",
    "\n",
    "\n",
    "    def sfm_pipe(self, pth, width):\n",
    "        sfm_pipe(pth_set=pth, width=width)\n",
    "\n",
    "\n",
    "    def work(self, func, args):\n",
    "\n",
    "        if func == 'Qiter0':\n",
    "            self.Qiter0(args)\n",
    "\n",
    "        elif func == 'sfm_pipe':\n",
    "            print('SFM PIPE')\n",
    "            print(*args)\n",
    "            self.sfm_pipe(*args)\n",
    "\n",
    "\n",
    "def worker_exec(task_queue, wip_queue):\n",
    "    # Work until no tasks are pending\n",
    "\n",
    "    worker = Worker(task_queue)\n",
    "    \n",
    "    if not task_queue.empty():\n",
    "        # instanciate worker\n",
    "        func, args = task_queue.get()\n",
    "        worker.work(func, args)\n",
    "\n",
    "        \n",
    "\n",
    "def drain(number_processes, rate, f_frms, f_ftrs, f_mtchs, sample,plylsts=[], vids=[]):\n",
    "    # Enqueue Qiter0 tasks:\n",
    "    Q = Queue()\n",
    "    for plylst in plylsts:\n",
    "        for v_id in os.listdir(pth_plylst(plylst)):\n",
    "            args = (pth_vid(v_id, plylst),\n",
    "                    rate, f_frms, f_ftrs, f_mtchs, sample)\n",
    "            Q.put(('Qiter0', args))\n",
    "\n",
    "    for v_id in vids:\n",
    "        args = (pth_vid(v_id),\n",
    "                rate, f_frms, f_ftrs, f_mtchs, sample)\n",
    "        Q.put(('Qiter0', args))\n",
    "\n",
    "    for i in range(number_processes):\n",
    "        p = Process(target=worker_exec, args=(Q,))\n",
    "        p.start()"
   ]
  },
  {
   "cell_type": "code",
   "execution_count": null,
   "metadata": {},
   "outputs": [],
   "source": [
    "class Worker2:\n",
    "\n",
    "    def __init__(self, task_queue):\n",
    "        self.q = task_queue\n",
    "\n",
    "\n",
    "    def Qiter0(self, args):\n",
    "        \"\"\"Performs iter0() and enqueues an sfm_pipe process with the generated sets.\"\"\"\n",
    "        path_set_dir, width = iter0(*args)\n",
    "        pth_sets = [os.path.join(path_set_dir, el) for el in os.listdir(path_set_dir)]\n",
    "\n",
    "        # Enqueue next tasks\n",
    "        for pth_set in pth_sets:\n",
    "            args = (pth_set, width)\n",
    "            self.q.put(('sfm_pipe', args))\n",
    "\n",
    "\n",
    "    def sfm_pipe(self, pth, width):\n",
    "        sfm_pipe(pth_set=pth, width=width)\n",
    "\n",
    "\n",
    "    def work(self, func, args):\n",
    "\n",
    "        if func == 'Qiter0':\n",
    "            self.Qiter0(args)\n",
    "\n",
    "        elif func == 'sfm_pipe':\n",
    "            print('SFM PIPE')\n",
    "            print(*args)\n",
    "            self.sfm_pipe(*args)\n",
    "\n",
    "\n",
    "def worker_exec2(task_queue, wip_l):\n",
    "    # Work until no tasks are pending\n",
    "    \n",
    "    if not task_queue.empty():\n",
    "    worker = Worker2(task_queue)\n",
    "        # instanciate worker\n",
    "        func, args = task_queue.get()\n",
    "        worker.work(func, args)\n",
    "\n",
    "\n",
    "def drain2(number_processes, rate, f_frms, f_ftrs, f_mtchs, sample,\n",
    "          plylsts=[], vids=[]):\n",
    "    # Enqueue Qiter0 tasks:\n",
    "    Q = Queue()\n",
    "    wip_l = []\n",
    "    \n",
    "    for plylst in plylsts:\n",
    "        for v_id in os.listdir(pth_plylst(plylst)):\n",
    "            args = (pth_vid(v_id, plylst),\n",
    "                    rate, f_frms, f_ftrs, f_mtchs, sample)\n",
    "            Q.put(('Qiter0', args))\n",
    "\n",
    "    for v_id in vids:\n",
    "        args = (pth_vid(v_id),\n",
    "                rate, f_frms, f_ftrs, f_mtchs, sample)\n",
    "        Q.put(('Qiter0', args))\n",
    "\n",
    "    while not (Q.empty() and len(wip_len) == 0): \n",
    "        \n",
    "        p = Process(target=worker_exec2, args=(Q,wip_l))\n",
    "        p.start()"
   ]
  },
  {
   "cell_type": "code",
   "execution_count": 1,
   "metadata": {},
   "outputs": [],
   "source": [
    "l = []\n",
    "l.append('a')\n",
    "l.append('a')\n",
    "l.append('a')\n",
    "l.append('b')\n",
    "l.append('a')\n",
    "l.append('a')\n",
    "l.append('a')"
   ]
  },
  {
   "cell_type": "code",
   "execution_count": 11,
   "metadata": {},
   "outputs": [
    {
     "data": {
      "text/plain": [
       "0"
      ]
     },
     "execution_count": 11,
     "metadata": {},
     "output_type": "execute_result"
    }
   ],
   "source": [
    "len(l)"
   ]
  },
  {
   "cell_type": "markdown",
   "metadata": {},
   "source": [
    "### Launch processes: "
   ]
  },
  {
   "cell_type": "code",
   "execution_count": 19,
   "metadata": {},
   "outputs": [
    {
     "name": "stderr",
     "output_type": "stream",
     "text": [
      "Process Process-35:\n",
      "Traceback (most recent call last):\n",
      "  File \"/home/dhacker/anaconda3/lib/python3.7/multiprocessing/process.py\", line 297, in _bootstrap\n",
      "    self.run()\n",
      "  File \"/home/dhacker/anaconda3/lib/python3.7/multiprocessing/process.py\", line 99, in run\n",
      "    self._target(*self._args, **self._kwargs)\n",
      "  File \"<ipython-input-17-c8b8fda4677f>\", line 42, in worker_exec\n",
      "    worker.work(func, args)\n",
      "  File \"<ipython-input-17-c8b8fda4677f>\", line 25, in work\n",
      "    self.Qiter0(args)\n",
      "  File \"<ipython-input-17-c8b8fda4677f>\", line 9, in Qiter0\n",
      "    path_set_dir, width = iter0(*args)\n",
      "  File \"/home/dhacker/Draining-Youtube/master_functions.py\", line 70, in iter0\n",
      "    path_sets =  make_sets(v_id, plylst)\n",
      "  File \"/home/dhacker/Draining-Youtube/master_functions.py\", line 27, in make_sets\n",
      "    path_frames=pth_frms(v_id, plylst)))\n",
      "  File \"/home/dhacker/Draining-Youtube/functions.py\", line 434, in bin_matches_to_adja_mat\n",
      "    return make_adj_mat(extract_matches(path_mtchs), path_frames)\n",
      "  File \"/home/dhacker/Draining-Youtube/functions.py\", line 392, in extract_matches\n",
      "    f = open(path_mtchs, mode='r')\n",
      "FileNotFoundError: [Errno 2] No such file or directory: '/home/dhacker/Draining-Youtube/videos/SHIBUYA/5p-jINsOfVE/iter0/features/matches.f.txt'\n",
      "Process Process-37:\n",
      "Traceback (most recent call last):\n",
      "  File \"/home/dhacker/anaconda3/lib/python3.7/multiprocessing/process.py\", line 297, in _bootstrap\n",
      "    self.run()\n",
      "  File \"/home/dhacker/anaconda3/lib/python3.7/multiprocessing/process.py\", line 99, in run\n",
      "    self._target(*self._args, **self._kwargs)\n",
      "  File \"<ipython-input-17-c8b8fda4677f>\", line 42, in worker_exec\n",
      "    worker.work(func, args)\n",
      "  File \"<ipython-input-17-c8b8fda4677f>\", line 25, in work\n",
      "    self.Qiter0(args)\n",
      "  File \"<ipython-input-17-c8b8fda4677f>\", line 9, in Qiter0\n",
      "    path_set_dir, width = iter0(*args)\n",
      "  File \"/home/dhacker/Draining-Youtube/master_functions.py\", line 70, in iter0\n",
      "    path_sets =  make_sets(v_id, plylst)\n",
      "  File \"/home/dhacker/Draining-Youtube/master_functions.py\", line 27, in make_sets\n",
      "    path_frames=pth_frms(v_id, plylst)))\n",
      "  File \"/home/dhacker/Draining-Youtube/functions.py\", line 434, in bin_matches_to_adja_mat\n",
      "    return make_adj_mat(extract_matches(path_mtchs), path_frames)\n",
      "  File \"/home/dhacker/Draining-Youtube/functions.py\", line 392, in extract_matches\n",
      "    f = open(path_mtchs, mode='r')\n",
      "FileNotFoundError: [Errno 2] No such file or directory: '/home/dhacker/Draining-Youtube/videos/SHIBUYA/ksbzGfGUa20/iter0/features/matches.f.txt'\n"
     ]
    }
   ],
   "source": [
    "NUMBER_PROCESSES = cpu_count() \n",
    "PLYLST = ['SHIBUYA']\n",
    "VIDS = []\n",
    "f_frms  = f_ftrs = f_mtchs = True \n",
    "# iter0(path_vid, rate, sample=False, frame_force=False, feature_force=False, match_force=False):\n",
    "drain(NUMBER_PROCESSES,vids=VIDS, plylsts=PLYLST, rate=1,\n",
    "      f_frms=True,\n",
    "      f_ftrs=True,\n",
    "      f_mtchs=True, \n",
    "      sample=True)"
   ]
  },
  {
   "cell_type": "markdown",
   "metadata": {},
   "source": [
    "## Tests"
   ]
  },
  {
   "cell_type": "markdown",
   "metadata": {},
   "source": [
    "### Test iter 0 "
   ]
  },
  {
   "cell_type": "code",
   "execution_count": 4,
   "metadata": {},
   "outputs": [],
   "source": [
    "from master_functions import iter0"
   ]
  },
  {
   "cell_type": "code",
   "execution_count": 5,
   "metadata": {},
   "outputs": [],
   "source": [
    "path_set =  '/Users/xrubiato/DHLab/Draining-Youtube/videos/PqyPW-Bdd4E'"
   ]
  },
  {
   "cell_type": "code",
   "execution_count": 7,
   "metadata": {
    "scrolled": true
   },
   "outputs": [
    {
     "name": "stdout",
     "output_type": "stream",
     "text": [
      "('/Users/xrubiato/DHLab/Draining-Youtube/videos/PqyPW-Bdd4E/sets', 1920)\n"
     ]
    }
   ],
   "source": [
    "r = (pth_sets, width) =  iter0(path_vid=path_set)\n",
    "\n",
    "print(r)"
   ]
  },
  {
   "cell_type": "markdown",
   "metadata": {},
   "source": [
    "### Test sfm_pipe"
   ]
  },
  {
   "cell_type": "code",
   "execution_count": 2,
   "metadata": {},
   "outputs": [],
   "source": [
    "from master_functions import sfm_pipe"
   ]
  },
  {
   "cell_type": "code",
   "execution_count": 1,
   "metadata": {},
   "outputs": [],
   "source": [
    "path_set = '/Users/xrubiato/DHLab/Draining-Youtube/videos/PqyPW-Bdd4E/sets/set_4'\n",
    "width = 1920"
   ]
  },
  {
   "cell_type": "code",
   "execution_count": 3,
   "metadata": {},
   "outputs": [],
   "source": [
    "sfm_pipe(path_set, width)"
   ]
  }
 ],
 "metadata": {
  "kernelspec": {
   "display_name": "Python 3",
   "language": "python",
   "name": "python3"
  },
  "language_info": {
   "codemirror_mode": {
    "name": "ipython",
    "version": 3
   },
   "file_extension": ".py",
   "mimetype": "text/x-python",
   "name": "python",
   "nbconvert_exporter": "python",
   "pygments_lexer": "ipython3",
   "version": "3.7.3"
  },
  "toc": {
   "base_numbering": 1,
   "nav_menu": {},
   "number_sections": true,
   "sideBar": true,
   "skip_h1_title": false,
   "title_cell": "Table of Contents",
   "title_sidebar": "Contents",
   "toc_cell": false,
   "toc_position": {},
   "toc_section_display": true,
   "toc_window_display": false
  },
  "varInspector": {
   "cols": {
    "lenName": 16,
    "lenType": 16,
    "lenVar": 40
   },
   "kernels_config": {
    "python": {
     "delete_cmd_postfix": "",
     "delete_cmd_prefix": "del ",
     "library": "var_list.py",
     "varRefreshCmd": "print(var_dic_list())"
    },
    "r": {
     "delete_cmd_postfix": ") ",
     "delete_cmd_prefix": "rm(",
     "library": "var_list.r",
     "varRefreshCmd": "cat(var_dic_list()) "
    }
   },
   "types_to_exclude": [
    "module",
    "function",
    "builtin_function_or_method",
    "instance",
    "_Feature"
   ],
   "window_display": false
  }
 },
 "nbformat": 4,
 "nbformat_minor": 2
}
