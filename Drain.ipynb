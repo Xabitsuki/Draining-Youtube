{
 "cells": [
  {
   "cell_type": "code",
   "execution_count": 1,
   "metadata": {
    "scrolled": true
   },
   "outputs": [],
   "source": [
    "%load_ext autoreload\n",
    "%autoreload 2\n",
    "\n",
    "import smtplib as smtp \n",
    "import ssl \n",
    "\n",
    "from master_functions import * "
   ]
  },
  {
   "cell_type": "markdown",
   "metadata": {},
   "source": [
    "## Mail"
   ]
  },
  {
   "cell_type": "code",
   "execution_count": 2,
   "metadata": {},
   "outputs": [],
   "source": [
    "mail = 'drainingytb@gmail.com'\n",
    "pswd = 'YoDH@ck3r'"
   ]
  },
  {
   "cell_type": "code",
   "execution_count": 3,
   "metadata": {},
   "outputs": [],
   "source": [
    "ssl_cntxt = ssl.create_default_context()"
   ]
  },
  {
   "cell_type": "code",
   "execution_count": 14,
   "metadata": {},
   "outputs": [],
   "source": [
    "smtp.SMTP_SSL()\n",
    "\n",
    "\n",
    "with smtplib.SMTP_SSL(\"smtp.gmail.com\", port=465, context=ssl_cntxt) as server:\n",
    "    server.login(mail, pswd)\n",
    "    server.sendmail(from_addr=mail,\n",
    "                    to_addrs='xabier.rubiato@epfl.ch',\n",
    "                    msg='Finish Process')"
   ]
  },
  {
   "cell_type": "markdown",
   "metadata": {},
   "source": [
    "## Download "
   ]
  },
  {
   "cell_type": "code",
   "execution_count": 60,
   "metadata": {},
   "outputs": [],
   "source": [
    "url_p = 'https://www.youtube.com/watch?v=FVj8yg9ZVMA&list=PLHEt6c_hdjLtU0Qr41tOVzDJPTwbAx0zu'"
   ]
  },
  {
   "cell_type": "code",
   "execution_count": 62,
   "metadata": {
    "scrolled": true
   },
   "outputs": [
    {
     "name": "stdout",
     "output_type": "stream",
     "text": [
      "[youtube:playlist] Downloading playlist PLHEt6c_hdjLtU0Qr41tOVzDJPTwbAx0zu - add --no-playlist to just download video FVj8yg9ZVMA\n",
      "[youtube:playlist] PLHEt6c_hdjLtU0Qr41tOVzDJPTwbAx0zu: Downloading webpage\n",
      "[download] Downloading playlist: SHIBUYA STREET VIEW - WALKING TOUR\n",
      "[youtube:playlist] playlist SHIBUYA STREET VIEW - WALKING TOUR: Downloading 5 videos\n",
      "[download] Downloading video 1 of 5\n",
      "[youtube] MIgJ62PuwwI: Downloading webpage\n",
      "[youtube] MIgJ62PuwwI: Downloading video info webpage\n",
      "[info] Writing video description metadata as JSON to: videos/MIgJ62PuwwI/data/MIgJ62PuwwI_3840x2160.info.json\n"
     ]
    },
    {
     "name": "stderr",
     "output_type": "stream",
     "text": [
      "WARNING: Requested formats are incompatible for merge and will be merged into mkv.\n"
     ]
    },
    {
     "name": "stdout",
     "output_type": "stream",
     "text": [
      "[download] Destination: videos/MIgJ62PuwwI/data/MIgJ62PuwwI_3840x2160.f313.webm\n",
      "[download] 100% of 2.31GiB in 07:5599MiB/s ETA 00:00known ETA\n",
      "[download] Destination: videos/MIgJ62PuwwI/data/MIgJ62PuwwI_3840x2160.f140.m4a\n",
      "[download] 100% of 17.02MiB in 00:0316MiB/s ETA 00:00known ETA\n",
      "[ffmpeg] Merging formats into \"videos/MIgJ62PuwwI/data/MIgJ62PuwwI_3840x2160.mkv\"\n",
      "Deleting original file videos/MIgJ62PuwwI/data/MIgJ62PuwwI_3840x2160.f313.webm (pass -k to keep)\n",
      "Deleting original file videos/MIgJ62PuwwI/data/MIgJ62PuwwI_3840x2160.f140.m4a (pass -k to keep)\n",
      "[download] Downloading video 2 of 5\n",
      "[youtube] FVj8yg9ZVMA: Downloading webpage\n",
      "[youtube] FVj8yg9ZVMA: Downloading video info webpage\n",
      "[info] Writing video description metadata as JSON to: videos/FVj8yg9ZVMA/data/FVj8yg9ZVMA_3840x2160.info.json\n"
     ]
    },
    {
     "name": "stderr",
     "output_type": "stream",
     "text": [
      "WARNING: Requested formats are incompatible for merge and will be merged into mkv.\n"
     ]
    },
    {
     "name": "stdout",
     "output_type": "stream",
     "text": [
      "[download] Destination: videos/FVj8yg9ZVMA/data/FVj8yg9ZVMA_3840x2160.f313.webm\n",
      "[download] 100% of 3.16GiB in 02:0688MiB/s ETA 00:003:24n ETA\n",
      "[download] Destination: videos/FVj8yg9ZVMA/data/FVj8yg9ZVMA_3840x2160.f140.m4a\n",
      "[download] 100% of 23.39MiB in 00:0052MiB/s ETA 00:004\n",
      "[ffmpeg] Merging formats into \"videos/FVj8yg9ZVMA/data/FVj8yg9ZVMA_3840x2160.mkv\"\n",
      "Deleting original file videos/FVj8yg9ZVMA/data/FVj8yg9ZVMA_3840x2160.f313.webm (pass -k to keep)\n",
      "Deleting original file videos/FVj8yg9ZVMA/data/FVj8yg9ZVMA_3840x2160.f140.m4a (pass -k to keep)\n",
      "[download] Downloading video 3 of 5\n",
      "[youtube] 5p-jINsOfVE: Downloading webpage\n",
      "[youtube] 5p-jINsOfVE: Downloading video info webpage\n",
      "[info] Writing video description metadata as JSON to: videos/5p-jINsOfVE/data/5p-jINsOfVE_3840x2160.info.json\n",
      "[download] Destination: videos/5p-jINsOfVE/data/5p-jINsOfVE_3840x2160.f313.webm\n",
      "[download] 100% of 2.39GiB in 01:0978MiB/s ETA 00:009nown ETA\n",
      "[download] Destination: videos/5p-jINsOfVE/data/5p-jINsOfVE_3840x2160.f251.webm\n",
      "[download] 100% of 18.68MiB in 00:0038MiB/s ETA 00:00known ETA\n",
      "[ffmpeg] Merging formats into \"videos/5p-jINsOfVE/data/5p-jINsOfVE_3840x2160.webm\"\n",
      "Deleting original file videos/5p-jINsOfVE/data/5p-jINsOfVE_3840x2160.f313.webm (pass -k to keep)\n",
      "Deleting original file videos/5p-jINsOfVE/data/5p-jINsOfVE_3840x2160.f251.webm (pass -k to keep)\n",
      "[download] Downloading video 4 of 5\n",
      "[youtube] ksbzGfGUa20: Downloading webpage\n",
      "[youtube] ksbzGfGUa20: Downloading video info webpage\n",
      "[info] Writing video description metadata as JSON to: videos/ksbzGfGUa20/data/ksbzGfGUa20_3840x2160.info.json\n"
     ]
    },
    {
     "name": "stderr",
     "output_type": "stream",
     "text": [
      "WARNING: Requested formats are incompatible for merge and will be merged into mkv.\n"
     ]
    },
    {
     "name": "stdout",
     "output_type": "stream",
     "text": [
      "[download] Destination: videos/ksbzGfGUa20/data/ksbzGfGUa20_3840x2160.f313.webm\n",
      "[download] 100% of 2.67GiB in 02:0258MiB/s ETA 00:000nown ETA\n",
      "[download] Destination: videos/ksbzGfGUa20/data/ksbzGfGUa20_3840x2160.f140.m4a\n",
      "[download] 100% of 19.81MiB in 00:0045MiB/s ETA 00:000\n",
      "[ffmpeg] Merging formats into \"videos/ksbzGfGUa20/data/ksbzGfGUa20_3840x2160.mkv\"\n",
      "Deleting original file videos/ksbzGfGUa20/data/ksbzGfGUa20_3840x2160.f313.webm (pass -k to keep)\n",
      "Deleting original file videos/ksbzGfGUa20/data/ksbzGfGUa20_3840x2160.f140.m4a (pass -k to keep)\n",
      "[download] Downloading video 5 of 5\n",
      "[youtube] MIgJ62PuwwI: Downloading webpage\n",
      "[youtube] MIgJ62PuwwI: Downloading video info webpage\n",
      "[info] Writing video description metadata as JSON to: videos/MIgJ62PuwwI/data/MIgJ62PuwwI_3840x2160.info.json\n"
     ]
    },
    {
     "name": "stderr",
     "output_type": "stream",
     "text": [
      "WARNING: Requested formats are incompatible for merge and will be merged into mkv.\n"
     ]
    },
    {
     "name": "stdout",
     "output_type": "stream",
     "text": [
      "[download] videos/MIgJ62PuwwI/data/MIgJ62PuwwI_3840x2160.mkv has already been downloaded and merged\n",
      "[download] Finished downloading playlist: SHIBUYA STREET VIEW - WALKING TOUR\n"
     ]
    }
   ],
   "source": [
    "yt_dl(url=url_p, playlist_items='0,1,2,3,4')"
   ]
  },
  {
   "cell_type": "markdown",
   "metadata": {},
   "source": [
    "## Multiprocessing"
   ]
  },
  {
   "cell_type": "code",
   "execution_count": 15,
   "metadata": {},
   "outputs": [],
   "source": [
    "import multiprocessing\n",
    "from multiprocessing import Pool\n",
    "from master_functions import *"
   ]
  },
  {
   "cell_type": "code",
   "execution_count": 20,
   "metadata": {},
   "outputs": [],
   "source": [
    "from functions import *\n",
    "from master_functions import *"
   ]
  },
  {
   "cell_type": "code",
   "execution_count": 7,
   "metadata": {},
   "outputs": [],
   "source": [
    "ids = os.listdir(pth_vids())"
   ]
  },
  {
   "cell_type": "code",
   "execution_count": 13,
   "metadata": {},
   "outputs": [
    {
     "data": {
      "text/plain": [
       "[None, None, None, None, None]"
      ]
     },
     "execution_count": 13,
     "metadata": {},
     "output_type": "execute_result"
    }
   ],
   "source": [
    "# Separtaing into multiple processes \n",
    "pool = Pool()\n",
    "\n",
    "pool.map(frame_xtrct,ids)"
   ]
  },
  {
   "cell_type": "code",
   "execution_count": 24,
   "metadata": {},
   "outputs": [
    {
     "name": "stdout",
     "output_type": "stream",
     "text": [
      "['9Ax-JrJ06fU', '5p-jINsOfVE', 'ksbzGfGUa20', 'FVj8yg9ZVMA', 'MIgJ62PuwwI']\n"
     ]
    }
   ],
   "source": [
    "print(ids)"
   ]
  },
  {
   "cell_type": "code",
   "execution_count": 25,
   "metadata": {},
   "outputs": [
    {
     "data": {
      "text/plain": [
       "'/home/dhacker/Draining-Youtube'"
      ]
     },
     "execution_count": 25,
     "metadata": {},
     "output_type": "execute_result"
    }
   ],
   "source": [
    "os.getcwd()"
   ]
  },
  {
   "cell_type": "code",
   "execution_count": 28,
   "metadata": {},
   "outputs": [
    {
     "name": "stdout",
     "output_type": "stream",
     "text": [
      "/home/dhacker/Draining-Youtube/videos/9Ax-JrJ06fU/data/9Ax-JrJ06fU_3840x2160.webm\n"
     ]
    }
   ],
   "source": [
    "xtrct_frame(v_id=ids[0])"
   ]
  },
  {
   "cell_type": "code",
   "execution_count": 29,
   "metadata": {},
   "outputs": [
    {
     "name": "stdout",
     "output_type": "stream",
     "text": [
      "yes\n",
      "yes\n",
      "yes\n",
      "yes\n",
      "yes\n",
      "/home/dhacker/Draining-Youtube/videos/FVj8yg9ZVMA/data/FVj8yg9ZVMA_3840x2160.mkv\n",
      "/home/dhacker/Draining-Youtube/videos/MIgJ62PuwwI/data/MIgJ62PuwwI_3840x2160.mkv\n",
      "/home/dhacker/Draining-Youtube/videos/9Ax-JrJ06fU/data/9Ax-JrJ06fU_3840x2160.webm\n",
      "/home/dhacker/Draining-Youtube/videos/5p-jINsOfVE/data/5p-jINsOfVE_3840x2160.webm\n",
      "/home/dhacker/Draining-Youtube/videos/ksbzGfGUa20/data/ksbzGfGUa20_3840x2160.mkv\n"
     ]
    }
   ],
   "source": [
    "jobs = []\n",
    "for v_id in ids:\n",
    "    p = multiprocessing.Process(target=xtrct_frame, args=(v_id,True))\n",
    "    jobs.append(p)\n",
    "    p.start()"
   ]
  }
 ],
 "metadata": {
  "kernelspec": {
   "display_name": "Python 3",
   "language": "python",
   "name": "python3"
  },
  "language_info": {
   "codemirror_mode": {
    "name": "ipython",
    "version": 3
   },
   "file_extension": ".py",
   "mimetype": "text/x-python",
   "name": "python",
   "nbconvert_exporter": "python",
   "pygments_lexer": "ipython3",
   "version": "3.7.3"
  },
  "toc": {
   "base_numbering": 1,
   "nav_menu": {},
   "number_sections": true,
   "sideBar": true,
   "skip_h1_title": false,
   "title_cell": "Table of Contents",
   "title_sidebar": "Contents",
   "toc_cell": false,
   "toc_position": {},
   "toc_section_display": true,
   "toc_window_display": false
  },
  "varInspector": {
   "cols": {
    "lenName": 16,
    "lenType": 16,
    "lenVar": 40
   },
   "kernels_config": {
    "python": {
     "delete_cmd_postfix": "",
     "delete_cmd_prefix": "del ",
     "library": "var_list.py",
     "varRefreshCmd": "print(var_dic_list())"
    },
    "r": {
     "delete_cmd_postfix": ") ",
     "delete_cmd_prefix": "rm(",
     "library": "var_list.r",
     "varRefreshCmd": "cat(var_dic_list()) "
    }
   },
   "types_to_exclude": [
    "module",
    "function",
    "builtin_function_or_method",
    "instance",
    "_Feature"
   ],
   "window_display": false
  }
 },
 "nbformat": 4,
 "nbformat_minor": 2
}
