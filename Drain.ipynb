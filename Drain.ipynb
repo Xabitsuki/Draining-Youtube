{
 "cells": [
  {
   "cell_type": "code",
   "execution_count": 5,
   "metadata": {
    "scrolled": true
   },
   "outputs": [
    {
     "name": "stdout",
     "output_type": "stream",
     "text": [
      "The autoreload extension is already loaded. To reload it, use:\n",
      "  %reload_ext autoreload\n"
     ]
    }
   ],
   "source": [
    "%load_ext autoreload\n",
    "%autoreload 2\n",
    "\n",
    "import smtplib as smtp \n",
    "import ssl \n",
    "import os\n",
    "\n",
    "import queue\n",
    "import multiprocessing\n",
    "\n",
    "from functions import *\n",
    "from master_functions import * "
   ]
  },
  {
   "cell_type": "markdown",
   "metadata": {
    "heading_collapsed": true
   },
   "source": [
    "## Mail"
   ]
  },
  {
   "cell_type": "code",
   "execution_count": 2,
   "metadata": {
    "hidden": true
   },
   "outputs": [],
   "source": [
    "mail = 'drainingytb@gmail.com'\n",
    "pswd = 'YoDH@ck3r'"
   ]
  },
  {
   "cell_type": "code",
   "execution_count": 3,
   "metadata": {
    "hidden": true
   },
   "outputs": [],
   "source": [
    "ssl_cntxt = ssl.create_default_context()"
   ]
  },
  {
   "cell_type": "code",
   "execution_count": 14,
   "metadata": {
    "hidden": true
   },
   "outputs": [],
   "source": [
    "smtp.SMTP_SSL()\n",
    "\n",
    "\n",
    "with smtplib.SMTP_SSL(\"smtp.gmail.com\", port=465, context=ssl_cntxt) as server:\n",
    "    server.login(mail, pswd)\n",
    "    server.sendmail(from_addr=mail,\n",
    "                    to_addrs='xabier.rubiato@epfl.ch',\n",
    "                    msg='Finish Process')"
   ]
  },
  {
   "cell_type": "markdown",
   "metadata": {},
   "source": [
    "## Download"
   ]
  },
  {
   "cell_type": "code",
   "execution_count": 16,
   "metadata": {},
   "outputs": [],
   "source": [
    "from multiprocessing import Process, Queue, current_process, freeze_support"
   ]
  },
  {
   "cell_type": "code",
   "execution_count": 2,
   "metadata": {},
   "outputs": [],
   "source": [
    "URL = 'https://www.youtube.com/watch?v=2S7Yak00e6E&list=PLeu1bSfyWCDK4KgsF2pJybJkWXKPHgD6b'\n",
    "PLAYLIST = 'test'\n",
    "N_ITEMS = 6 \n",
    "PTH_PLYLST = pth_plylst(name=PLAYLIST)"
   ]
  },
  {
   "cell_type": "code",
   "execution_count": 4,
   "metadata": {
    "scrolled": true
   },
   "outputs": [
    {
     "name": "stdout",
     "output_type": "stream",
     "text": [
      "Start download of playlist : test\n",
      "\n",
      "[youtube:playlist] Downloading playlist PLeu1bSfyWCDK4KgsF2pJybJkWXKPHgD6b - add --no-playlist to just download video 2S7Yak00e6E\n",
      "[youtube:playlist] PLeu1bSfyWCDK4KgsF2pJybJkWXKPHgD6b: Downloading webpage\n",
      "[download] Downloading playlist: Alignments as vines\n",
      "[youtube:playlist] playlist Alignments as vines: Downloading 6 videos\n",
      "[download] Downloading video 1 of 6\n",
      "[youtube] 2S7Yak00e6E: Downloading webpage\n",
      "[youtube] 2S7Yak00e6E: Downloading video info webpage\n",
      "[info] Writing video description metadata as JSON to: videos/test/2S7Yak00e6E/data/2S7Yak00e6E_1920x1080.info.json\n"
     ]
    },
    {
     "name": "stderr",
     "output_type": "stream",
     "text": [
      "WARNING: Requested formats are incompatible for merge and will be merged into mkv.\n"
     ]
    },
    {
     "name": "stdout",
     "output_type": "stream",
     "text": [
      "[download] videos/test/2S7Yak00e6E/data/2S7Yak00e6E_1920x1080.mkv has already been downloaded and merged\n",
      "[download] Downloading video 2 of 6\n",
      "[youtube] qoqZ9T5O29g: Downloading webpage\n",
      "[youtube] qoqZ9T5O29g: Downloading video info webpage\n",
      "[info] Writing video description metadata as JSON to: videos/test/qoqZ9T5O29g/data/qoqZ9T5O29g_1920x1080.info.json\n"
     ]
    },
    {
     "name": "stderr",
     "output_type": "stream",
     "text": [
      "WARNING: Requested formats are incompatible for merge and will be merged into mkv.\n"
     ]
    },
    {
     "name": "stdout",
     "output_type": "stream",
     "text": [
      "[download] videos/test/qoqZ9T5O29g/data/qoqZ9T5O29g_1920x1080.mkv has already been downloaded and merged\n",
      "[download] Downloading video 3 of 6\n",
      "[youtube] IMVmevu6mE4: Downloading webpage\n",
      "[youtube] IMVmevu6mE4: Downloading embed webpage\n",
      "[youtube] IMVmevu6mE4: Refetching age-gated info webpage\n",
      "[info] Writing video description metadata as JSON to: videos/test/IMVmevu6mE4/data/IMVmevu6mE4_1920x1080.info.json\n",
      "[download] videos/test/IMVmevu6mE4/data/IMVmevu6mE4_1920x1080.mp4 has already been downloaded and merged\n",
      "[download] Downloading video 4 of 6\n",
      "[youtube] MNMYYEdJoC0: Downloading webpage\n",
      "[youtube] MNMYYEdJoC0: Downloading video info webpage\n",
      "[info] Writing video description metadata as JSON to: videos/test/MNMYYEdJoC0/data/MNMYYEdJoC0_1920x1080.info.json\n",
      "[download] videos/test/MNMYYEdJoC0/data/MNMYYEdJoC0_1920x1080.mp4 has already been downloaded and merged\n",
      "[download] Downloading video 5 of 6\n",
      "[youtube] -Ia18bqO-9w: Downloading webpage\n",
      "[youtube] -Ia18bqO-9w: Downloading video info webpage\n",
      "[info] Writing video description metadata as JSON to: videos/test/-Ia18bqO-9w/data/-Ia18bqO-9w_1920x1080.info.json\n"
     ]
    },
    {
     "name": "stderr",
     "output_type": "stream",
     "text": [
      "WARNING: Requested formats are incompatible for merge and will be merged into mkv.\n"
     ]
    },
    {
     "name": "stdout",
     "output_type": "stream",
     "text": [
      "[download] videos/test/-Ia18bqO-9w/data/-Ia18bqO-9w_1920x1080.mkv has already been downloaded and merged\n",
      "[download] Downloading video 6 of 6\n",
      "[youtube] yd7d51AgSso: Downloading webpage\n",
      "[youtube] yd7d51AgSso: Downloading video info webpage\n",
      "[info] Writing video description metadata as JSON to: videos/test/yd7d51AgSso/data/yd7d51AgSso_1920x1080.info.json\n",
      "[download] Destination: videos/test/yd7d51AgSso/data/yd7d51AgSso_1920x1080.f248.webm\n",
      "[download] 100% of 43.28MiB in 00:1157MiB/s ETA 00:005\n",
      "[download] Destination: videos/test/yd7d51AgSso/data/yd7d51AgSso_1920x1080.f251.webm\n",
      "[download] 100% of 4.08MiB in 00:0168MiB/s ETA 00:004\n",
      "[ffmpeg] Merging formats into \"videos/test/yd7d51AgSso/data/yd7d51AgSso_1920x1080.webm\"\n",
      "Deleting original file videos/test/yd7d51AgSso/data/yd7d51AgSso_1920x1080.f248.webm (pass -k to keep)\n",
      "Deleting original file videos/test/yd7d51AgSso/data/yd7d51AgSso_1920x1080.f251.webm (pass -k to keep)\n",
      "[download] Finished downloading playlist: Alignments as vines\n",
      "Finish download of playlist : test\n",
      "\n"
     ]
    }
   ],
   "source": [
    "print('Start download of playlist : {}\\n'.format(PLAYLIST))\n",
    "yt_dl(url= URL,\n",
    "      playlist=PLAYLIST,\n",
    "      n_items= N_ITEMS)\n",
    "print('Finish download of playlist : {}\\n'.format(PLAYLIST))"
   ]
  },
  {
   "cell_type": "markdown",
   "metadata": {},
   "source": [
    "## Multiprocessing"
   ]
  },
  {
   "cell_type": "code",
   "execution_count": 8,
   "metadata": {},
   "outputs": [],
   "source": [
    "from functions import pth_plylst"
   ]
  },
  {
   "cell_type": "code",
   "execution_count": 9,
   "metadata": {
    "scrolled": true
   },
   "outputs": [
    {
     "name": "stdout",
     "output_type": "stream",
     "text": [
      "Number of videos in test : 6\n",
      "\n",
      "['qoqZ9T5O29g', 'MNMYYEdJoC0', 'IMVmevu6mE4', '-Ia18bqO-9w', 'yd7d51AgSso', '2S7Yak00e6E']\n"
     ]
    }
   ],
   "source": [
    "# Get v_ids in playlist \n",
    "\n",
    "v_ids = os.listdir(pth_plylst(name=PLAYLIST))\n",
    "\n",
    "print('Number of videos in {} : {}\\n'.format(PLAYLIST, len(v_ids)))\n",
    "print(v_ids)"
   ]
  },
  {
   "cell_type": "code",
   "execution_count": 15,
   "metadata": {},
   "outputs": [],
   "source": [
    "# Get number of cpus available \n",
    "\n",
    "NUMBER_CPUs = multiprocessing.cpu_count()"
   ]
  },
  {
   "cell_type": "code",
   "execution_count": null,
   "metadata": {
    "code_folding": []
   },
   "outputs": [],
   "source": [
    "import time\n",
    "import random\n",
    "\n",
    "from multiprocessing import Process, Queue, current_process, freeze_support\n",
    "\n",
    "#\n",
    "# Function run by worker processes\n",
    "#\n",
    "\n",
    "def worker(input, output):\n",
    "    for func, args in iter(input.get, 'STOP'):\n",
    "        result = calculate(func, args)\n",
    "        output.put(result)\n",
    "\n",
    "#\n",
    "# Function used to calculate result\n",
    "#\n",
    "\n",
    "def calculate(func, args):\n",
    "    result = func(*args)\n",
    "    return '%s says that %s%s = %s' % \\\n",
    "        (current_process().name, func.__name__, args, result)\n",
    "\n",
    "#\n",
    "# Functions referenced by tasks\n",
    "#\n",
    "\n",
    "def Qiter0(v_id, plylst='', task_queue):\n",
    "    iter0(v_id, plylst)\n",
    "    pth = pth_sets(v_id, plylst\n",
    "    pth_sets = [os.path.join(pth, el) for el in os.listdir(pth)]\n",
    "    # Enqueue the next tasks: \n",
    "    for pth_set in pth_sets:\n",
    "        task_queue.put((sfm_pipe, pth_set))\n",
    "                   \n",
    "\n",
    "def plus(a, b):\n",
    "    time.sleep(0.5*random.random())\n",
    "    return a + b\n",
    "\n",
    "#\n",
    "#\n",
    "#\n",
    "\n",
    "def drain(plylsts):\n",
    "    NUMBER_OF_PROCESSES = NUMBER_CPUs\n",
    "    TASKS_ITER0s = [(Qiter0, v_id, ) for v_id in v_ids]\n",
    "    #TASKS_SFM_PIPE = [(XXXXXX, (pth_set)) for pth_set in sets]\n",
    "\n",
    "    # Create queues\n",
    "    task_queue = Queue()\n",
    "    done_queue = Queue()\n",
    "\n",
    "    # Submit tasks\n",
    "    for task in TASKS1:\n",
    "        task_queue.put(task)\n",
    "\n",
    "    # Start worker processes\n",
    "    for i in range(NUMBER_OF_PROCESSES):\n",
    "        Process(target=worker, args=(task_queue, done_queue)).start()\n",
    "\n",
    "    # Get and print results\n",
    "    print('Unordered results:')\n",
    "    for i in range(len(TASKS1)):\n",
    "        print('\\t', done_queue.get())\n",
    "\n",
    "    # Add more tasks using `put()`\n",
    "    for task in TASKS2:\n",
    "        task_queue.put(task)\n",
    "\n",
    "    # Get and print some more results\n",
    "    for i in range(len(TASKS2)):\n",
    "        print('\\t', done_queue.get())\n",
    "\n",
    "    # Tell child processes to stop\n",
    "    for i in range(NUMBER_OF_PROCESSES):\n",
    "        task_queue.put('STOP')\n",
    "\n",
    "\n",
    "if __name__ == '__main__':\n",
    "    freeze_support()\n",
    "    test()"
   ]
  },
  {
   "cell_type": "markdown",
   "metadata": {},
   "source": [
    "## Tests"
   ]
  },
  {
   "cell_type": "code",
   "execution_count": 46,
   "metadata": {},
   "outputs": [],
   "source": [
    "from functions import * \n",
    "from master_functions import iter0 "
   ]
  },
  {
   "cell_type": "code",
   "execution_count": 42,
   "metadata": {},
   "outputs": [
    {
     "name": "stdout",
     "output_type": "stream",
     "text": [
      "[youtube] ftlvreFtA2A: Downloading webpage\n",
      "[youtube] ftlvreFtA2A: Downloading video info webpage\n",
      "[youtube] Downloading just video ftlvreFtA2A because of --no-playlist\n",
      "[info] Writing video description metadata as JSON to: videos/ftlvreFtA2A/data/ftlvreFtA2A_3840x2160.info.json\n",
      "[download] videos/ftlvreFtA2A/data/ftlvreFtA2A_3840x2160.webm has already been downloaded and merged\n"
     ]
    }
   ],
   "source": [
    "url = 'https://www.youtube.com/watch?v=ftlvreFtA2A0'\n",
    "v_id = url_to_id(url)\n",
    "yt_dl(url)\n",
    "path_vid = pth_vid(v_id)"
   ]
  },
  {
   "cell_type": "code",
   "execution_count": 7,
   "metadata": {
    "scrolled": true
   },
   "outputs": [
    {
     "name": "stdout",
     "output_type": "stream",
     "text": [
      "/Users/xrubiato/DHLab/Draining-Youtube/videos/ftlvreFtA2A0/frames\n"
     ]
    },
    {
     "ename": "FileNotFoundError",
     "evalue": "[Errno 2] No such file or directory: '/Users/xrubiato/DHLab/Draining-Youtube/videos/ftlvreFtA2A0/iter0/features/matches.f.txt'",
     "output_type": "error",
     "traceback": [
      "\u001b[0;31m---------------------------------------------------------------------------\u001b[0m",
      "\u001b[0;31mFileNotFoundError\u001b[0m                         Traceback (most recent call last)",
      "\u001b[0;32m<ipython-input-7-bd1c58d1062a>\u001b[0m in \u001b[0;36m<module>\u001b[0;34m\u001b[0m\n\u001b[1;32m      5\u001b[0m \u001b[0mv_id\u001b[0m \u001b[0;34m=\u001b[0m \u001b[0murl_to_id\u001b[0m\u001b[0;34m(\u001b[0m\u001b[0murl\u001b[0m\u001b[0;34m)\u001b[0m\u001b[0;34m\u001b[0m\u001b[0;34m\u001b[0m\u001b[0m\n\u001b[1;32m      6\u001b[0m \u001b[0mpath_vid\u001b[0m \u001b[0;34m=\u001b[0m \u001b[0mpth_vid\u001b[0m\u001b[0;34m(\u001b[0m\u001b[0mv_id\u001b[0m\u001b[0;34m)\u001b[0m\u001b[0;34m\u001b[0m\u001b[0;34m\u001b[0m\u001b[0m\n\u001b[0;32m----> 7\u001b[0;31m \u001b[0miter0\u001b[0m\u001b[0;34m(\u001b[0m\u001b[0mpath_vid\u001b[0m\u001b[0;34m,\u001b[0m \u001b[0msample\u001b[0m\u001b[0;34m=\u001b[0m\u001b[0;32mTrue\u001b[0m\u001b[0;34m)\u001b[0m\u001b[0;34m\u001b[0m\u001b[0;34m\u001b[0m\u001b[0m\n\u001b[0m",
      "\u001b[0;32m~/DHLab/Draining-Youtube/master_functions.py\u001b[0m in \u001b[0;36miter0\u001b[0;34m(path_vid, sample)\u001b[0m\n\u001b[1;32m     60\u001b[0m \u001b[0;34m\u001b[0m\u001b[0m\n\u001b[1;32m     61\u001b[0m     \u001b[0;31m# Make sets\u001b[0m\u001b[0;34m\u001b[0m\u001b[0;34m\u001b[0m\u001b[0;34m\u001b[0m\u001b[0m\n\u001b[0;32m---> 62\u001b[0;31m     \u001b[0mmake_sets\u001b[0m\u001b[0;34m(\u001b[0m\u001b[0mv_id\u001b[0m\u001b[0;34m,\u001b[0m \u001b[0mplylst\u001b[0m\u001b[0;34m)\u001b[0m\u001b[0;34m\u001b[0m\u001b[0;34m\u001b[0m\u001b[0m\n\u001b[0m\u001b[1;32m     63\u001b[0m     \u001b[0mremove_ds_store\u001b[0m\u001b[0;34m(\u001b[0m\u001b[0mpth_sets\u001b[0m\u001b[0;34m(\u001b[0m\u001b[0;34m)\u001b[0m\u001b[0;34m)\u001b[0m\u001b[0;34m\u001b[0m\u001b[0;34m\u001b[0m\u001b[0m\n\u001b[1;32m     64\u001b[0m \u001b[0;34m\u001b[0m\u001b[0m\n",
      "\u001b[0;32m~/DHLab/Draining-Youtube/master_functions.py\u001b[0m in \u001b[0;36mmake_sets\u001b[0;34m(v_id, plylst)\u001b[0m\n\u001b[1;32m     25\u001b[0m \u001b[0;34m\u001b[0m\u001b[0m\n\u001b[1;32m     26\u001b[0m     triangles = split_triangles(mtchs_bin_to_mat(path_mtchs=pth_iter0_mtchs(v_id, plylst),\n\u001b[0;32m---> 27\u001b[0;31m                                                  path_frames=pth_frms(v_id, plylst)))\n\u001b[0m\u001b[1;32m     28\u001b[0m \u001b[0;34m\u001b[0m\u001b[0m\n\u001b[1;32m     29\u001b[0m     move_triangles(triangles=triangles,\n",
      "\u001b[0;32m~/DHLab/Draining-Youtube/functions.py\u001b[0m in \u001b[0;36mmtchs_bin_to_mat\u001b[0;34m(path_mtchs, path_frames)\u001b[0m\n\u001b[1;32m    433\u001b[0m \u001b[0;34m\u001b[0m\u001b[0m\n\u001b[1;32m    434\u001b[0m     \u001b[0;32mreturn\u001b[0m \u001b[0mmake_adj_mat\u001b[0m\u001b[0;34m(\u001b[0m\u001b[0mextract_matches\u001b[0m\u001b[0;34m(\u001b[0m\u001b[0mpath_mtchs\u001b[0m\u001b[0;34m)\u001b[0m\u001b[0;34m,\u001b[0m \u001b[0mpath_frames\u001b[0m\u001b[0;34m)\u001b[0m\u001b[0;34m\u001b[0m\u001b[0;34m\u001b[0m\u001b[0m\n\u001b[0;32m--> 435\u001b[0;31m \u001b[0;34m\u001b[0m\u001b[0m\n\u001b[0m\u001b[1;32m    436\u001b[0m \u001b[0;34m\u001b[0m\u001b[0m\n\u001b[1;32m    437\u001b[0m \u001b[0;32mdef\u001b[0m \u001b[0msplit_triangles\u001b[0m\u001b[0;34m(\u001b[0m\u001b[0madj_mat\u001b[0m\u001b[0;34m,\u001b[0m \u001b[0mtol\u001b[0m\u001b[0;34m=\u001b[0m\u001b[0;36m30\u001b[0m\u001b[0;34m)\u001b[0m\u001b[0;34m:\u001b[0m\u001b[0;34m\u001b[0m\u001b[0;34m\u001b[0m\u001b[0m\n",
      "\u001b[0;32m~/DHLab/Draining-Youtube/functions.py\u001b[0m in \u001b[0;36mextract_matches\u001b[0;34m(path_mtchs)\u001b[0m\n\u001b[1;32m    391\u001b[0m     \u001b[0;31m# Open and read matches file\u001b[0m\u001b[0;34m\u001b[0m\u001b[0;34m\u001b[0m\u001b[0;34m\u001b[0m\u001b[0m\n\u001b[1;32m    392\u001b[0m     \u001b[0mf\u001b[0m \u001b[0;34m=\u001b[0m \u001b[0mopen\u001b[0m\u001b[0;34m(\u001b[0m\u001b[0mpath_mtchs\u001b[0m\u001b[0;34m,\u001b[0m \u001b[0mmode\u001b[0m\u001b[0;34m=\u001b[0m\u001b[0;34m'r'\u001b[0m\u001b[0;34m)\u001b[0m\u001b[0;34m\u001b[0m\u001b[0;34m\u001b[0m\u001b[0m\n\u001b[0;32m--> 393\u001b[0;31m     \u001b[0mstring_file\u001b[0m \u001b[0;34m=\u001b[0m \u001b[0mf\u001b[0m\u001b[0;34m.\u001b[0m\u001b[0mread\u001b[0m\u001b[0;34m(\u001b[0m\u001b[0;34m)\u001b[0m\u001b[0;34m\u001b[0m\u001b[0;34m\u001b[0m\u001b[0m\n\u001b[0m\u001b[1;32m    394\u001b[0m \u001b[0;34m\u001b[0m\u001b[0m\n\u001b[1;32m    395\u001b[0m     \u001b[0;31m# Convert to list of lines\u001b[0m\u001b[0;34m\u001b[0m\u001b[0;34m\u001b[0m\u001b[0;34m\u001b[0m\u001b[0m\n",
      "\u001b[0;31mFileNotFoundError\u001b[0m: [Errno 2] No such file or directory: '/Users/xrubiato/DHLab/Draining-Youtube/videos/ftlvreFtA2A0/iter0/features/matches.f.txt'"
     ]
    }
   ],
   "source": [
    "from functions import *\n",
    "from master_functions import iter0\n",
    "\n",
    "url = 'https://www.youtube.com/watch?v=ftlvreFtA2A0'\n",
    "yt_dl(url)\n",
    "\n",
    "v_id = url_to_id(url)\n",
    "path_vid = pth_vid(v_id)\n",
    "iter0(path_vid, sample=True)"
   ]
  }
 ],
 "metadata": {
  "kernelspec": {
   "display_name": "Python 3",
   "language": "python",
   "name": "python3"
  },
  "language_info": {
   "codemirror_mode": {
    "name": "ipython",
    "version": 3
   },
   "file_extension": ".py",
   "mimetype": "text/x-python",
   "name": "python",
   "nbconvert_exporter": "python",
   "pygments_lexer": "ipython3",
   "version": "3.6.8"
  },
  "toc": {
   "base_numbering": 1,
   "nav_menu": {},
   "number_sections": true,
   "sideBar": true,
   "skip_h1_title": false,
   "title_cell": "Table of Contents",
   "title_sidebar": "Contents",
   "toc_cell": false,
   "toc_position": {},
   "toc_section_display": true,
   "toc_window_display": false
  },
  "varInspector": {
   "cols": {
    "lenName": 16,
    "lenType": 16,
    "lenVar": 40
   },
   "kernels_config": {
    "python": {
     "delete_cmd_postfix": "",
     "delete_cmd_prefix": "del ",
     "library": "var_list.py",
     "varRefreshCmd": "print(var_dic_list())"
    },
    "r": {
     "delete_cmd_postfix": ") ",
     "delete_cmd_prefix": "rm(",
     "library": "var_list.r",
     "varRefreshCmd": "cat(var_dic_list()) "
    }
   },
   "types_to_exclude": [
    "module",
    "function",
    "builtin_function_or_method",
    "instance",
    "_Feature"
   ],
   "window_display": false
  }
 },
 "nbformat": 4,
 "nbformat_minor": 2
}
