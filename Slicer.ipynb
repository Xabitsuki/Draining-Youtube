{
 "cells": [
  {
   "cell_type": "code",
   "execution_count": 36,
   "metadata": {},
   "outputs": [],
   "source": [
    "%load_ext autoreload\n",
    "\n",
    "%autoreload 2"
   ]
  },
  {
   "cell_type": "code",
   "execution_count": 40,
   "metadata": {},
   "outputs": [],
   "source": [
    "import os \n",
    "from functions import yt_dl, get_dic_info, pth_vid, pth_data, xtrct_vid"
   ]
  },
  {
   "cell_type": "code",
   "execution_count": 30,
   "metadata": {},
   "outputs": [],
   "source": [
    "path = '/Users/xrubiato/DHLab/Draining-Youtube/videos/9Ax-JrJ06fU'"
   ]
  },
  {
   "cell_type": "code",
   "execution_count": 44,
   "metadata": {},
   "outputs": [
    {
     "data": {
      "text/plain": [
       "'9Ax-JrJ06fU'"
      ]
     },
     "execution_count": 44,
     "metadata": {},
     "output_type": "execute_result"
    }
   ],
   "source": [
    "pth_data('9Ax-JrJ06fU').split(sep='/')[-3]"
   ]
  },
  {
   "cell_type": "code",
   "execution_count": 24,
   "metadata": {},
   "outputs": [
    {
     "name": "stdout",
     "output_type": "stream",
     "text": [
      "(0, 1)\n",
      "(50, 51)\n",
      "(100, 101)\n",
      "(150, 151)\n",
      "(200, 201)\n",
      "(250, 251)\n",
      "(300, 301)\n",
      "(301, 370)\n"
     ]
    }
   ],
   "source": [
    "def slicer(path_vid_dir, part_length=600):\n",
    "    \n",
    "    vid = path_vid_dir.split(sep='/')[-1]\n",
    "    plylst = path_vid_dir.split(sep='/')[-2]\n",
    "    if plylst == 'videos': plyst = ''\n",
    "    \n",
    "    path_data(vid=vid, plyst=plyst)\n",
    "    duration = get_dic_info(path_vid_dir)['duration']\n",
    "    quotient = duration//part_length \n",
    "\n",
    "    \n",
    "    duration \n",
    "    \n",
    "    quotient = duration// part_length\n",
    "    \n",
    "    for i in range(quotient): \n",
    "    \n",
    "        start = i * parth_length\n",
    "        stop = start + parth_length - 1 \n",
    "    \n",
    "    \n",
    "    \n",
    "    if not quotient == 0: \n",
    "        x1 = 0 \n",
    "        for i in range(quotient): \n",
    "            x1 = i*part_lentght \n",
    "            x2 = \n",
    "            start = i*part_length\n",
    "            stop = \n",
    "            xtrct_vid('')\n",
    "            print((i*part_length, i*part_length+1))\n",
    "\n",
    "\n",
    "\n",
    "        print(((quotient-1)*part_length+1, duration))"
   ]
  }
 ],
 "metadata": {
  "kernelspec": {
   "display_name": "Python 3",
   "language": "python",
   "name": "python3"
  },
  "language_info": {
   "codemirror_mode": {
    "name": "ipython",
    "version": 3
   },
   "file_extension": ".py",
   "mimetype": "text/x-python",
   "name": "python",
   "nbconvert_exporter": "python",
   "pygments_lexer": "ipython3",
   "version": "3.6.8"
  },
  "toc": {
   "base_numbering": 1,
   "nav_menu": {},
   "number_sections": true,
   "sideBar": true,
   "skip_h1_title": false,
   "title_cell": "Table of Contents",
   "title_sidebar": "Contents",
   "toc_cell": false,
   "toc_position": {},
   "toc_section_display": true,
   "toc_window_display": false
  },
  "varInspector": {
   "cols": {
    "lenName": 16,
    "lenType": 16,
    "lenVar": 40
   },
   "kernels_config": {
    "python": {
     "delete_cmd_postfix": "",
     "delete_cmd_prefix": "del ",
     "library": "var_list.py",
     "varRefreshCmd": "print(var_dic_list())"
    },
    "r": {
     "delete_cmd_postfix": ") ",
     "delete_cmd_prefix": "rm(",
     "library": "var_list.r",
     "varRefreshCmd": "cat(var_dic_list()) "
    }
   },
   "types_to_exclude": [
    "module",
    "function",
    "builtin_function_or_method",
    "instance",
    "_Feature"
   ],
   "window_display": false
  }
 },
 "nbformat": 4,
 "nbformat_minor": 2
}
